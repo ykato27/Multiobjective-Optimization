{
 "cells": [
  {
   "cell_type": "markdown",
   "id": "9b6627f4",
   "metadata": {},
   "source": [
    "# Tutorial：1 \n",
    "- 使用フレームワーク : deap\n",
    "- 選択手法 : NSGA-Ⅱ\n",
    "- 設計変数 : 2個\n",
    "  - 連続値 : 2個\n",
    "- 目的変数 : 2個\n",
    "- 制約条件 : 1パターン\n",
    "    1. 連続値のmin,max \n",
    "\n",
    "## 習得してもらうこと\n",
    "- deapの使い方\n",
    "- NSGA-Ⅱの場合の流れ\n",
    "- 設計変数が連続値である時の扱い方\n",
    "- 制約条件が連続値のmin, maxの場合の扱い方\n",
    "\n",
    "## 実施内容\n",
    " - Part0. 取り扱う問題設定\n",
    "\n",
    " - Patr1: モジュールのimport \n",
    "\n",
    " - Part2: 評価関数の作成\n",
    "   - 目的関数の設計\n",
    "   - ペナルティ関数の導入\n",
    "\n",
    "\n",
    " - Part3: 遺伝的アルゴリズムの設計\n",
    "   - 遺伝的アルゴリズムにおける個体の表現\n",
    "   - 遺伝子操作関数の設定\n",
    "     - 交叉\n",
    "     - 突然変異\n",
    "   - 解の選択手法の設定\n",
    "\n",
    "\n",
    " - Part4: 最適化計算の実行\n",
    "   - 初期状態の設定\n",
    "   - 遺伝的最適化計算の実行  \n",
    "\n",
    "\n",
    " - Part5. 結果の確認\n",
    "   - 初期世代と最終世代の目的関数の値を確認\n",
    "   - 制約条件を満たした値であるか確認\n",
    "   - ハイパーボリューム"
   ]
  },
  {
   "cell_type": "markdown",
   "id": "5389fcf9",
   "metadata": {},
   "source": [
    "# Part0. 取り扱う問題設定\n",
    "\n",
    "$\n",
    "\\begin{align*}\n",
    "&Minimize& f_1 & = 4A^2 + 4B^2 \\\\\n",
    "&Minimize& f_2 & = (A - 5)^2 + (B - 5)^2 \\\\\n",
    "&s.t.& 0& \\leqq  A  \\leqq 5 \\\\\n",
    "& & 0& \\leqq  B  \\leqq 3\n",
    "\\end{align*}\n",
    "$"
   ]
  },
  {
   "cell_type": "markdown",
   "id": "aa0720ef",
   "metadata": {},
   "source": [
    "# Part1. モジュールのimport"
   ]
  },
  {
   "cell_type": "code",
   "execution_count": 1,
   "id": "5bb717f8",
   "metadata": {},
   "outputs": [],
   "source": [
    "%load_ext lab_black"
   ]
  },
  {
   "cell_type": "code",
   "execution_count": 2,
   "id": "885d536b",
   "metadata": {},
   "outputs": [],
   "source": [
    "import random\n",
    "import numpy as np\n",
    "import matplotlib.pyplot as plt\n",
    "from functools import partial\n",
    "\n",
    "from deap import base, creator, tools\n",
    "from deap.benchmarks.tools import hypervolume"
   ]
  },
  {
   "cell_type": "markdown",
   "id": "d23f0161",
   "metadata": {},
   "source": [
    "# Part2. 評価関数の作成\n",
    "\n",
    "#### 進化計算における評価関数は二つの要素からなります\n",
    "\n",
    "- 最適解を見つけたい目的関数\n",
    "- 設計変数が制約を満たさない時に淘汰されるように設定するペナルティ関数"
   ]
  },
  {
   "cell_type": "markdown",
   "id": "a0036a04",
   "metadata": {},
   "source": [
    "### 目的関数\n",
    "- 目的変数のf1, f2 を最小化する多目的最適化問題を解きます\n",
    "\n",
    "$\n",
    "\\begin{align*}\n",
    "&Minimize& f_1 & = 4A^2 + 4B^2 \\\\\n",
    "&Minimize& f_2 & = (A - 5)^2 + (B - 5)^2\n",
    "\\end{align*}\n",
    "$"
   ]
  },
  {
   "cell_type": "code",
   "execution_count": 3,
   "id": "6a1c4b78",
   "metadata": {},
   "outputs": [],
   "source": [
    "# 評価関数\n",
    "def objectfunction(individual):\n",
    "    \"\"\"\n",
    "    individual(list): 個体の設計変数を格納するlist\n",
    "    \"\"\"\n",
    "\n",
    "    # 教材用として、A, Bの変数を作成\n",
    "    A = individual[0]\n",
    "    B = individual[1]\n",
    "\n",
    "    f1 = 4 * A ** 2 + 4 * B ** 2\n",
    "    f2 = (A - 5) ** 2 + (B - 5) ** 2\n",
    "\n",
    "    return f1, f2"
   ]
  },
  {
   "cell_type": "markdown",
   "id": "1268f35d",
   "metadata": {},
   "source": [
    "### ペナルティ関数\n",
    "\n",
    "- 各個体の遺伝子（変数）が制約条件の範囲外にある場合、次世代に個体が残らないようにペナルティ関数を用いて淘汰します\n",
    "\n",
    "$ \n",
    "\\begin{align*}\n",
    "&s.t.& 0 \\leqq  & A  \\leqq 5 \\\\\n",
    "& & 0 \\leqq  & B  \\leqq 3\n",
    "\\end{align*}\n",
    "$"
   ]
  },
  {
   "cell_type": "code",
   "execution_count": 4,
   "id": "e32eb068",
   "metadata": {},
   "outputs": [],
   "source": [
    "# ペナルティ関数で判定したい制約条件のリスト\n",
    "# 教材用にこちらで定義していますが。後ほど登場する「generator_config」から作れるようにした方が良いです\n",
    "cases = [\n",
    "    {\n",
    "        \"type\": \"minmax\",\n",
    "        \"case\": {\n",
    "            0: {\"min\": 0, \"max\": 5},  # 設計変数:A\n",
    "            1: {\"min\": 0, \"max\": 3},  # 設計変数:B\n",
    "        },\n",
    "    },\n",
    "]"
   ]
  },
  {
   "cell_type": "code",
   "execution_count": 5,
   "id": "970d0f99",
   "metadata": {},
   "outputs": [],
   "source": [
    "# ペナルティ関数で使用する関数\n",
    "# 連続値の範囲制約\n",
    "def judgeminmax(individual, case):\n",
    "    for k, v in case.items():\n",
    "        if not float(v[\"min\"]) <= individual[int(k)] <= v[\"max\"]:\n",
    "            return False\n",
    "    return True\n",
    "\n",
    "\n",
    "# ペナルティ関数用の条件判定関数 - 他の条件が出来た時にfor文内に追記することで対応可\n",
    "def judge(individual, cases):\n",
    "    \"\"\"\n",
    "    individual(list): 個体の設計変数を格納するlist\n",
    "    cases(list): 判定したい条件のlist. 各条件はdict型\n",
    "    \"\"\"\n",
    "\n",
    "    for case in cases:\n",
    "        if case[\"type\"] == \"minmax\":\n",
    "            if not judgeminmax(individual, case[\"case\"]):\n",
    "                return False\n",
    "    return True"
   ]
  },
  {
   "cell_type": "markdown",
   "id": "990ee0e7",
   "metadata": {},
   "source": [
    "### ペナルティ関数導入手順\n",
    "\n",
    "- `個体が制約条件を満たしているか判断する関数feasible`をtoolboxに登録\n",
    "- 登録したばかりの`feasible`を使用したペナルティ関数`DeltaPenality`をデコレート（関数の修飾）\n",
    "\n",
    "\n",
    "#### ペナルティ関数`DeltaPenality`とは\n",
    "- deapに用意されているペナルティ関数\n",
    "- [DeltaPenalitについて-deap公式のリンク](https://deap.readthedocs.io/en/master/tutorials/advanced/constraints.html)\n",
    "- ペナルティ関数は、**個体が制約条件を満たしているか判断する関数**と  \n",
    "  **満たさないときに与える適応度**の二つを引数にして、制約条件を付けています\n",
    "\n",
    "- `DeltaPenality`では個体が制約条件を満たしているか判断する関数`feasible`,  \n",
    "  制約を満たさない時に与える適合度`delta`を与えています\n",
    " "
   ]
  },
  {
   "cell_type": "code",
   "execution_count": 6,
   "id": "1d59ff3c",
   "metadata": {},
   "outputs": [],
   "source": [
    "# ペナルティ関数の罰則値(適応度)\n",
    "distance = (1000, 1000)\n",
    "\n",
    "# 評価関数を作成\n",
    "toolbox = base.Toolbox()\n",
    "toolbox.register(\"evaluate\", objectfunction)\n",
    "toolbox.register(\"feasible\", judge, cases=cases)\n",
    "toolbox.decorate(\"evaluate\", tools.DeltaPenality(toolbox.feasible, delta=distance))"
   ]
  },
  {
   "cell_type": "markdown",
   "id": "bae4c873",
   "metadata": {},
   "source": [
    "#### 制約条件を満たさない個体に対しての評価について\n",
    "- `distance = (1000, 1000)`はペナルティ関数を使用する際に、制約条件を満たさない個体に対して罰則として与える値（評価値）です\n",
    "- 個体を選択する際に淘汰されるように、意図的に大きな値（評価値）を設定する必要があります\n",
    "\n",
    "##### base.Toolbox.register()関数\n",
    "- `base.Toolbox.register()`関数を使うと、引数のデフォルト値がない関数に、デフォルト値を設定することが出来ます\n",
    "- 第2引数で指定する関数に、第3引数以降で指定するデフォルト値を設定して、第1引数で指定する名前で`base.Toolbox`内に新しく関数を作成出来ます"
   ]
  },
  {
   "cell_type": "markdown",
   "id": "f93b7986",
   "metadata": {},
   "source": [
    "# Part.3 遺伝的アルゴリズムの設計\n",
    "\n",
    "#### deapでは遺伝的アルゴリズムに必要となる要素を関数の形で登録して、遺伝的アルゴリズムを設計する必要があります\n",
    "\n",
    "#### 必要な要素は以下の3つ\n",
    "\n",
    "- 評価関数　←　Part2で実装済み\n",
    "- 個体を格納するデータ構造\n",
    "- 遺伝子操作関数"
   ]
  },
  {
   "cell_type": "markdown",
   "id": "46dc9230",
   "metadata": {},
   "source": [
    "## 遺伝的アルゴリズムにおける個体の表現\n",
    "### 遺伝的アルゴリズムでは、各個体は以下の情報を持っている必要があります\n",
    "- 解の設計変数(遺伝子)\n",
    "- 解の目的変数(適合度)\n",
    "\n",
    "### 型指定 - creator.create()関数\n",
    "- 遺伝子（設計変数）のセットを表す個体を定義するのに、`creator`というモジュールが用意されており、複雑な構造を表現が可能\n",
    "1. `creator.create()`関数を使うと、listに適応度(fitness)を保存するメンバ変数を、簡単に追加できる\n",
    "2. `creator.create()`関数は、あるクラスにメンバ変数を追加して子クラスを新たに作成する関数\n",
    "3. `creator.create()`関数を使うときは、少なくとも２個の引数を指定する必要あり\n",
    "\n",
    "#### 適応度の定義\n",
    "- `creator.create(\"FitnessMin\", base.Fitness, weights=(-1.0, -1.0))`  \n",
    "  - `base.Fitness`クラスを継承\n",
    "  - `weights=(-1.0, -1.0)`というメンバ変数を追加　（2つの適応度(目的関数)を最小化にする設定）\n",
    "  - ちなみに、1.0が最大化、-1.0が最小化の意味を表します\n",
    "  - `FitnessMin`という適応度を表すクラスを`creator`モジュール内に作成\n",
    "- 以下のような関数が作られると思ってください\n",
    "```python\n",
    "class FitnessMin(base.Fitness):\n",
    "    weights = (-1.0, -1.0)\n",
    "```\n",
    "\n",
    "### 個体の定義\n",
    "- `creator.create(\"Individual\", list, fitness=creator.FitnessMin)`\n",
    "  - `list`クラスを継承 \n",
    "  - `fitness=creator.FitnessMin`というメンバ変数を追加\n",
    "  - `Individual`クラスを作成\n",
    "\n",
    "- 以下のような関数が作られると思ってください\n",
    "```python\n",
    "class Individual(list):\n",
    "    def __init__(self):\n",
    "        self.fitness = FitnessMin()\n",
    "```\n"
   ]
  },
  {
   "cell_type": "code",
   "execution_count": 7,
   "id": "571394eb",
   "metadata": {},
   "outputs": [],
   "source": [
    "# 適合度を最小化することで最適化されるような適合度クラスの作成\n",
    "creator.create(\"FitnessMin\", base.Fitness, weights=(-1.0, -1.0))\n",
    "# 個体クラスIndividualを作成\n",
    "creator.create(\"Individual\", list, fitness=creator.FitnessMin)"
   ]
  },
  {
   "cell_type": "markdown",
   "id": "bd4cae9a",
   "metadata": {},
   "source": [
    "### 制約条件を満たした初期値設定\n",
    "\n",
    "$ \n",
    "\\begin{align*}\n",
    "&s.t.& 0 \\leqq  & A  \\leqq 5 \\\\\n",
    "& & 0 \\leqq  & B  \\leqq 3\n",
    "\\end{align*}\n",
    "$\n",
    "\n"
   ]
  },
  {
   "cell_type": "code",
   "execution_count": 8,
   "id": "8665759a",
   "metadata": {},
   "outputs": [],
   "source": [
    "# 個体を作成する制約条件を記載したのdictを作成\n",
    "generator_config = {\n",
    "    # 使用するカラム\n",
    "    \"columns\": [\"A\", \"B\"],\n",
    "    # 各連続値の作成条件\n",
    "    \"variables\": {\n",
    "        \"A\": {\"type\": \"real\", \"values\": {\"min\": 0, \"max\": 5}},\n",
    "        \"B\": {\"type\": \"real\", \"values\": {\"min\": 0, \"max\": 3}},\n",
    "    },\n",
    "    # 突然変異で使うカラムの指定\n",
    "    \"mutate_real_col\": [\"A\", \"B\"],\n",
    "    # 連続値のカラム\n",
    "    \"independent_real_col\": [\"A\", \"B\"],\n",
    "}"
   ]
  },
  {
   "cell_type": "markdown",
   "id": "d338587b",
   "metadata": {},
   "source": [
    "### 初期サンプルの生成関数\n",
    "\n",
    "#### 進化計算で使用する個体の初期サンプルを、制約条件を満たすようにランダムに生成します\n",
    "\n",
    "- 自作のサンプルの生成関数と、制約条件から、初期サンプルをlistで生成\n",
    "- 生成したlistを個体世のデータ型`creator.Individual`に格納\n",
    "\n",
    "deapでは上記の処理のための関数`initIterate`, `initRepeat`が用意されています"
   ]
  },
  {
   "cell_type": "code",
   "execution_count": 9,
   "id": "a22416cb",
   "metadata": {},
   "outputs": [],
   "source": [
    "# 個体を生成する関数\n",
    "def generator(generator_config):\n",
    "    \"\"\"\n",
    "    generator_config (dict): 個体を作成する制約条件が記載されたdict\n",
    "    \"\"\"\n",
    "\n",
    "    var = generator_config[\"variables\"]\n",
    "\n",
    "    # 連続値のサンプルを生成する.\n",
    "    variables = {\n",
    "        k: random.uniform(v[\"values\"][\"min\"], v[\"values\"][\"max\"])\n",
    "        for k, v in var.items()\n",
    "    }\n",
    "\n",
    "    return [variables[col] for col in generator_config[\"columns\"]]\n",
    "\n",
    "\n",
    "# [お試し]このように作成されます\n",
    "# generator(generator_config)"
   ]
  },
  {
   "cell_type": "markdown",
   "id": "887b633d",
   "metadata": {},
   "source": [
    "#### 遺伝子を作成する関数\n",
    "- `toolbox.register(\"generator\", generator, generator_config)`\n",
    "  - `generator`という関数のデフォルト値に`generator_config`を指定\n",
    "  - `generator`という名前の関数を作成\n",
    "  \n",
    "#### 個体を作成する関数\n",
    "- `toolbox.register(\"individual\", tools.initIterate, creator.Individual, toolbox.generator)`\n",
    "  - `tools.initIterate`は、2つの引数`container`、`generator`を持っており、個体を生成する`generator`関数を、個体の保存先`container`につっこんでいる\n",
    "  - `toolbox.generator`を実行し、その値を`creator.Individual`に格納して返す関数`individual`を作成  \n",
    "  \n",
    "#### 世代を作成する関数\n",
    "- `toolbox.register(\"population\", tools.initRepeat, list, toolbox.individual)`\n",
    "  - 個体を`toolbox.individual`で作成してlistに格納し、世代を生成する`population`関数を作成"
   ]
  },
  {
   "cell_type": "code",
   "execution_count": 10,
   "id": "4e9a70d9",
   "metadata": {},
   "outputs": [],
   "source": [
    "# 遺伝子を生成する関数\"generator\"を登録\n",
    "toolbox.register(\"generator\", generator, generator_config)\n",
    "# 個体を生成する関数”individual\"を登録\n",
    "toolbox.register(\"individual\", tools.initIterate, creator.Individual, toolbox.generator)\n",
    "# 個体集団を生成する関数\"population\"を登録\n",
    "toolbox.register(\"population\", tools.initRepeat, list, toolbox.individual)"
   ]
  },
  {
   "cell_type": "code",
   "execution_count": null,
   "id": "e8a1ee80",
   "metadata": {},
   "outputs": [],
   "source": []
  },
  {
   "cell_type": "markdown",
   "id": "9df63dac",
   "metadata": {},
   "source": [
    "## 遺伝子操作関数\n",
    "\n",
    "#### 進化計算で重要な役割を持つ遺伝子操作を行う関数を生成\n",
    "\n",
    "- deap公式の交叉・突然変異の関数を使う\n",
    "\n",
    "### 交叉\n",
    "\n",
    "1. 交叉関数 : `cxTwoPoint` [deap公式のリンク](https://deap.readthedocs.io/en/master/api/tools.html#deap.tools.cxTwoPoint)　[github](https://github.com/DEAP/deap/blob/d328fe6b68e7528b2d2d990bb2ab1ad1786e6f58/deap/tools/crossover.py#L37)\n",
    "- 引数\n",
    "  - ind1 : 親個体１\n",
    "  - ind2 : 親個体２"
   ]
  },
  {
   "cell_type": "code",
   "execution_count": 11,
   "id": "aba97cd5",
   "metadata": {},
   "outputs": [],
   "source": [
    "# # 二点交叉 - 交叉に使用する関数\n",
    "# def cxTwoPoint(ind1, ind2):\n",
    "#     size = min(len(ind1), len(ind2))\n",
    "#     cxpoint1 = random.randint(1, size)\n",
    "#     cxpoint2 = random.randint(1, size - 1)\n",
    "#     # 配列の位置を指定するための処理\n",
    "#     if cxpoint2 >= cxpoint1:\n",
    "#         cxpoint2 += 1\n",
    "#     else:  # Swap the two cx points\n",
    "#         cxpoint1, cxpoint2 = cxpoint2, cxpoint1\n",
    "\n",
    "#     # 指定の位置にある値を入れ替え (交叉する)\n",
    "#     ind1[cxpoint1:cxpoint2], ind2[cxpoint1:cxpoint2] \\\n",
    "#         = ind2[cxpoint1:cxpoint2], ind1[cxpoint1:cxpoint2]\n",
    "\n",
    "#     return ind1, ind2"
   ]
  },
  {
   "cell_type": "code",
   "execution_count": 12,
   "id": "71999ec3",
   "metadata": {},
   "outputs": [],
   "source": [
    "# 交叉を行う関数\"mate\"を登録\n",
    "toolbox.register(\"mate\", tools.cxTwoPoint)"
   ]
  },
  {
   "cell_type": "markdown",
   "id": "f81e1023",
   "metadata": {},
   "source": [
    "### 突然変異\n",
    "\n",
    "2. 変異関数 : `mutPolynomialBounded` [deap公式のリンク](https://deap.readthedocs.io/en/master/api/tools.html#deap.tools.mutPolynomialBounded)　[github](https://github.com/DEAP/deap/blob/d328fe6b68e7528b2d2d990bb2ab1ad1786e6f58/deap/tools/mutation.py#L51)\n",
    "- 引数\n",
    "  - eta   : 突然変異の混雑度\n",
    "  - low   : 突然変異を行う設計変数の最小値\n",
    "  - up    : 突然変異を行う設計変数の最大値\n",
    "  - indpb : 独立した設計変数（遺伝子の個体）が突然変異する確率"
   ]
  },
  {
   "cell_type": "code",
   "execution_count": 13,
   "id": "8258f70c",
   "metadata": {},
   "outputs": [],
   "source": [
    "# # 突然変異に使用する関数\n",
    "# def mutPolynomialBounded(individual, eta, low, up, indpb):\n",
    "#     from itertools import repeat\n",
    "#     try:\n",
    "#         from collections.abc import Sequence\n",
    "#     except ImportError:\n",
    "#         from collections import Sequence\n",
    "\n",
    "#     size = len(individual)\n",
    "#     if not isinstance(low, Sequence):\n",
    "#         low = repeat(low, size)\n",
    "#     elif len(low) < size:\n",
    "#         raise IndexError(\"low must be at least the size of individual: %d < %d\" % (len(low), size))\n",
    "#     if not isinstance(up, Sequence):\n",
    "#         up = repeat(up, size)\n",
    "#     elif len(up) < size:\n",
    "#         raise IndexError(\"up must be at least the size of individual: %d < %d\" % (len(up), size))\n",
    "\n",
    "#     for i, xl, xu in zip(range(size), low, up):\n",
    "#         # 突然変異を起こすか？\n",
    "#         if random.random() <= indpb:\n",
    "#             x = individual[i]\n",
    "#             delta_1 = (x - xl) / (xu - xl) # (値 - 下限) / (上限 - 下限)\n",
    "#             delta_2 = (xu - x) / (xu - xl) # (上限 - 値) / (上限 - 下限)\n",
    "#             rand = random.random()\n",
    "#             mut_pow = 1.0 / (eta + 1.) # 1 / (混雑度 + 1)\n",
    "\n",
    "#             if rand < 0.5:\n",
    "#                 xy = 1.0 - delta_1\n",
    "#                 val = 2.0 * rand + (1.0 - 2.0 * rand) * xy ** (eta + 1)\n",
    "#                 delta_q = val ** mut_pow - 1.0\n",
    "#             else:\n",
    "#                 xy = 1.0 - delta_2\n",
    "#                 val = 2.0 * (1.0 - rand) + 2.0 * (rand - 0.5) * xy ** (eta + 1)\n",
    "#                 delta_q = 1.0 - val ** mut_pow\n",
    "\n",
    "#             x = x + delta_q * (xu - xl)\n",
    "#             x = min(max(x, xl), xu) # 上限と下限を超えてないか確認。超えた場合は、引っかかった方の値に\n",
    "#             individual[i] = x\n",
    "#     return individual,"
   ]
  },
  {
   "cell_type": "markdown",
   "id": "bd5fb379",
   "metadata": {},
   "source": [
    "#### 各設計変数ごとに突然変異が適応できる用にする関数\n",
    "- 設計変数ごとで条件が違ったり、typeが違ったりして、適切な手法が異なる\n",
    "- 変数ごとに適切な変異を行う必要がある"
   ]
  },
  {
   "cell_type": "code",
   "execution_count": 14,
   "id": "d5c355b4",
   "metadata": {},
   "outputs": [],
   "source": [
    "# 突然変異用のdict作成する関数\n",
    "def muconfig(constrain_dict):\n",
    "    \"\"\"\n",
    "    constrain_dict(dict):制約条件格納dict\n",
    "    \"\"\"\n",
    "\n",
    "    cols = constrain_dict[\"columns\"]  # 現状のカラム\n",
    "    variables = constrain_dict[\"variables\"]  # min-max等、その変数の取れる値\n",
    "\n",
    "    mur = constrain_dict[\"mutate_real_col\"]  # 突然変異するカラム\n",
    "    cxr = constrain_dict[\"independent_real_col\"]  # 連続値のカラム\n",
    "\n",
    "    mu_real_index = [cols.index(c) for c in cxr if c in mur]  # 連続値のindex\n",
    "\n",
    "    mu_low = [\n",
    "        constrain_dict[\"variables\"][col][\"values\"][\"min\"] for col in cxr if col in mur\n",
    "    ]  # 連続値の下限\n",
    "\n",
    "    mu_up = [\n",
    "        constrain_dict[\"variables\"][col][\"values\"][\"max\"] for col in cxr if col in mur\n",
    "    ]  # 連続値の上限\n",
    "\n",
    "    for mi, ma in zip(mu_low, mu_up):  # 上限と下限が逆転していないか？イコールになっていないか？\n",
    "        if not mi <= ma:\n",
    "            raise MutateionError(\"some low values higher than ups values\")\n",
    "\n",
    "    mucfg = {}\n",
    "    mucfg[\"real_indexs\"] = mu_real_index  # 連続値に対する設計変数のindex\n",
    "    mucfg[\"lows\"] = mu_low  # 連続値に対する設計変数の最小値\n",
    "    mucfg[\"ups\"] = mu_up  # 連続値に対する設計変数の最大値\n",
    "\n",
    "    return mucfg"
   ]
  },
  {
   "cell_type": "code",
   "execution_count": 15,
   "id": "c43adfd8",
   "metadata": {},
   "outputs": [
    {
     "data": {
      "text/plain": [
       "{'real_indexs': [0, 1], 'lows': [0, 0], 'ups': [5, 3]}"
      ]
     },
     "execution_count": 15,
     "metadata": {},
     "output_type": "execute_result"
    }
   ],
   "source": [
    "# 突然変異用のdice作成\n",
    "mucfg = muconfig(generator_config)\n",
    "mucfg"
   ]
  },
  {
   "cell_type": "code",
   "execution_count": 16,
   "id": "dd0206a7",
   "metadata": {},
   "outputs": [],
   "source": [
    "# 各変数ごとに分けて突然変異をするための関数\n",
    "def mutation(individual, realmut, real_indexs, lows, ups, indpb=None):\n",
    "    \"\"\"\n",
    "    individual (list): 個体のlist\n",
    "    realmut(function): 親個体, lows, ups, indpbを引数にとる変異関数\n",
    "    real_index(list): 設計変数の連続値のindexのlist\n",
    "    lows (list): 連続値の最小値\n",
    "    ups(list): 連続値の最大値\n",
    "    indpb(float): 各変数に対して変異を行うか否かの確率、デフォルト値はNone. 0 <= indpb <= 1.\n",
    "    \"\"\"\n",
    "\n",
    "    if not isinstance(real_indexs, list):\n",
    "        raise CrossoverError(\n",
    "            f'argment \"real_indexs\" must be list but inputed {type(real_indexs)}'\n",
    "        )\n",
    "\n",
    "    if not isinstance(lows, list):\n",
    "        raise MutateionError(f\"argment lows must be  list but {type(lows)}\")\n",
    "    if not isinstance(ups, list):\n",
    "        raise MutateionError(f\"argment ups must be  list but {type(ups)}\")\n",
    "\n",
    "    if not (len(real_indexs) == len(lows) and len(real_indexs) == len(ups)):\n",
    "        raise MutateionError(\"not match lows, ups ,or real_indexs length\")\n",
    "\n",
    "    if indpb is None:\n",
    "        indpb = 1 / len(real_indexs)\n",
    "\n",
    "    # 連続値の染色体を抽出\n",
    "    real_chromosome = [individual[i] for i in real_indexs]\n",
    "    # 変異を実施\n",
    "    real_chromosome = realmut(real_chromosome, low=lows, up=ups, indpb=indpb)[0]\n",
    "    for i, r in zip(real_indexs, real_chromosome):\n",
    "        individual[i] = r\n",
    "\n",
    "    return (individual,)"
   ]
  },
  {
   "cell_type": "code",
   "execution_count": 17,
   "id": "977f7176",
   "metadata": {},
   "outputs": [],
   "source": [
    "# deapにある突然変異関数を用意\n",
    "realmut = partial(tools.mutPolynomialBounded, eta=20)\n",
    "\n",
    "# 突然変異を行う関数\"mutate\"を登録\n",
    "toolbox.register(\"mutate\", mutation, realmut=realmut, **mucfg)"
   ]
  },
  {
   "cell_type": "markdown",
   "id": "c9864937",
   "metadata": {},
   "source": [
    "## 解の選択（世代交代）手法\n",
    "\n",
    "#### 親個体と生成した子個体の中から良い個体を残し、悪い個体を淘汰します\n",
    "#### 今回は、NSGAⅡの選択手法を用います\n",
    "\n",
    "- [selNSGA2について_deap公式](https://deap.readthedocs.io/en/master/api/tools.html#deap.tools.selNSGA2)\n",
    "- [selNSGA2の動作ついて_github](https://github.com/DEAP/deap/blob/d328fe6b68e7528b2d2d990bb2ab1ad1786e6f58/deap/tools/emo.py#L15)"
   ]
  },
  {
   "cell_type": "code",
   "execution_count": 18,
   "id": "ffc2f48b",
   "metadata": {
    "tags": []
   },
   "outputs": [],
   "source": [
    "# 個体選択法\"select\"を登録\n",
    "toolbox.register(\"select\", tools.selNSGA2)"
   ]
  },
  {
   "cell_type": "markdown",
   "id": "5dced08a",
   "metadata": {},
   "source": [
    "# Part.4 最適化計算の実行\n",
    "\n",
    "#### 初期状態の設定\n",
    "\n",
    "- 初期サンプル（第一世代）の生成\n",
    "- 適合度割当\n",
    "- 計算過程追跡の準備 <- ログを出力する場合"
   ]
  },
  {
   "cell_type": "code",
   "execution_count": 19,
   "id": "29c23647",
   "metadata": {
    "tags": []
   },
   "outputs": [],
   "source": [
    "random.seed(1)\n",
    "\n",
    "NGEN = 50  # 繰り返し世代数\n",
    "MU = 100  # 集団内の個体数\n",
    "CXPB = 0.9  # 交叉率\n",
    "MUTPB = 1  # 変異率\n",
    "\n",
    "# # 世代ループ中のログに何を出力するかの設定 コメントアウトを外したらログが出力します\n",
    "# stats = tools.Statistics(lambda ind: ind.fitness.values)\n",
    "# stats.register(\"min\", np.min, axis=0)\n",
    "# stats.register(\"max\", np.max, axis=0)\n",
    "\n",
    "# logbook = tools.Logbook()\n",
    "# logbook.header = \"gen\", \"evals\", \"min\", \"max\"\n",
    "\n",
    "# 第一世代の生成\n",
    "pop = toolbox.population(n=MU)\n",
    "pop_init = pop[:]\n",
    "\n",
    "invalid_ind = []\n",
    "for ind in pop:\n",
    "    if not ind.fitness.valid:\n",
    "        invalid_ind.append(ind)\n",
    "\n",
    "fitnesses = toolbox.map(toolbox.evaluate, invalid_ind)\n",
    "for ind, fit in zip(invalid_ind, fitnesses):\n",
    "    ind.fitness.values = fit\n",
    "pop = toolbox.select(pop, len(pop))\n",
    "\n",
    "# record = stats.compile(pop)\n",
    "# logbook.record(gen=0, evals=len(invalid_ind), **record)"
   ]
  },
  {
   "cell_type": "markdown",
   "id": "cd56824a",
   "metadata": {},
   "source": [
    "#### 最適計算の実行\n",
    "- for文を使いN次元まで行う。次世代に残すサンプルを交叉や変異し、選択して決めていく\n",
    "    1. 子母集団の作成\n",
    "    2. 交叉するものをランダムで選ぶ（交叉率でどのくらいが対象かを決定）\n",
    "    3. 突然変異を起こす\n",
    "    4. 交叉or突然変異させた個体の適応度の再評価を行う\n",
    "    5. 次世代に残す個体を選択"
   ]
  },
  {
   "cell_type": "code",
   "execution_count": 20,
   "id": "3f5c9da8",
   "metadata": {
    "tags": []
   },
   "outputs": [],
   "source": [
    "# print(logbook.stream)\n",
    "\n",
    "# 最適計算の実行\n",
    "for gen in range(1, NGEN):\n",
    "    # 子母集団生成\n",
    "    offspring = tools.selTournamentDCD(pop, len(pop))\n",
    "    offspring = [toolbox.clone(ind) for ind in offspring]\n",
    "\n",
    "    # 交叉と突然変異\n",
    "    ## 偶数番目と奇数番目の個体を取り出し交叉\n",
    "    for ind1, ind2 in zip(offspring[::2], offspring[1::2]):\n",
    "        # 交叉させる個体を厳選\n",
    "        if random.random() <= CXPB:\n",
    "            # 交叉\n",
    "            toolbox.mate(ind1, ind2)\n",
    "\n",
    "        # 突然変異\n",
    "        if random.random() <= MUTPB:\n",
    "            toolbox.mutate(ind1)\n",
    "            toolbox.mutate(ind2)\n",
    "\n",
    "        # 交叉と突然変異させた個体は適応度を削除する\n",
    "        del ind1.fitness.values, ind2.fitness.values\n",
    "\n",
    "    # 適応度を削除した個体について適応度の再評価を行う\n",
    "    invalid_ind = []\n",
    "    for ind in offspring:\n",
    "        if not ind.fitness.valid:\n",
    "            invalid_ind.append(ind)\n",
    "\n",
    "    fitnesses = toolbox.map(toolbox.evaluate, invalid_ind)\n",
    "    for ind, fit in zip(invalid_ind, fitnesses):\n",
    "        ind.fitness.values = fit\n",
    "\n",
    "    # 次世代を選択\n",
    "    pop = toolbox.select(pop + offspring, MU)\n",
    "\n",
    "#     record = stats.compile(pop)\n",
    "#     logbook.record(gen=gen, evals=len(invalid_ind), **record)\n",
    "#     print(logbook.stream)"
   ]
  },
  {
   "cell_type": "markdown",
   "id": "934c5150",
   "metadata": {},
   "source": [
    "# Part5. 結果の確認\n",
    "\n",
    "## 初期世代と最終世代の目的関数の値を確認\n",
    "- matplotlibを使って、世代ごとの目的関数の値を確認していく\n",
    "- 青が初期世代、赤が最終世代となる\n",
    "\n",
    "$\n",
    "\\begin{align*}\n",
    "&Minimize& f_1 & = 4A^2 + 4B^2 \\\\\n",
    "&Minimize& f_2 & = (A - 5)^2 + (B - 5)^2\n",
    "\\end{align*}\n",
    "$"
   ]
  },
  {
   "cell_type": "code",
   "execution_count": 21,
   "id": "475b20aa",
   "metadata": {},
   "outputs": [
    {
     "data": {
      "image/png": "[encoded data removed]",
      "text/plain": [
       "<Figure size 432x288 with 1 Axes>"
      ]
     },
     "metadata": {
      "needs_background": "light"
     },
     "output_type": "display_data"
    }
   ],
   "source": [
    "# 目的関数の値を確認\n",
    "fitnesses_init = np.array(\n",
    "    [list(pop_init[i].fitness.values) for i in range(len(pop_init))]\n",
    ")\n",
    "fitnesses = np.array([list(pop[i].fitness.values) for i in range(len(pop))])\n",
    "# グラフで確認\n",
    "plt.plot(fitnesses_init[:, 0], fitnesses_init[:, 1], \"b.\", label=\"Initial\")  # 初期世代\n",
    "plt.plot(fitnesses[:, 0], fitnesses[:, 1], \"r.\", label=\"Optimized\")  # 最終世代\n",
    "plt.legend(loc=\"upper right\")\n",
    "plt.title(\"fitnesses\")\n",
    "# 初期の例外値が残っているのでグラフ範囲を指定\n",
    "plt.xlim(-10, 150)\n",
    "plt.ylim(0, 60)\n",
    "plt.xlabel(\"f1\")\n",
    "plt.ylabel(\"f2\")\n",
    "plt.grid(True)"
   ]
  },
  {
   "cell_type": "markdown",
   "id": "32590cb1",
   "metadata": {},
   "source": [
    "## 制約条件を満たした値であるか確認\n",
    "- 今回使用した連続値 A, Bが制約条件を満たしていたか確認\n",
    "\n",
    "$ \n",
    "\\begin{align*}\n",
    "&subject　to& 0 \\leqq  & A  \\leqq 5 \\\\\n",
    "& & 0 \\leqq  & B  \\leqq 3\n",
    "\\end{align*}\n",
    "$"
   ]
  },
  {
   "cell_type": "code",
   "execution_count": 22,
   "id": "8f4d34c6",
   "metadata": {},
   "outputs": [
    {
     "name": "stdout",
     "output_type": "stream",
     "text": [
      "Aの範囲:  0.013106172426273766 4.999291913553918\n",
      "Bの範囲:  0.017241658777139346 2.999954207812095\n"
     ]
    },
    {
     "data": {
      "image/png": "[encoded data removed]",
      "text/plain": [
       "<Figure size 432x288 with 1 Axes>"
      ]
     },
     "metadata": {
      "needs_background": "light"
     },
     "output_type": "display_data"
    }
   ],
   "source": [
    "# 連続値がmin, maxの制約条件に従っているか確認\n",
    "real_init = np.array([list(pop_init[i]) for i in range(len(pop_init))])\n",
    "real = np.array([list(pop[i]) for i in range(len(pop))])\n",
    "# 最大値と最小値を確認\n",
    "print(\"Aの範囲: \", min(real[:, 0]), max(real[:, 0]))  # 0 <= A <= 5\n",
    "print(\"Bの範囲: \", min(real[:, 1]), max(real[:, 1]))  # 0 <= B <= 3\n",
    "# グラフでも確認\n",
    "plt.plot(real_init[:, 0], real_init[:, 1], \"b.\", label=\"Initial\")  # 初期世代\n",
    "plt.plot(real[:, 0], real[:, 1], \"r.\", label=\"Optimized\")  # 最終世代\n",
    "plt.legend(loc=\"upper right\")\n",
    "plt.title(\"real_check\")\n",
    "plt.xlim(-1, 6)\n",
    "plt.ylim(-1, 4)\n",
    "plt.xlabel(\"A\")\n",
    "plt.ylabel(\"B\")\n",
    "plt.grid(True)"
   ]
  },
  {
   "cell_type": "markdown",
   "id": "a5d3e1a2",
   "metadata": {
    "tags": []
   },
   "source": [
    "### ハイパーボリューム\n",
    "- ハイパーボリュームとは、適応度空間上のボリュームで、ある参照点と各個体の適応度が作る超適応度が作る超空間上の立方体を世代内の全個体で作成し、その和集合の体積を算出したもの  \n",
    "  ハイパーボリュームの値が大きいほど、パレートラインが広範囲に広がっている事を表し、良いパレートラインが得られることになる"
   ]
  },
  {
   "cell_type": "code",
   "execution_count": 23,
   "id": "973d6a68",
   "metadata": {},
   "outputs": [
    {
     "name": "stdout",
     "output_type": "stream",
     "text": [
      "Final population hypervolume is 8012.319731\n"
     ]
    }
   ],
   "source": [
    "# 最終世代のハイパーボリュームを出力\n",
    "print(\"Final population hypervolume is %f\" % hypervolume(pop, [200.0, 50.0]))"
   ]
  },
  {
   "cell_type": "markdown",
   "id": "231e43d8",
   "metadata": {},
   "source": [
    "### 最終世代の設計変数と各適応度をデータフレームで確認"
   ]
  },
  {
   "cell_type": "code",
   "execution_count": 24,
   "id": "06ff2000",
   "metadata": {},
   "outputs": [
    {
     "data": {
      "text/html": [
       "<div>\n",
       "<style scoped>\n",
       "    .dataframe tbody tr th:only-of-type {\n",
       "        vertical-align: middle;\n",
       "    }\n",
       "\n",
       "    .dataframe tbody tr th {\n",
       "        vertical-align: top;\n",
       "    }\n",
       "\n",
       "    .dataframe thead th {\n",
       "        text-align: right;\n",
       "    }\n",
       "</style>\n",
       "<table border=\"1\" class=\"dataframe\">\n",
       "  <thead>\n",
       "    <tr style=\"text-align: right;\">\n",
       "      <th></th>\n",
       "      <th>A</th>\n",
       "      <th>B</th>\n",
       "      <th>f1</th>\n",
       "      <th>f2</th>\n",
       "    </tr>\n",
       "  </thead>\n",
       "  <tbody>\n",
       "    <tr>\n",
       "      <th>0</th>\n",
       "      <td>0.013106</td>\n",
       "      <td>0.017242</td>\n",
       "      <td>0.001876</td>\n",
       "      <td>49.696991</td>\n",
       "    </tr>\n",
       "    <tr>\n",
       "      <th>1</th>\n",
       "      <td>0.013106</td>\n",
       "      <td>0.017242</td>\n",
       "      <td>0.001876</td>\n",
       "      <td>49.696991</td>\n",
       "    </tr>\n",
       "    <tr>\n",
       "      <th>2</th>\n",
       "      <td>4.999292</td>\n",
       "      <td>2.999954</td>\n",
       "      <td>135.970580</td>\n",
       "      <td>4.000184</td>\n",
       "    </tr>\n",
       "    <tr>\n",
       "      <th>3</th>\n",
       "      <td>4.571945</td>\n",
       "      <td>2.996179</td>\n",
       "      <td>119.519072</td>\n",
       "      <td>4.198531</td>\n",
       "    </tr>\n",
       "    <tr>\n",
       "      <th>4</th>\n",
       "      <td>1.224443</td>\n",
       "      <td>0.888698</td>\n",
       "      <td>9.156181</td>\n",
       "      <td>31.157633</td>\n",
       "    </tr>\n",
       "    <tr>\n",
       "      <th>...</th>\n",
       "      <td>...</td>\n",
       "      <td>...</td>\n",
       "      <td>...</td>\n",
       "      <td>...</td>\n",
       "    </tr>\n",
       "    <tr>\n",
       "      <th>95</th>\n",
       "      <td>4.855471</td>\n",
       "      <td>2.997715</td>\n",
       "      <td>130.247583</td>\n",
       "      <td>4.030033</td>\n",
       "    </tr>\n",
       "    <tr>\n",
       "      <th>96</th>\n",
       "      <td>0.517770</td>\n",
       "      <td>0.728703</td>\n",
       "      <td>3.196378</td>\n",
       "      <td>38.334359</td>\n",
       "    </tr>\n",
       "    <tr>\n",
       "      <th>97</th>\n",
       "      <td>2.909061</td>\n",
       "      <td>2.988571</td>\n",
       "      <td>69.576776</td>\n",
       "      <td>8.417871</td>\n",
       "    </tr>\n",
       "    <tr>\n",
       "      <th>98</th>\n",
       "      <td>2.324901</td>\n",
       "      <td>2.218648</td>\n",
       "      <td>41.310249</td>\n",
       "      <td>14.892075</td>\n",
       "    </tr>\n",
       "    <tr>\n",
       "      <th>99</th>\n",
       "      <td>2.639984</td>\n",
       "      <td>2.995553</td>\n",
       "      <td>63.771409</td>\n",
       "      <td>9.587484</td>\n",
       "    </tr>\n",
       "  </tbody>\n",
       "</table>\n",
       "<p>100 rows × 4 columns</p>\n",
       "</div>"
      ],
      "text/plain": [
       "           A         B          f1         f2\n",
       "0   0.013106  0.017242    0.001876  49.696991\n",
       "1   0.013106  0.017242    0.001876  49.696991\n",
       "2   4.999292  2.999954  135.970580   4.000184\n",
       "3   4.571945  2.996179  119.519072   4.198531\n",
       "4   1.224443  0.888698    9.156181  31.157633\n",
       "..       ...       ...         ...        ...\n",
       "95  4.855471  2.997715  130.247583   4.030033\n",
       "96  0.517770  0.728703    3.196378  38.334359\n",
       "97  2.909061  2.988571   69.576776   8.417871\n",
       "98  2.324901  2.218648   41.310249  14.892075\n",
       "99  2.639984  2.995553   63.771409   9.587484\n",
       "\n",
       "[100 rows x 4 columns]"
      ]
     },
     "execution_count": 24,
     "metadata": {},
     "output_type": "execute_result"
    }
   ],
   "source": [
    "import pandas as pd\n",
    "\n",
    "design = pd.DataFrame(pop).rename(columns={0: \"A\", 1: \"B\"})  # 設計変数\n",
    "goal = pd.DataFrame(fitnesses).rename(columns={0: \"f1\", 1: \"f2\"})  # 適応度\n",
    "pd.concat([design, goal], axis=1)"
   ]
  },
  {
   "cell_type": "code",
   "execution_count": null,
   "id": "da39c8b8",
   "metadata": {},
   "outputs": [],
   "source": []
  }
 ],
 "metadata": {
  "kernelspec": {
   "display_name": "Python 3 (ipykernel)",
   "language": "python",
   "name": "python3"
  },
  "language_info": {
   "codemirror_mode": {
    "name": "ipython",
    "version": 3
   },
   "file_extension": ".py",
   "mimetype": "text/x-python",
   "name": "python",
   "nbconvert_exporter": "python",
   "pygments_lexer": "ipython3",
   "version": "3.9.5"
  }
 },
 "nbformat": 4,
 "nbformat_minor": 5
}
