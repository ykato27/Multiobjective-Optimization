{
 "cells": [
  {
   "cell_type": "markdown",
   "id": "c5bd0df5",
   "metadata": {},
   "source": [
    "# Tutorial：3\n",
    "- 使用フレームワーク : deap\n",
    "- 選択手法 : NSGA-Ⅲ\n",
    "- 設計変数 : 5個\n",
    "  - 連続値 : 3個\n",
    "  - 離散値 : 2個\n",
    "- 目的変数 : 2個\n",
    "- 制約条件 : 3パターン\n",
    "    1. 連続値のmin,max\n",
    "    2. 離散値の取り得るパターン\n",
    "    3. 変数間の組み合わせに制約あり\n",
    "\n",
    "## 習得してもらうこと\n",
    "- 変数間の組み合わせに制約がある場合の扱い方\n",
    "\n",
    "## 実施内容\n",
    " - Part0. 取り扱う問題設定\n",
    "\n",
    " - Patr1: モジュールのimport \n",
    "\n",
    " - Part2: 評価関数の作成\n",
    "   - 目的関数の設計\n",
    "   - ペナルティ関数の導入\n",
    "\n",
    "\n",
    " - Part3: 遺伝的アルゴリズムの設計\n",
    "   - 遺伝的アルゴリズムにおける個体の表現\n",
    "   - 遺伝子操作関数の設定\n",
    "     - 交叉\n",
    "     - 突然変異\n",
    "   - 解の選択手法の設定\n",
    "\n",
    "\n",
    " - Part4: 最適化計算の実行\n",
    "   - 初期状態の設定\n",
    "   - 遺伝的最適化計算の実行  \n",
    "\n",
    "\n",
    " - Part5. 結果の確認\n",
    "   - 初期世代と最終世代の目的関数の値を確認\n",
    "   - 制約条件を満たした値であるか確認\n",
    "   - ハイパーボリューム"
   ]
  },
  {
   "cell_type": "markdown",
   "id": "48e7304a",
   "metadata": {},
   "source": [
    "# Part0. 取り扱う問題設定\n",
    "\n",
    "$\n",
    "\\begin{align*}\n",
    "&\\text{Minimize}& f_1 & = 4A^2 + 4B^2 + X^2 + Y + Z\\\\\n",
    "&\\text{Minimize}& f_2 & = (A - 5)^2 + (B - 5)^2 + X - 4(Y+5)^2 - Z\n",
    "\\end{align*}\n",
    "$\n",
    "\n",
    "$ \n",
    "\\begin{align*}\n",
    "&s.t.& 0 \\leqq  & A  \\leqq 5 \\\\\n",
    "& & 0 \\leqq  & B  \\leqq 3 \\\\\n",
    "& &X \\in&  \\{ 0,1 \\} \\\\\n",
    "& &Y \\in&  \\{ -2,-1,0,1 \\} \\\\\n",
    "& &Z \\in&  \\{0,1\\}\\\\\n",
    "& &(X,Y) \\in&  \\{(0,-2), (0,-1), (1, 0),(1,1)\\}\n",
    "\\end{align*}\n",
    "$"
   ]
  },
  {
   "cell_type": "markdown",
   "id": "a1ddd311",
   "metadata": {},
   "source": [
    "# Part1. モジュールのimport"
   ]
  },
  {
   "cell_type": "code",
   "execution_count": 1,
   "id": "8d77b148",
   "metadata": {},
   "outputs": [],
   "source": [
    "%load_ext lab_black"
   ]
  },
  {
   "cell_type": "code",
   "execution_count": 2,
   "id": "4069bbe0",
   "metadata": {},
   "outputs": [],
   "source": [
    "import itertools\n",
    "import random\n",
    "from functools import partial\n",
    "\n",
    "import matplotlib.pyplot as plt\n",
    "import numpy as np\n",
    "import pandas as pd\n",
    "from deap import base, creator, tools\n",
    "from deap.algorithms import varAnd\n",
    "from deap.benchmarks.tools import hypervolume"
   ]
  },
  {
   "cell_type": "markdown",
   "id": "3687ea2f",
   "metadata": {},
   "source": [
    "# Part2. 評価関数の作成"
   ]
  },
  {
   "cell_type": "markdown",
   "id": "ce2d9fd1",
   "metadata": {},
   "source": [
    "### 目的関数\n",
    "- 今回は5つの設計変数A, B, X, Y, Zを使って目的変数のf1, f2 を多目的最適化する\n",
    "\n",
    "$\n",
    "\\begin{align*}\n",
    "&Minimize& f_1 & = 4A^2 + 4B^2 + X^2 + Y +Z\\\\\n",
    "&Minimize& f_2 & = (A - 5)^2 + (B - 5)^2 + X - 4(Y+5)^2-Z\n",
    "\\end{align*}\n",
    "$"
   ]
  },
  {
   "cell_type": "code",
   "execution_count": 3,
   "id": "19e88d78",
   "metadata": {},
   "outputs": [],
   "source": [
    "def objectfunction(individual):\n",
    "    \"\"\"\n",
    "    individual(list): 個体の設計変数を格納するlist\n",
    "    \"\"\"\n",
    "\n",
    "    # 教材用としてわかりやすくするために、変数を作成\n",
    "    A = individual[0]\n",
    "    B = individual[1]\n",
    "    X = individual[2]\n",
    "    Y = individual[3]\n",
    "    Z = individual[4]\n",
    "\n",
    "    f1 = 4 * A ** 2 + 4 * B ** 2 + X ** 2 + Y + Z\n",
    "    f2 = (A - 5) ** 2 + (B - 5) ** 2 + X + 4 * (Y + 5) ** 2 - Z\n",
    "\n",
    "    return f1, f2"
   ]
  },
  {
   "cell_type": "markdown",
   "id": "c342b21d",
   "metadata": {},
   "source": [
    "### ペナルティ関数\n",
    "\n",
    "##### 変数間の組合せパターンに関する制約が追加されております\n",
    "\n",
    "$ \n",
    "\\begin{align*}\n",
    "&s.t.& 0 \\leqq  & A  \\leqq 5 \\\\\n",
    "& & 0 \\leqq  & B  \\leqq 3 \\\\\n",
    "& &X \\in&  \\{ 0,1 \\} \\\\\n",
    "& &Y \\in&  \\{ -2,-1,0,1 \\} \\\\\n",
    "& &Z \\in&  \\{0,1\\}\\\\\n",
    "& &(X,Y) \\in&  \\{(0,-2), (0,-1), (1, 0),(1,1)\\}\n",
    "\\end{align*}\n",
    "$"
   ]
  },
  {
   "cell_type": "code",
   "execution_count": 4,
   "id": "30de2d21",
   "metadata": {},
   "outputs": [],
   "source": [
    "# ペナルティ関数で判定したい制約条件のリスト\n",
    "# 教材用にこちらで定義しているが、後ほど登場する「generator_config」から作れるようにした方が良い\n",
    "cases = [\n",
    "    {\"type\": \"minmax\", \"case\": {0: {\"min\": 0, \"max\": 5}, 1: {\"min\": 0, \"max\": 3}}},\n",
    "    {\"type\": \"pattern\", \"case\": {4: {\"values\": [0, 1]}}},\n",
    "    {\n",
    "        \"type\": \"pattern_comb\",\n",
    "        \"case\": {(2, 3): {\"choices\": [(0, -2), (0, -1), (1, 0), (1, 1)]}},\n",
    "    },\n",
    "]"
   ]
  },
  {
   "cell_type": "markdown",
   "id": "e332dd31",
   "metadata": {},
   "source": [
    "#### 複数変数のパターン組み合わせに関する制約を満たしているかをjudge_pattern_combという関数でチェックする"
   ]
  },
  {
   "cell_type": "code",
   "execution_count": 5,
   "id": "76313e94",
   "metadata": {},
   "outputs": [],
   "source": [
    "# ペナルティ関数で使用する関数\n",
    "# 可能範囲以内(連続値)\n",
    "def judge_minmax(individual, case):\n",
    "    \"\"\"\n",
    "    individual(list): 個体の設計変数を格納するlist\n",
    "    cases(list): 判定したい条件のlist(各要素はdict型)\n",
    "    \"\"\"\n",
    "    for k, v in case.items():\n",
    "        if not float(v[\"min\"]) <= individual[int(k)] <= v[\"max\"]:\n",
    "            return False\n",
    "    return True\n",
    "\n",
    "\n",
    "# 可能範囲以内（離散値）\n",
    "def judge_pattern(individual, case):\n",
    "    for k, v in case.items():\n",
    "        if not individual[int(k)] in v[\"values\"]:\n",
    "            return False\n",
    "    return True\n",
    "\n",
    "\n",
    "# 複数変数のパターン制約\n",
    "def judge_pattern_comb(individual, case):\n",
    "    for (k, l), v in case.items():\n",
    "        if not (individual[int(k)], individual[int(l)]) in v[\"choices\"]:\n",
    "            return False\n",
    "    return True\n",
    "\n",
    "\n",
    "# ペナルティ関数用の条件判定関数 - 他の条件が出来た時にfor文内に追記することで対応可\n",
    "def judge(individual, cases):\n",
    "    for case in cases:\n",
    "        if case[\"type\"] == \"minmax\":\n",
    "            if not judge_minmax(individual, case[\"case\"]):\n",
    "                return False\n",
    "        if case[\"type\"] == \"pattern\":\n",
    "            if not judge_pattern(individual, case[\"case\"]):\n",
    "                return False\n",
    "        if case[\"type\"] == \"pattern_comb\":\n",
    "            if not judge_pattern_comb(individual, case[\"case\"]):\n",
    "                return False\n",
    "    return True"
   ]
  },
  {
   "cell_type": "markdown",
   "id": "fb8aadb9",
   "metadata": {},
   "source": [
    "#### 評価関数&ペナルティ関数の導入"
   ]
  },
  {
   "cell_type": "code",
   "execution_count": 6,
   "id": "cd15db8b",
   "metadata": {},
   "outputs": [],
   "source": [
    "# ペナルティ関数の罰則値(適応度)\n",
    "distance = (1000, 1000)\n",
    "\n",
    "# 評価関数を作成\n",
    "toolbox = base.Toolbox()\n",
    "toolbox.register(\"evaluate\", objectfunction)\n",
    "toolbox.register(\"feasible\", judge, cases=cases)\n",
    "toolbox.decorate(\"evaluate\", tools.DeltaPenality(toolbox.feasible, delta=distance))"
   ]
  },
  {
   "cell_type": "markdown",
   "id": "309e52c9",
   "metadata": {},
   "source": [
    "# Part.3 遺伝的アルゴリズムの設計"
   ]
  },
  {
   "cell_type": "markdown",
   "id": "49d97780",
   "metadata": {},
   "source": [
    "## 遺伝的アルゴリズムにおける個体の表現"
   ]
  },
  {
   "cell_type": "code",
   "execution_count": 7,
   "id": "0ad5bd0f",
   "metadata": {},
   "outputs": [],
   "source": [
    "# 適合度を最小化することで最適化されるような適合度クラスの作成\n",
    "creator.create(\"FitnessMin\", base.Fitness, weights=(-1.0, -1.0))\n",
    "# 個体クラスIndividualを作成\n",
    "creator.create(\"Individual\", list, fitness=creator.FitnessMin)"
   ]
  },
  {
   "cell_type": "markdown",
   "id": "90d16d9a",
   "metadata": {},
   "source": [
    "### 制約条件を満たした初期値設定\n",
    "\n",
    "$ \n",
    "\\begin{align*}\n",
    "&s.t.& 0 \\leqq  & A  \\leqq 5 \\\\\n",
    "& & 0 \\leqq  & B  \\leqq 3 \\\\\n",
    "& &X \\in&  \\{ 0,1 \\} \\\\\n",
    "& &Y \\in&  \\{ -2,-1,0,1 \\} \\\\\n",
    "& &Z \\in&  \\{0,1\\}\\\\\n",
    "& &(X,Y) \\in&  \\{(0,-2), (0,-1), (1, 0),(1,1)\\}\n",
    "\\end{align*}\n",
    "$"
   ]
  },
  {
   "cell_type": "code",
   "execution_count": 8,
   "id": "66b53976",
   "metadata": {},
   "outputs": [],
   "source": [
    "# 個体を作成する制約条件を記載したのdictを作成\n",
    "generator_config = {\n",
    "    # 使用するカラム\n",
    "    \"columns\": [\"A\", \"B\", \"X\", \"Y\", \"Z\"],\n",
    "    # 各連続値の作成条件\n",
    "    \"variables\": {\n",
    "        \"A\": {\"type\": \"real\", \"values\": {\"min\": 0, \"max\": 5}},\n",
    "        \"B\": {\"type\": \"real\", \"values\": {\"min\": 0, \"max\": 3}},\n",
    "        \"X\": {\"type\": \"discrete\", \"values\": [0, 1]},\n",
    "        \"Y\": {\"type\": \"discrete\", \"values\": [-2, -1, 0, 1]},\n",
    "        \"Z\": {\"type\": \"discrete\", \"values\": [0, 1]},\n",
    "    },\n",
    "    # パターンが決まっている変数の条件\n",
    "    \"selection\": [\n",
    "        {\n",
    "            \"columns\": [\"X\", \"Y\"],\n",
    "            \"choices\": [\n",
    "                {\"X\": 0, \"Y\": -2},\n",
    "                {\"X\": 0, \"Y\": -1},\n",
    "                {\"X\": 1, \"Y\": 0},\n",
    "                {\"X\": 1, \"Y\": 1},\n",
    "            ],\n",
    "        }\n",
    "    ],\n",
    "    # 突然変異で使うカラムの指定\n",
    "    \"mutate_real_col\": [\"A\", \"B\"],\n",
    "    \"mutate_disc_col\": [\"X\", \"Y\", \"Z\"],\n",
    "    # 交叉で使用するカラムの指定\n",
    "    # 独立なカラム\n",
    "    \"independent_real_col\": [\"A\", \"B\"],\n",
    "    \"independent_disc_col\": [\"Z\"],\n",
    "    # 複数変数間の依存関係があるカラム\n",
    "    \"dependent_disc_col\": [[\"X\", \"Y\"]],\n",
    "}"
   ]
  },
  {
   "cell_type": "markdown",
   "id": "a91abd37",
   "metadata": {},
   "source": [
    "## 初期サンプルの生成関数\n",
    "####  generator_configから初期値生成"
   ]
  },
  {
   "cell_type": "code",
   "execution_count": 9,
   "id": "89733548",
   "metadata": {},
   "outputs": [],
   "source": [
    "# 個体を生成する関数\n",
    "def generator(generator_config):\n",
    "    \"\"\"\n",
    "    generator_config (dict): 個体を作成する制約条件が記載されたdict\n",
    "    \"\"\"\n",
    "\n",
    "    var = generator_config[\"variables\"]\n",
    "    selections = generator_config[\"selection\"]\n",
    "    variables = {}\n",
    "    for k, v in var.items():\n",
    "        # 連続値のサンプル生成\n",
    "        if v[\"type\"] == \"real\":\n",
    "            variables[k] = random.uniform(v[\"values\"][\"min\"], v[\"values\"][\"max\"])\n",
    "        if v[\"type\"] == \"discrete\":\n",
    "            variables[k] = random.choice(v[\"values\"])\n",
    "    for selection in selections:\n",
    "        # 組み合わせ制約を満たすように離散値のサンプル生成\n",
    "        choice = random.choice(selection[\"choices\"])\n",
    "        for k in choice:\n",
    "            variables[k] = choice[k]\n",
    "\n",
    "    return [variables[col] for col in generator_config[\"columns\"]]\n",
    "\n",
    "\n",
    "# [お試し]このように作成される\n",
    "# generator(generator_config)"
   ]
  },
  {
   "cell_type": "markdown",
   "id": "0f03c163",
   "metadata": {},
   "source": [
    "#### 制約条件を満たすように初期サンプルを生成"
   ]
  },
  {
   "cell_type": "code",
   "execution_count": 10,
   "id": "e4e775df",
   "metadata": {},
   "outputs": [],
   "source": [
    "toolbox.register(\"generator\", generator, generator_config)\n",
    "toolbox.register(\"individual\", tools.initIterate, creator.Individual, toolbox.generator)\n",
    "toolbox.register(\"population\", tools.initRepeat, list, toolbox.individual)"
   ]
  },
  {
   "cell_type": "markdown",
   "id": "cc053a0e",
   "metadata": {},
   "source": [
    "\n",
    "## 遺伝子操作関数\n",
    "\n",
    "#### 進化計算で重要な役割を持つ遺伝子操作を行う関数を生成\n",
    "\n",
    "- 今回は離散値の複数変数間に制約があるので、制約条件を満たすように交叉を行う\n",
    "\n",
    "### 交叉\n",
    "\n",
    "1. 交叉関数 : 自作関数\n",
    "   - まず2点交叉を実施\n",
    "   - 独立な変数については2点交叉後の値を返す\n",
    "   - 複数変数間の制約がある変数については変更を行わず、従属関係がある変数群毎に1/2の確率で成分入れ替えを実施する"
   ]
  },
  {
   "cell_type": "code",
   "execution_count": 11,
   "id": "0e92b9a7",
   "metadata": {},
   "outputs": [],
   "source": [
    "# 交叉用のdict作成する関数\n",
    "def maconfig(constrain_dict):\n",
    "    \"\"\"\n",
    "    constrain_dict(dict):制約条件格納dict\n",
    "    \"\"\"\n",
    "\n",
    "    cols = constrain_dict[\"columns\"]  # 現状のカラム\n",
    "    variables = constrain_dict[\"variables\"]  # min-max等、その変数の取れる値\n",
    "\n",
    "    cxr = constrain_dict[\"independent_real_col\"]  # 交叉を実施する独立連続値のカラム\n",
    "    dxr = constrain_dict[\"independent_disc_col\"]  # 交叉を実施する独立離散値のカラム\n",
    "\n",
    "    ma_real_index = [cols.index(c) for c in cxr if c in cols]  # 連続値のindex\n",
    "    ma_disc_index = [cols.index(c) for c in dxr if c in cols]  # 離散値のindex\n",
    "    macfg = {}\n",
    "    macfg[\"independent_indexs\"] = ma_real_index + ma_disc_index  # 独立変数のカラム\n",
    "    macfg[\"dependent_indexs\"] = [\n",
    "        [cols.index(c) for c in cols if c in constrain_dict[\"dependent_disc_col\"][i]]\n",
    "        for i in range(len(constrain_dict[\"dependent_disc_col\"]))\n",
    "    ]  # 複数変数組み合わせパターンに制約のあるカラム\n",
    "\n",
    "    return macfg"
   ]
  },
  {
   "cell_type": "code",
   "execution_count": 12,
   "id": "6264226a",
   "metadata": {},
   "outputs": [
    {
     "name": "stdout",
     "output_type": "stream",
     "text": [
      "{'independent_indexs': [0, 1, 4], 'dependent_indexs': [[2, 3]]}\n"
     ]
    }
   ],
   "source": [
    "macfg = maconfig(generator_config)\n",
    "print(macfg)"
   ]
  },
  {
   "cell_type": "code",
   "execution_count": 13,
   "id": "806b18e2",
   "metadata": {},
   "outputs": [],
   "source": [
    "# 交叉を行う関数\"mate\"を登録\n",
    "def cxTwoPoint_pattern(ind1, ind2, independent_indexs, dependent_indexs, threshold=0.5):\n",
    "    \"\"\"\n",
    "    離散値の複数変数間に制約がある場合の交叉を実施する。\n",
    "    独立な変数はそのまま2点交叉を実施し、制約のある離散値変数群はまとめて交叉を実施する\n",
    "\n",
    "    \"\"\"\n",
    "    # 独立変数の交叉\n",
    "    ind1_real = [ind1[idx] for idx in independent_indexs]\n",
    "    ind2_real = [ind2[idx] for idx in independent_indexs]\n",
    "    ind1_real, ind2_real = tools.cxTwoPoint(ind1_real, ind2_real)\n",
    "    for i, idx in enumerate(independent_indexs):\n",
    "        ind1[idx] = ind1_real[i]\n",
    "        ind2[idx] = ind2_real[i]\n",
    "    # パターン制約のある離散値変数群の交叉\n",
    "    for idxs in dependent_indexs:\n",
    "        if random.random() >= threshold:\n",
    "            for idx in idxs:\n",
    "                ind1[idx], ind2[idx] = ind2[idx], ind1[idx]\n",
    "    return ind1, ind2\n",
    "\n",
    "\n",
    "toolbox.register(\"mate\", cxTwoPoint_pattern, **macfg)"
   ]
  },
  {
   "cell_type": "markdown",
   "id": "2467cdcd",
   "metadata": {},
   "source": [
    "### 突然変異\n",
    "\n",
    "2. 変異関数 : 自作関数(`mutPolynomialBounded` [deap公式のリンク](https://deap.readthedocs.io/en/master/api/tools.html#deap.tools.mutPolynomialBounded)　[github](https://github.com/DEAP/deap/blob/master/deap/tools/mutation.py) を制約満たすように改変したもの)\n"
   ]
  },
  {
   "cell_type": "markdown",
   "id": "f2105c2d",
   "metadata": {},
   "source": [
    "#### 各設計変数ごとに突然変異が適応できる用にする関数\n",
    "- 複数変数のパターン(離散値部分)に関する処理を追加している\n",
    "- 制約を付与するカラムのindex,パターンをmuconfig関数で取得"
   ]
  },
  {
   "cell_type": "code",
   "execution_count": 14,
   "id": "d5ce4e01",
   "metadata": {},
   "outputs": [],
   "source": [
    "# 突然変異用のdict作成する関数\n",
    "def muconfig(constrain_dict):\n",
    "    \"\"\"\n",
    "    constrain_dict(dict):制約条件格納dict\n",
    "    \"\"\"\n",
    "\n",
    "    cols = constrain_dict[\"columns\"]  # 現状のカラム\n",
    "    variables = constrain_dict[\"variables\"]  # min-max等、その変数の取れる値\n",
    "\n",
    "    mur = constrain_dict[\"mutate_real_col\"]  # 突然変異するカラム(連続値)\n",
    "    mud = constrain_dict[\"mutate_disc_col\"]  # 突然変異するカラム（離散値）\n",
    "\n",
    "    mu_real_index = [cols.index(c) for c in cols if c in mur]  # 連続値のindex\n",
    "    mu_disc_index = [cols.index(c) for c in cols if c in mud]  # 離散値のindex\n",
    "\n",
    "    mu_low = [\n",
    "        constrain_dict[\"variables\"][col][\"values\"][\"min\"] for col in cols if col in mur\n",
    "    ]  # 連続値の下限\n",
    "\n",
    "    mu_up = [\n",
    "        constrain_dict[\"variables\"][col][\"values\"][\"max\"] for col in cols if col in mur\n",
    "    ]  # 連続値の上限\n",
    "\n",
    "    mu_values = [\n",
    "        constrain_dict[\"variables\"][col][\"values\"] for col in cols if col in mud\n",
    "    ]  # 離散値の取りうる値\n",
    "\n",
    "    combination_indexs = [\n",
    "        [cols.index(col) for col in sel[\"columns\"] if col in mud]\n",
    "        for sel in constrain_dict[\"selection\"]\n",
    "    ]  # 組み合わせの制約\n",
    "\n",
    "    # 組み合わせののユニークなパターンを取得\n",
    "    comb_choices = []\n",
    "    for sel in constrain_dict[\"selection\"]:\n",
    "        cs = sel[\"columns\"]\n",
    "        comb_choices.append(\n",
    "            [\n",
    "                [sel[\"choices\"][i][c] for c in cs if c in cols]\n",
    "                for i in range(len(sel[\"choices\"]))\n",
    "            ]\n",
    "        )\n",
    "\n",
    "    for mi, ma in zip(mu_low, mu_up):  # 上限と下限が逆転していないか？イコールになっていないか？\n",
    "        if not mi <= ma:\n",
    "            raise MutateionError(\"some low values higher than ups values\")\n",
    "\n",
    "    mucfg = {}\n",
    "    mucfg[\"real_indexs\"] = mu_real_index  # 連続値に対する設計変数のindex\n",
    "    mucfg[\"lows\"] = mu_low  # 連続値に対する設計変数の最小値\n",
    "    mucfg[\"ups\"] = mu_up  # 連続値に対する設計変数の最大値\n",
    "    mucfg[\"discrete_indexs\"] = mu_disc_index  # 独立な離散値に対する設計変数のindex\n",
    "    mucfg[\"discrete_values\"] = mu_values  # 離散値設計変数が取りうる値\n",
    "    mucfg[\"combination_indexs\"] = combination_indexs  # 取り得る組み合わせのindex\n",
    "    mucfg[\"comb_choices\"] = comb_choices  # 取り得る組み合わせの値の集合\n",
    "\n",
    "    return mucfg"
   ]
  },
  {
   "cell_type": "code",
   "execution_count": 15,
   "id": "f55e76be",
   "metadata": {},
   "outputs": [
    {
     "data": {
      "text/plain": [
       "{'real_indexs': [0, 1],\n",
       " 'lows': [0, 0],\n",
       " 'ups': [5, 3],\n",
       " 'discrete_indexs': [2, 3, 4],\n",
       " 'discrete_values': [[0, 1], [-2, -1, 0, 1], [0, 1]],\n",
       " 'combination_indexs': [[2, 3]],\n",
       " 'comb_choices': [[[0, -2], [0, -1], [1, 0], [1, 1]]]}"
      ]
     },
     "execution_count": 15,
     "metadata": {},
     "output_type": "execute_result"
    }
   ],
   "source": [
    "# 突然変異用のdice作成\n",
    "mucfg = muconfig(generator_config)\n",
    "mucfg"
   ]
  },
  {
   "cell_type": "markdown",
   "id": "557b2b38",
   "metadata": {},
   "source": [
    "#### 変異の処理も制約を満たすように修正"
   ]
  },
  {
   "cell_type": "code",
   "execution_count": 16,
   "id": "1970cd00",
   "metadata": {},
   "outputs": [],
   "source": [
    "# 各変数ごとに分けて突然変異をするための関数\n",
    "def mutation(\n",
    "    individual,\n",
    "    realmut,\n",
    "    real_indexs,\n",
    "    discrete_indexs,\n",
    "    discrete_values,\n",
    "    combination_indexs,\n",
    "    comb_choices,\n",
    "    lows,\n",
    "    ups,\n",
    "    indpb=None,\n",
    "):\n",
    "    \"\"\"\n",
    "    individual (list): 個体のlist\n",
    "    realmut(function): 親個体, lows, ups, indpbを引数にとる変異関数\n",
    "    real_index(list): 設計変数の内、連続値であるもののindexからなるlist\n",
    "    discrete_indexs(list): 設計変数の内、離散値であるもののindexからなるlist\n",
    "    discrete_values(list): 離散値の設計変数の取りうる値のlistからなるlist\n",
    "    combination_indexs(list): 複数変数間で組み合わせパターンの制約があるindexからなるlist\n",
    "    comb_choices(list): 制約条件を満たす（取り得る)組み合わせパターンのlist\n",
    "    lows (list): 連続値の最小値\n",
    "    ups(list) : 連続値の最大値\n",
    "    indpb(float): 各変数に対して変異を行うか否かの確率、デフォルト値はNone. 0 <= indpb <= 1.\n",
    "    \"\"\"\n",
    "\n",
    "    if not isinstance(real_indexs, list):\n",
    "        raise CrossoverError(\n",
    "            f'argment \"real_indexs\" must be list but inputed' + f\"{type(real_indexs)}\"\n",
    "        )\n",
    "    if not isinstance(discrete_indexs, list):\n",
    "        raise CrossoverError(\n",
    "            f'argment \"disc_indexs\" must be list but inputed' + f\"{type(disc_indexs)}\"\n",
    "        )\n",
    "    if len(set(real_indexs) & set(discrete_indexs)) > 0:\n",
    "        raise MutateionError(\n",
    "            \"The continuous value index and the dummy value index\" \" are duplicated.\"\n",
    "        )\n",
    "    if not isinstance(lows, list):\n",
    "        raise MutateionError(f\"argment lows must be  list but {type(lows)}\")\n",
    "    if not isinstance(ups, list):\n",
    "        raise MutateionError(f\"argment ups must be  list but {type(ups)}\")\n",
    "\n",
    "    if not (len(real_indexs) == len(lows) and len(real_indexs) == len(ups)):\n",
    "        raise MutateionError(\"not match lows, ups ,or real_indexs length\")\n",
    "\n",
    "    if indpb is None:\n",
    "        indpb = 1 / (len(real_indexs) + len(combination_indexs))\n",
    "\n",
    "    # 連続値の染色体を抽出\n",
    "    real_chromosome = [individual[i] for i in real_indexs]\n",
    "    # 変異を実施\n",
    "    real_chromosome = realmut(real_chromosome, low=lows, up=ups, indpb=indpb)[0]\n",
    "    for i, r in zip(real_indexs, real_chromosome):\n",
    "        individual[i] = r\n",
    "\n",
    "    # 離散値の染色体を抽出\n",
    "    discrete_chromosome = [individual[i] for i in discrete_indexs]\n",
    "    # 変異を実施\n",
    "    discrete_chromosome = muchoice(discrete_chromosome, discrete_values, indpb=indpb)[0]\n",
    "    # 染色体の書き換え\n",
    "    for i, d in zip(discrete_indexs, discrete_chromosome):\n",
    "        individual[i] = d\n",
    "\n",
    "    # 組み合わせ規定の染色体を抽出\n",
    "    comb_chromosome = [[individual[i] for i in c] for c in combination_indexs]\n",
    "    # 変異を実施\n",
    "    comb_chromosome = muchoice(comb_chromosome, comb_choices, indpb=indpb)[0]\n",
    "    # 染色体の書き換え\n",
    "    for i, c in zip(\n",
    "        itertools.chain.from_iterable(combination_indexs),\n",
    "        itertools.chain.from_iterable(comb_chromosome),\n",
    "    ):\n",
    "\n",
    "        individual[i] = c\n",
    "\n",
    "    return (individual,)"
   ]
  },
  {
   "cell_type": "markdown",
   "id": "a1004e23",
   "metadata": {},
   "source": [
    "#### 離散値用の変異処理"
   ]
  },
  {
   "cell_type": "code",
   "execution_count": 17,
   "id": "2ca2ce33",
   "metadata": {},
   "outputs": [],
   "source": [
    "def muchoice(individual, patterns, indpb):\n",
    "    \"\"\"離散値、ダミー変数、組み合わせ規定で設定されている各々の固有パターンから変異を行う。\n",
    "    変数ごと与えられたパターンのいずれかに確率的に変異する。\n",
    "    Args:\n",
    "        individual(list):有限パターンの変数を持つlist\n",
    "        patterns(list):変数ごと取りうるユニークな値を格納\n",
    "        indpb(float):変異確率\n",
    "    Returns:\n",
    "        tuple:indvidualを書き換えたものをtupleで返す\n",
    "    Examples:\n",
    "        >>> indivudual = [0, 1, 1]\n",
    "        >>> patterns = [[0, 1], [0, 1, 1.3], [1]]\n",
    "        >>> muchoice(individual, patterns, 0.3)\n",
    "        [0, 1.3, 1] # 確率によって値の変異\n",
    "    \"\"\"\n",
    "    for i, comb in enumerate(patterns):\n",
    "        if random.random() < indpb:\n",
    "            individual[i] = random.choice(comb)\n",
    "\n",
    "    return (individual,)"
   ]
  },
  {
   "cell_type": "code",
   "execution_count": 18,
   "id": "300374bc",
   "metadata": {},
   "outputs": [],
   "source": [
    "# deapにある突然変異関数を用意\n",
    "realmut = partial(tools.mutPolynomialBounded, eta=20)\n",
    "\n",
    "# 突然変異を行う関数\"mutate\"を登録\n",
    "toolbox.register(\"mutate\", mutation, realmut=realmut, **mucfg)"
   ]
  },
  {
   "cell_type": "markdown",
   "id": "de6a957f",
   "metadata": {},
   "source": [
    "## 解の選択（世代交代）手法\n",
    "\n",
    "#### 今回は、NSGAⅢの選択手法を用いる\n",
    "\n",
    "- [selNSGA3について_deap公式](https://deap.readthedocs.io/en/master/api/tools.html#deap.tools.selNSGA3)\n",
    "- [selNSGA3の動作ついて_github](https://github.com/DEAP/deap/blob/master/deap/tools/emo.py '個体選択')\n",
    "\n"
   ]
  },
  {
   "cell_type": "code",
   "execution_count": 19,
   "id": "aefa45de",
   "metadata": {
    "tags": []
   },
   "outputs": [],
   "source": [
    "# 個体選択法\"select\"を登録\n",
    "toolbox.register(\"select\", tools.selNSGA3)"
   ]
  },
  {
   "cell_type": "markdown",
   "id": "d73cc048",
   "metadata": {},
   "source": [
    "#### NSGAⅡとの違い\n",
    "選択過程でreference lineを基準に適合度を計算し、変異を行う:\n",
    "```python\n",
    "toolbox.select(pop, len(pop), reference_points)\n",
    "```\n",
    "引数:\n",
    "- individuals: 親個体の集合\n",
    "- k: 選択する個体の数\n",
    "- ref_points: reference points\n",
    "\n",
    "`reference points`はreference lineを定める点で`tools.uniform_reference_points`関数によって生成することができる\n",
    "```python\n",
    "tools.uniform_reference_points(nobj, p)\n",
    "```\n",
    "引数:\n",
    "- nobj: 目的関数の数\n",
    "- p: reference pointの数"
   ]
  },
  {
   "cell_type": "markdown",
   "id": "dc91faea",
   "metadata": {},
   "source": [
    "# Part.4 最適化計算の実行\n",
    "\n",
    "#### 初期状態の設定\n",
    "\n",
    "- 初期サンプル（第一世代）の生成\n",
    "- 適合度割当"
   ]
  },
  {
   "cell_type": "code",
   "execution_count": 20,
   "id": "924b4a5e",
   "metadata": {
    "tags": []
   },
   "outputs": [],
   "source": [
    "# アルゴリズムパラメーター\n",
    "NOBJ = 2  # 目的関数の数\n",
    "P = 30  # reference pointの数\n",
    "CXPB = 1  # 交叉率\n",
    "MUTPB = 1  # 変異率\n",
    "NGEN = 100  # 繰り返し世代数\n",
    "MU = 200  # 集団内の個体数\n",
    "\n",
    "# 第一世代の生成\n",
    "pop = toolbox.population(n=MU)\n",
    "pop_init = pop[:]\n",
    "\n",
    "invalid_ind = []\n",
    "for ind in pop:\n",
    "    if not ind.fitness.valid:\n",
    "        invalid_ind.append(ind)\n",
    "\n",
    "fitnesses = toolbox.map(toolbox.evaluate, invalid_ind)\n",
    "for ind, fit in zip(invalid_ind, fitnesses):\n",
    "    ind.fitness.values = fit\n",
    "pop = toolbox.select(pop, len(pop), tools.uniform_reference_points(nobj=NOBJ, p=P))"
   ]
  },
  {
   "cell_type": "markdown",
   "id": "238e803a",
   "metadata": {},
   "source": [
    "#### 最適計算の実行\n"
   ]
  },
  {
   "cell_type": "code",
   "execution_count": 21,
   "id": "6c6b9926",
   "metadata": {
    "tags": []
   },
   "outputs": [],
   "source": [
    "for gen in range(2, NGEN + 1):\n",
    "    # 子母集団生成\n",
    "    offspring = varAnd(pop, toolbox, CXPB, MUTPB)\n",
    "\n",
    "    # 適合度計算\n",
    "    fitnesses = toolbox.map(toolbox.evaluate, offspring)\n",
    "    for ind, fit in zip(offspring, fitnesses):\n",
    "        ind.fitness.values = fit\n",
    "\n",
    "    # 次世代選択\n",
    "    pop = toolbox.select(\n",
    "        pop + offspring, len(pop), tools.uniform_reference_points(nobj=NOBJ, p=P)\n",
    "    )"
   ]
  },
  {
   "cell_type": "markdown",
   "id": "60a8b528",
   "metadata": {},
   "source": [
    "# Part5. 結果の確認\n",
    "\n",
    "## 初期世代と最終世代の目的関数の値を確認\n",
    "\n",
    "$\n",
    "\\begin{align*}\n",
    "&Minimize& f_1 & = 4A^2 + 4B^2 + X^2 + Y+Z\\\\\n",
    "&Minimize& f_2 & = (A - 5)^2 + (B - 5)^2 + X - 4(Y+5)^2-Z\n",
    "\\end{align*}\n",
    "$"
   ]
  },
  {
   "cell_type": "code",
   "execution_count": 22,
   "id": "56c043bc",
   "metadata": {},
   "outputs": [
    {
     "data": {
      "image/png": "[encoded data removed]",
      "text/plain": [
       "<Figure size 720x720 with 1 Axes>"
      ]
     },
     "metadata": {
      "needs_background": "light"
     },
     "output_type": "display_data"
    }
   ],
   "source": [
    "# 目的関数の値を確認\n",
    "plt.figure(figsize=(10, 10))\n",
    "fitnesses_init = np.array(\n",
    "    [list(pop_init[i].fitness.values) for i in range(len(pop_init))]\n",
    ")\n",
    "fitnesses = np.array([list(pop[i].fitness.values) for i in range(len(pop))])\n",
    "# グラフで確認\n",
    "plt.plot(fitnesses_init[:, 0], fitnesses_init[:, 1], \"b.\", label=\"Initial\")  # 初期世代\n",
    "plt.plot(fitnesses[:, 0], fitnesses[:, 1], \"r.\", label=\"Optimized\")  # 最終世代\n",
    "plt.legend(loc=\"upper right\")\n",
    "plt.title(\"fitnesses\")\n",
    "# 初期の例外値が残っているのでグラフ範囲を指定\n",
    "plt.xlim(-20, 150)\n",
    "plt.ylim(0, 200)\n",
    "plt.xlabel(\"f1\")\n",
    "plt.ylabel(\"f2\")\n",
    "plt.grid(True)"
   ]
  },
  {
   "cell_type": "markdown",
   "id": "250563c6",
   "metadata": {
    "tags": []
   },
   "source": [
    "#### ハイパーボリュームの計算"
   ]
  },
  {
   "cell_type": "code",
   "execution_count": 23,
   "id": "a3d140d0",
   "metadata": {},
   "outputs": [
    {
     "name": "stdout",
     "output_type": "stream",
     "text": [
      "Final population hypervolume is 11025.435241\n"
     ]
    }
   ],
   "source": [
    "# 最終世代のハイパーボリュームを出力\n",
    "print(\"Final population hypervolume is %f\" % hypervolume(pop, [200.0, 100.0]))"
   ]
  },
  {
   "cell_type": "markdown",
   "id": "002c5310",
   "metadata": {},
   "source": [
    "### 最終世代の設計変数と各適応度をデータフレームで確認"
   ]
  },
  {
   "cell_type": "code",
   "execution_count": 24,
   "id": "9d8fb5b4",
   "metadata": {},
   "outputs": [
    {
     "data": {
      "text/html": [
       "<div>\n",
       "<style scoped>\n",
       "    .dataframe tbody tr th:only-of-type {\n",
       "        vertical-align: middle;\n",
       "    }\n",
       "\n",
       "    .dataframe tbody tr th {\n",
       "        vertical-align: top;\n",
       "    }\n",
       "\n",
       "    .dataframe thead th {\n",
       "        text-align: right;\n",
       "    }\n",
       "</style>\n",
       "<table border=\"1\" class=\"dataframe\">\n",
       "  <thead>\n",
       "    <tr style=\"text-align: right;\">\n",
       "      <th></th>\n",
       "      <th>A</th>\n",
       "      <th>B</th>\n",
       "      <th>X</th>\n",
       "      <th>Y</th>\n",
       "      <th>Z</th>\n",
       "      <th>f1</th>\n",
       "      <th>f2</th>\n",
       "    </tr>\n",
       "  </thead>\n",
       "  <tbody>\n",
       "    <tr>\n",
       "      <th>0</th>\n",
       "      <td>0.006854</td>\n",
       "      <td>0.006078</td>\n",
       "      <td>0</td>\n",
       "      <td>-2</td>\n",
       "      <td>0</td>\n",
       "      <td>-1.999664</td>\n",
       "      <td>85.870771</td>\n",
       "    </tr>\n",
       "    <tr>\n",
       "      <th>1</th>\n",
       "      <td>2.379466</td>\n",
       "      <td>2.683718</td>\n",
       "      <td>0</td>\n",
       "      <td>-2</td>\n",
       "      <td>1</td>\n",
       "      <td>50.456801</td>\n",
       "      <td>47.232362</td>\n",
       "    </tr>\n",
       "    <tr>\n",
       "      <th>2</th>\n",
       "      <td>3.258788</td>\n",
       "      <td>2.999876</td>\n",
       "      <td>0</td>\n",
       "      <td>-2</td>\n",
       "      <td>1</td>\n",
       "      <td>77.475817</td>\n",
       "      <td>42.032316</td>\n",
       "    </tr>\n",
       "    <tr>\n",
       "      <th>3</th>\n",
       "      <td>2.684907</td>\n",
       "      <td>2.678830</td>\n",
       "      <td>0</td>\n",
       "      <td>-2</td>\n",
       "      <td>1</td>\n",
       "      <td>56.539428</td>\n",
       "      <td>45.747485</td>\n",
       "    </tr>\n",
       "    <tr>\n",
       "      <th>4</th>\n",
       "      <td>3.839174</td>\n",
       "      <td>2.995691</td>\n",
       "      <td>0</td>\n",
       "      <td>-2</td>\n",
       "      <td>1</td>\n",
       "      <td>93.853703</td>\n",
       "      <td>40.364769</td>\n",
       "    </tr>\n",
       "    <tr>\n",
       "      <th>...</th>\n",
       "      <td>...</td>\n",
       "      <td>...</td>\n",
       "      <td>...</td>\n",
       "      <td>...</td>\n",
       "      <td>...</td>\n",
       "      <td>...</td>\n",
       "      <td>...</td>\n",
       "    </tr>\n",
       "    <tr>\n",
       "      <th>195</th>\n",
       "      <td>3.126309</td>\n",
       "      <td>2.862916</td>\n",
       "      <td>0</td>\n",
       "      <td>-2</td>\n",
       "      <td>1</td>\n",
       "      <td>70.880385</td>\n",
       "      <td>43.077845</td>\n",
       "    </tr>\n",
       "    <tr>\n",
       "      <th>196</th>\n",
       "      <td>2.603392</td>\n",
       "      <td>2.930964</td>\n",
       "      <td>0</td>\n",
       "      <td>-2</td>\n",
       "      <td>1</td>\n",
       "      <td>60.472798</td>\n",
       "      <td>45.024640</td>\n",
       "    </tr>\n",
       "    <tr>\n",
       "      <th>197</th>\n",
       "      <td>3.870526</td>\n",
       "      <td>2.996250</td>\n",
       "      <td>0</td>\n",
       "      <td>-2</td>\n",
       "      <td>1</td>\n",
       "      <td>94.833936</td>\n",
       "      <td>40.290726</td>\n",
       "    </tr>\n",
       "    <tr>\n",
       "      <th>198</th>\n",
       "      <td>3.950313</td>\n",
       "      <td>2.999691</td>\n",
       "      <td>0</td>\n",
       "      <td>-2</td>\n",
       "      <td>1</td>\n",
       "      <td>97.412479</td>\n",
       "      <td>40.103080</td>\n",
       "    </tr>\n",
       "    <tr>\n",
       "      <th>199</th>\n",
       "      <td>0.842692</td>\n",
       "      <td>0.834222</td>\n",
       "      <td>0</td>\n",
       "      <td>-2</td>\n",
       "      <td>1</td>\n",
       "      <td>4.624227</td>\n",
       "      <td>69.636913</td>\n",
       "    </tr>\n",
       "  </tbody>\n",
       "</table>\n",
       "<p>200 rows × 7 columns</p>\n",
       "</div>"
      ],
      "text/plain": [
       "            A         B  X  Y  Z         f1         f2\n",
       "0    0.006854  0.006078  0 -2  0  -1.999664  85.870771\n",
       "1    2.379466  2.683718  0 -2  1  50.456801  47.232362\n",
       "2    3.258788  2.999876  0 -2  1  77.475817  42.032316\n",
       "3    2.684907  2.678830  0 -2  1  56.539428  45.747485\n",
       "4    3.839174  2.995691  0 -2  1  93.853703  40.364769\n",
       "..        ...       ... .. .. ..        ...        ...\n",
       "195  3.126309  2.862916  0 -2  1  70.880385  43.077845\n",
       "196  2.603392  2.930964  0 -2  1  60.472798  45.024640\n",
       "197  3.870526  2.996250  0 -2  1  94.833936  40.290726\n",
       "198  3.950313  2.999691  0 -2  1  97.412479  40.103080\n",
       "199  0.842692  0.834222  0 -2  1   4.624227  69.636913\n",
       "\n",
       "[200 rows x 7 columns]"
      ]
     },
     "execution_count": 24,
     "metadata": {},
     "output_type": "execute_result"
    }
   ],
   "source": [
    "design = pd.DataFrame(pop).rename(\n",
    "    columns={0: \"A\", 1: \"B\", 2: \"X\", 3: \"Y\", 4: \"Z\"}\n",
    ")  # 設計変数\n",
    "goal = pd.DataFrame(fitnesses).rename(columns={0: \"f1\", 1: \"f2\"})  # 適応度\n",
    "pd.concat([design, goal], axis=1)"
   ]
  },
  {
   "cell_type": "markdown",
   "id": "f666a020",
   "metadata": {},
   "source": [
    "#### テスト: 自作交叉関数の挙動確認"
   ]
  },
  {
   "cell_type": "markdown",
   "id": "3c1f0e3b",
   "metadata": {},
   "source": [
    "確認する事:\n",
    "- 個体の成分(A,B,X,Y,Z)に対して、A,B,Zは2点交叉を実行している\n",
    "- X,Yは交叉発生する場合、両方の成分を入れ替えている(パターンの制約から外れていない)"
   ]
  },
  {
   "cell_type": "markdown",
   "id": "b7b7d246",
   "metadata": {},
   "source": [
    "パターンの制約:\n",
    "$ \n",
    "\\begin{align*}\n",
    "& &(X,Y) \\in&  \\{(0,-2), (0,-1), (1, 0),(1,1)\\}\n",
    "\\end{align*}\n",
    "$"
   ]
  },
  {
   "cell_type": "code",
   "execution_count": 25,
   "id": "b48a524f",
   "metadata": {},
   "outputs": [],
   "source": [
    "random.seed(2021)\n",
    "ind1 = generator(generator_config)\n",
    "ind2 = generator(generator_config)"
   ]
  },
  {
   "cell_type": "code",
   "execution_count": 26,
   "id": "c05c946a",
   "metadata": {},
   "outputs": [
    {
     "data": {
      "text/plain": [
       "([4.181687511660371, 2.5749072126245625, 1, 1, 0],\n",
       " [2.3689541434620214, 0.1912235389545458, 0, -2, 1])"
      ]
     },
     "execution_count": 26,
     "metadata": {},
     "output_type": "execute_result"
    }
   ],
   "source": [
    "# 交叉前の2個体\n",
    "ind1, ind2"
   ]
  },
  {
   "cell_type": "code",
   "execution_count": 27,
   "id": "46f17ea2",
   "metadata": {},
   "outputs": [
    {
     "data": {
      "text/plain": [
       "([4.181687511660371, 0.1912235389545458, 0, -2, 0],\n",
       " [2.3689541434620214, 2.5749072126245625, 1, 1, 1])"
      ]
     },
     "execution_count": 27,
     "metadata": {},
     "output_type": "execute_result"
    }
   ],
   "source": [
    "# 交叉後の2個体\n",
    "toolbox.mate(ind1, ind2)"
   ]
  },
  {
   "cell_type": "code",
   "execution_count": null,
   "id": "453b4e11",
   "metadata": {},
   "outputs": [],
   "source": []
  }
 ],
 "metadata": {
  "kernelspec": {
   "display_name": "Python 3 (ipykernel)",
   "language": "python",
   "name": "python3"
  },
  "language_info": {
   "codemirror_mode": {
    "name": "ipython",
    "version": 3
   },
   "file_extension": ".py",
   "mimetype": "text/x-python",
   "name": "python",
   "nbconvert_exporter": "python",
   "pygments_lexer": "ipython3",
   "version": "3.9.5"
  }
 },
 "nbformat": 4,
 "nbformat_minor": 5
}
