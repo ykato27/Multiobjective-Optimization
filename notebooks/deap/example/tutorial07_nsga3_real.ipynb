{
 "cells": [
  {
   "cell_type": "markdown",
   "id": "0471b1fa",
   "metadata": {},
   "source": [
    "# Tutorial：7\n",
    "- 使用フレームワーク : deap\n",
    "- 選択手法 : NSGA-Ⅲ\n",
    "- 設計変数 : 4個\n",
    "  - 連続値 : 4個\n",
    "- 目的変数 : 2個\n",
    "- 制約条件 : 2パターン\n",
    "  1. 連続値のmin,max\n",
    "  2. 連続値の変数の比率に制約あり(一定制約)\n",
    "\n",
    "## 習得してもらうこと\n",
    "- 連続値の変数の比率に制約あり\n",
    "\n",
    "## 実施内容\n",
    " - Part0. 取り扱う問題設定\n",
    "\n",
    " - Patr1: モジュールのimport \n",
    "\n",
    " - Part2: 評価関数の作成\n",
    "   - 目的関数の設計\n",
    "   - ペナルティ関数の導入\n",
    "\n",
    "\n",
    " - Part3: 遺伝的アルゴリズムの設計\n",
    "   - 遺伝的アルゴリズムにおける個体の表現\n",
    "   - 遺伝子操作関数の設定\n",
    "     - 交叉\n",
    "     - 突然変異\n",
    "   - 解の選択手法の設定\n",
    "\n",
    "\n",
    " - Part4: 最適化計算の実行\n",
    "   - 初期状態の設定\n",
    "   - 遺伝的最適化計算の実行  \n",
    "\n",
    "\n",
    " - Part5. 結果の確認\n",
    "   - 初期世代と最終世代の目的関数の値を確認\n",
    "   - 制約条件を満たした値であるか確認\n",
    "   - ハイパーボリューム"
   ]
  },
  {
   "cell_type": "markdown",
   "id": "053c04c9",
   "metadata": {},
   "source": [
    "# Part0. 取り扱う問題設定\n",
    "\n",
    "$\n",
    "\\begin{align*}\n",
    "&Minimize& f_1 & = 4A^2 + 4B^2 + 4C^2 + D \\\\\n",
    "&Minimize& f_2 & = (A - 5)^2 + (B - 5)^2 - 4C -5D^2 \\\\\n",
    "&s.t.& 0 & \\leqq  A  \\leqq 5 \\\\\n",
    "& & 0& \\leqq  B  \\leqq 3 \\\\\n",
    "& & 0& \\leqq C \\leqq 5 \\\\\n",
    "& & 0& \\leqq D \\leqq 3 \\\\\n",
    "& &1& = (A * B)　/　(C * D)\n",
    "\\end{align*}\n",
    "$"
   ]
  },
  {
   "cell_type": "markdown",
   "id": "0eade217",
   "metadata": {},
   "source": [
    "# Part1. モジュールのimport"
   ]
  },
  {
   "cell_type": "code",
   "execution_count": 1,
   "id": "a387188a",
   "metadata": {},
   "outputs": [],
   "source": [
    "%load_ext lab_black"
   ]
  },
  {
   "cell_type": "code",
   "execution_count": 2,
   "id": "f4169c2c",
   "metadata": {
    "tags": []
   },
   "outputs": [],
   "source": [
    "import random\n",
    "from functools import partial\n",
    "from math import isclose\n",
    "\n",
    "import matplotlib.pyplot as plt\n",
    "import numpy as np\n",
    "import pandas as pd\n",
    "from deap import base, creator, tools\n",
    "from deap.algorithms import varAnd\n",
    "from deap.benchmarks.tools import hypervolume"
   ]
  },
  {
   "cell_type": "markdown",
   "id": "cc6c3f17",
   "metadata": {},
   "source": [
    "# Part2. 評価関数の作成"
   ]
  },
  {
   "cell_type": "markdown",
   "id": "a74b6170",
   "metadata": {},
   "source": [
    "### 目的関数\n",
    "\n",
    "$\n",
    "\\begin{align*}\n",
    "&Minimize& f_1 & = 4A^2 + 4B^2 + 4C^2 + D\\\\\n",
    "&Minimize& f_2 & = (A - 5)^2 + (B - 5)^2 - 4C -5D^2\n",
    "\\end{align*}\n",
    "$\n"
   ]
  },
  {
   "cell_type": "code",
   "execution_count": 3,
   "id": "0de9e8be",
   "metadata": {},
   "outputs": [],
   "source": [
    "# 評価関数\n",
    "def objectfunction(individual):\n",
    "    \"\"\"\n",
    "    individual(list): 個体の設計変数を格納するlist\n",
    "    \"\"\"\n",
    "    # 教材用として、A, B, C, Dの変数を作成\n",
    "    A = individual[0]\n",
    "    B = individual[1]\n",
    "    C = individual[2]\n",
    "    D = individual[3]\n",
    "\n",
    "    f1 = 4 * A ** 2 + 4 * B ** 2 + 4 * C ** 2 + D\n",
    "    f2 = (A - 5) ** 2 + (B - 5) ** 2 - 4 * C - 5 * D ** 2\n",
    "    return f1, f2"
   ]
  },
  {
   "cell_type": "markdown",
   "id": "b6aafd63",
   "metadata": {},
   "source": [
    "### ペナルティ関数\n",
    "\n",
    "$\n",
    "\\begin{align*}\n",
    "&s.t.& 0 & \\leqq  A  \\leqq 5 \\\\\n",
    "& & 0& \\leqq  B  \\leqq 3 \\\\\n",
    "& & 0& \\leqq C \\leqq 5 \\\\\n",
    "& & 0& \\leqq D \\leqq 3 \\\\\n",
    "& &1& = (A * B)　/　(C * D)\n",
    "\\end{align*}\n",
    "$"
   ]
  },
  {
   "cell_type": "code",
   "execution_count": 4,
   "id": "081f28aa",
   "metadata": {},
   "outputs": [],
   "source": [
    "# ペナルティ関数で判定したい制約条件のリスト\n",
    "# 教材用にこちらで定義していますが。後ほど登場する「generator_config」から作れるようにした方が良いです\n",
    "cases = [\n",
    "    {\n",
    "        \"type\": \"minmax\",\n",
    "        \"case\": {\n",
    "            0: {\"min\": 0, \"max\": 5},  # 設計変数:A\n",
    "            1: {\"min\": 0, \"max\": 3},  # 設計変数:B\n",
    "            2: {\"min\": 0, \"max\": 5},  # 設計変数:C\n",
    "            3: {\"min\": 0, \"max\": 3},  # 設計変数:D\n",
    "        },\n",
    "    },\n",
    "    {\n",
    "        \"type\": \"ratio\",\n",
    "        \"case\": {((0, 1), (2, 3)): {\"value\": 1}},  # 分子、分母の順\n",
    "    },  # 複数変数間の比率制約,\n",
    "]"
   ]
  },
  {
   "cell_type": "markdown",
   "id": "8b38d0e5",
   "metadata": {},
   "source": [
    "#### 複数変数のパターン組み合わせに関する制約を満たしているかをjudge_ratioという関数でチェックします"
   ]
  },
  {
   "cell_type": "code",
   "execution_count": 5,
   "id": "ee04c0a9",
   "metadata": {},
   "outputs": [],
   "source": [
    "# ペナルティ関数で使用する関数\n",
    "# 可能範囲以内(連続値)\n",
    "def judge_minmax(individual, case):\n",
    "    for k, v in case.items():\n",
    "        if not float(v[\"min\"]) <= individual[int(k)] <= v[\"max\"]:\n",
    "            return False\n",
    "    return True\n",
    "\n",
    "\n",
    "# 複数変数の比率制約\n",
    "def judge_ratio(individual, case):\n",
    "    for (numerator_idxs, denominator_idxs), v in case.items():\n",
    "        numerator = 1\n",
    "        denominator = 1\n",
    "        # 分子の計算\n",
    "        for idx in numerator_idxs:\n",
    "            numerator *= individual[int(idx)]\n",
    "        # 分母の計算\n",
    "        for idx in denominator_idxs:\n",
    "            denominator *= individual[int(idx)]\n",
    "        # 分母が0の場合にFalseを返す(比率の計算をスキップする)\n",
    "        if denominator == 0:\n",
    "            return False\n",
    "        ratio = numerator / denominator\n",
    "        # math.isclose関数で同値判定（計算誤差によって、比率の制約が満たされなくなることを回避する）\n",
    "        if not isclose(ratio, v[\"value\"]):\n",
    "            return False\n",
    "    return True\n",
    "\n",
    "\n",
    "# ペナルティ関数用の条件判定関数 - 他の条件が出来た時にfor文内に追記することで対応可\n",
    "def judge(individual, cases):\n",
    "    \"\"\"\n",
    "    individual(list): 個体の設計変数を格納するlist\n",
    "    cases(list): 判定したい条件のlist(各要素はdict型)\n",
    "    \"\"\"\n",
    "    for case in cases:\n",
    "        if case[\"type\"] == \"minmax\":\n",
    "            if not judge_minmax(individual, case[\"case\"]):\n",
    "                return False\n",
    "        if case[\"type\"] == \"ratio\":\n",
    "            if not judge_ratio(individual, case[\"case\"]):\n",
    "                return False\n",
    "\n",
    "    return True"
   ]
  },
  {
   "cell_type": "markdown",
   "id": "4d70ce55",
   "metadata": {},
   "source": [
    "#### 評価関数&ペナルティ関数の導入"
   ]
  },
  {
   "cell_type": "code",
   "execution_count": 6,
   "id": "07d51a5e",
   "metadata": {},
   "outputs": [],
   "source": [
    "# ペナルティ関数の罰則値(適応度)\n",
    "distance = (1000, 1000)\n",
    "\n",
    "# 評価関数を作成\n",
    "toolbox = base.Toolbox()\n",
    "toolbox.register(\"evaluate\", objectfunction)\n",
    "toolbox.register(\"feasible\", judge, cases=cases)\n",
    "toolbox.decorate(\"evaluate\", tools.DeltaPenality(toolbox.feasible, delta=distance))"
   ]
  },
  {
   "cell_type": "markdown",
   "id": "a8e36ba8",
   "metadata": {},
   "source": [
    "# Part.3 遺伝的アルゴリズムの設計"
   ]
  },
  {
   "cell_type": "markdown",
   "id": "dee345cd",
   "metadata": {},
   "source": [
    "## 遺伝的アルゴリズムにおける個体の表現"
   ]
  },
  {
   "cell_type": "code",
   "execution_count": 7,
   "id": "ffd1b66e",
   "metadata": {},
   "outputs": [],
   "source": [
    "# 適合度を最小化することで最適化されるような適合度クラスの作成\n",
    "creator.create(\"FitnessMin\", base.Fitness, weights=(-1.0, -1.0))\n",
    "# 個体クラスIndividualを作成\n",
    "creator.create(\"Individual\", list, fitness=creator.FitnessMin)"
   ]
  },
  {
   "cell_type": "markdown",
   "id": "7de2e073",
   "metadata": {},
   "source": [
    "### 制約条件を満たした初期値設定\n",
    "\n",
    "$\n",
    "\\begin{align*}\n",
    "&s.t.& 0 & \\leqq  A  \\leqq 5 \\\\\n",
    "& & 0& \\leqq  B  \\leqq 3 \\\\\n",
    "& & 0& \\leqq C \\leqq 5 \\\\\n",
    "& & 0& \\leqq D \\leqq 3 \\\\\n",
    "& &1& = (A * B)　/　(C * D)\n",
    "\\end{align*}\n",
    "$"
   ]
  },
  {
   "cell_type": "code",
   "execution_count": 8,
   "id": "c2eafc46",
   "metadata": {},
   "outputs": [],
   "source": [
    "# 個体を作成する制約条件を記載したのdictを作成\n",
    "generator_config = {\n",
    "    # 使用するカラム\n",
    "    \"columns\": [\"A\", \"B\", \"C\", \"D\"],\n",
    "    # 各連続値の作成条件\n",
    "    \"variables\": {\n",
    "        \"A\": {\"type\": \"real\", \"values\": {\"min\": 0, \"max\": 5}},\n",
    "        \"B\": {\"type\": \"real\", \"values\": {\"min\": 0, \"max\": 3}},\n",
    "        \"C\": {\"type\": \"real\", \"values\": {\"min\": 0, \"max\": 5}},\n",
    "        \"D\": {\"type\": \"real\", \"values\": {\"min\": 0, \"max\": 3}},\n",
    "    },\n",
    "    # 複数の変数の和の条件\n",
    "    \"constrains\": [\n",
    "        {\n",
    "            \"type\": \"real\",\n",
    "            \"numerator_indexs\": [\"A\", \"B\"],  # 分子のindex\n",
    "            \"denominator_indexs\": [\"C\", \"D\"],  # 分母のindex\n",
    "            \"value\": 1,\n",
    "        }\n",
    "    ],\n",
    "    # 突然変異で使うカラムの指定\n",
    "    \"mutate_real_col\": [\"A\", \"B\", \"C\", \"D\"],\n",
    "    # 交叉で使用する連続値のカラム\n",
    "    \"independent_real_col\": [\"A\", \"B\", \"C\", \"D\"],\n",
    "}"
   ]
  },
  {
   "cell_type": "markdown",
   "id": "6a3d2f97",
   "metadata": {},
   "source": [
    "## 初期サンプルの生成関数\n",
    "####  generator_configから初期値生成"
   ]
  },
  {
   "cell_type": "code",
   "execution_count": 9,
   "id": "bace9610",
   "metadata": {},
   "outputs": [],
   "source": [
    "# 個体を生成する関数\n",
    "def generator(generator_config):\n",
    "    \"\"\"\n",
    "    generator_config (dict): 個体を作成する制約条件が記載されたdict\n",
    "    \"\"\"\n",
    "\n",
    "    var = generator_config[\"variables\"]\n",
    "    variables = {}\n",
    "    for k, v in var.items():\n",
    "        # 連続値のサンプル生成\n",
    "        if v[\"type\"] == \"real\":\n",
    "            variables[k] = random.uniform(v[\"values\"][\"min\"], v[\"values\"][\"max\"])\n",
    "\n",
    "    return [variables[col] for col in generator_config[\"columns\"]]\n",
    "\n",
    "\n",
    "# [お試し]このように作成されます\n",
    "# generator(generator_config)"
   ]
  },
  {
   "cell_type": "markdown",
   "id": "d2849cce",
   "metadata": {},
   "source": [
    "#### 初期サンプルを生成"
   ]
  },
  {
   "cell_type": "code",
   "execution_count": 10,
   "id": "9b10fc61",
   "metadata": {},
   "outputs": [],
   "source": [
    "toolbox.register(\"generator\", generator, generator_config)\n",
    "toolbox.register(\"individual\", tools.initIterate, creator.Individual, toolbox.generator)\n",
    "toolbox.register(\"population\", tools.initRepeat, list, toolbox.individual)"
   ]
  },
  {
   "cell_type": "markdown",
   "id": "5ec8b75b",
   "metadata": {},
   "source": [
    "\n",
    "## 遺伝子操作関数\n",
    "\n",
    "#### 進化計算で重要な役割を持つ遺伝子操作を行う関数を生成\n",
    "\n",
    "- deap公式の交叉・突然変異の関数を使う\n",
    "\n",
    "### 交叉\n",
    "\n",
    "1. 交叉関数 : `cxTwoPoint` [deap公式のリンク](https://deap.readthedocs.io/en/master/api/tools.html#deap.tools.cxTwoPoint)　[github](https://github.com/DEAP/deap/blob/master/deap/tools/crossover.py)"
   ]
  },
  {
   "cell_type": "code",
   "execution_count": 11,
   "id": "f4534a8b",
   "metadata": {},
   "outputs": [],
   "source": [
    "# 交叉を行う関数\"mate\"を登録\n",
    "toolbox.register(\"mate\", tools.cxTwoPoint)"
   ]
  },
  {
   "cell_type": "markdown",
   "id": "d47c5dac",
   "metadata": {},
   "source": [
    "### 突然変異\n",
    "\n",
    "2. 変異関数 : `mutPolynomialBounded` [deap公式のリンク](https://deap.readthedocs.io/en/master/api/tools.html#deap.tools.mutPolynomialBounded)　[github](https://github.com/DEAP/deap/blob/master/deap/tools/mutation.py)\n"
   ]
  },
  {
   "cell_type": "code",
   "execution_count": 12,
   "id": "b6a9d2d0",
   "metadata": {
    "tags": []
   },
   "outputs": [],
   "source": [
    "# 突然変異用のdict作成する関数\n",
    "def muconfig(constrain_dict):\n",
    "    \"\"\"\n",
    "    constrain_dict(dict):制約条件格納dict\n",
    "    \"\"\"\n",
    "    cols = constrain_dict[\"columns\"]  # 現状のカラム\n",
    "\n",
    "    mur = constrain_dict[\"mutate_real_col\"]  # 突然変異するカラム(連続値)\n",
    "\n",
    "    mu_real_index = [cols.index(c) for c in cols if c in mur]  # 連続値のindex\n",
    "    mu_low = [\n",
    "        constrain_dict[\"variables\"][col][\"values\"][\"min\"] for col in mur if col in cols\n",
    "    ]  # 連続値の下限\n",
    "\n",
    "    mu_up = [\n",
    "        constrain_dict[\"variables\"][col][\"values\"][\"max\"] for col in mur if col in cols\n",
    "    ]  # 連続値の上限\n",
    "\n",
    "    for mi, ma in zip(mu_low, mu_up):  # 上限と下限が逆転していないか？イコールになっていないか？\n",
    "        if not mi <= ma:\n",
    "            raise MutateionError(\"some low values higher than ups values\")\n",
    "\n",
    "    mucfg = {}\n",
    "    mucfg[\"real_indexs\"] = mu_real_index  # 連続値に対する設計変数のindex\n",
    "    mucfg[\"lows\"] = mu_low  # 連続値に対する設計変数の最小値\n",
    "    mucfg[\"ups\"] = mu_up  # 連続値に対する設計変数の最大値\n",
    "\n",
    "    return mucfg"
   ]
  },
  {
   "cell_type": "code",
   "execution_count": 13,
   "id": "d693aa7d",
   "metadata": {},
   "outputs": [
    {
     "data": {
      "text/plain": [
       "{'real_indexs': [0, 1, 2, 3], 'lows': [0, 0, 0, 0], 'ups': [5, 3, 5, 3]}"
      ]
     },
     "execution_count": 13,
     "metadata": {},
     "output_type": "execute_result"
    }
   ],
   "source": [
    "# 突然変異用のdice作成\n",
    "mucfg = muconfig(generator_config)\n",
    "mucfg"
   ]
  },
  {
   "cell_type": "markdown",
   "id": "50659978",
   "metadata": {},
   "source": [
    "#### 変異の処理も制約を満たすように修正"
   ]
  },
  {
   "cell_type": "code",
   "execution_count": 14,
   "id": "a824d127",
   "metadata": {},
   "outputs": [],
   "source": [
    "# 各変数ごとに分けて突然変異をするための関数\n",
    "def mutation(individual, realmut, real_indexs, lows, ups, indpb=None):\n",
    "    \"\"\"\n",
    "    individual (list): 個体のlist\n",
    "    realmut(function): 親個体, lows, ups, indpbを引数にとる変異関数\n",
    "    real_index(list): 設計変数の連続値のindexのlist\n",
    "    lows (list): 連続値の最小値\n",
    "    ups(list) : 連続値の最大値\n",
    "    indpb(float): 各変数に対して変異を行うか否かの確率、デフォルト値はNone. 0 <= indpb <= 1.\n",
    "    \"\"\"\n",
    "\n",
    "    if not isinstance(real_indexs, list):\n",
    "        raise CrossoverError(\n",
    "            f'argment \"real_indexs\" must be list but inputed {type(real_indexs)}'\n",
    "        )\n",
    "\n",
    "    if not isinstance(lows, list):\n",
    "        raise MutateionError(f\"argment lows must be  list but {type(lows)}\")\n",
    "    if not isinstance(ups, list):\n",
    "        raise MutateionError(f\"argment ups must be  list but {type(ups)}\")\n",
    "\n",
    "    if not (len(real_indexs) == len(lows) and len(real_indexs) == len(ups)):\n",
    "        raise MutateionError(\"not match lows, ups ,or real_indexs length\")\n",
    "\n",
    "    if indpb is None:\n",
    "        indpb = 1 / (len(real_indexs))\n",
    "\n",
    "    # 連続値の染色体を抽出\n",
    "    real_chromosome = [individual[i] for i in real_indexs]\n",
    "    # 変異を実施\n",
    "    real_chromosome = realmut(real_chromosome, low=lows, up=ups, indpb=indpb)[0]\n",
    "    for i, r in zip(real_indexs, real_chromosome):\n",
    "        individual[i] = r\n",
    "\n",
    "    return (individual,)"
   ]
  },
  {
   "cell_type": "code",
   "execution_count": 15,
   "id": "8e5beccc",
   "metadata": {},
   "outputs": [],
   "source": [
    "# deapにある突然変異関数を用意\n",
    "realmut = partial(tools.mutPolynomialBounded, eta=20)\n",
    "\n",
    "# 突然変異を行う関数\"mutate\"を登録}\n",
    "toolbox.register(\"mutate\", mutation, realmut=realmut, **mucfg)"
   ]
  },
  {
   "cell_type": "markdown",
   "id": "8bea65ca",
   "metadata": {},
   "source": [
    "## 引き戻し法の実装\n",
    "複数変数の比率に制約がある場合、交叉or突然変異によって制約条件を満たさなくなってしまう個体が出現する可能性がある。\n",
    "\n",
    "この時、対象となる変数を調整し、制約条件を成立する操作を行う。"
   ]
  },
  {
   "cell_type": "code",
   "execution_count": 16,
   "id": "38db2c3a",
   "metadata": {
    "tags": []
   },
   "outputs": [],
   "source": [
    "def pullback_ratio(individual, conditions):\n",
    "    \"\"\"比率が一定で規定される変数の引き戻し法を行う\n",
    "    Args:\n",
    "        individual (list): 1個体\n",
    "        conditions (list): 制約条件のlist\n",
    "    Returns:\n",
    "        list: 制約条件に合わせて要素を修正した個体\n",
    "    Examples:\n",
    "        制約条件のlistは以下のような要素で構成されている::\n",
    "            {'denominator_indexs': [0,1],\n",
    "            'numerator_indexs': [2,3],\n",
    "            'value': 1}\n",
    "    Note:\n",
    "        この関数は引数にとる元の変数の値を書き換える。\n",
    "    \"\"\"\n",
    "    for condition_dict in conditions:\n",
    "        # 分子の計算\n",
    "        numerator = np.prod(\n",
    "            [individual[int(k)] for k in condition_dict[\"numerator_indexs\"]]\n",
    "        )\n",
    "        # 分母の計算\n",
    "        denominator = np.prod(\n",
    "            [individual[int(k)] for k in condition_dict[\"denominator_indexs\"]]\n",
    "        )\n",
    "        # 分母or分子が0の場合は引き戻しを実施しない\n",
    "        if numerator == 0.0 or denominator == 0.0:\n",
    "            return individuals\n",
    "        current_ratio = numerator / denominator\n",
    "        objective_ratio = condition_dict[\"value\"]\n",
    "\n",
    "        # 比率の調整\n",
    "        if not isclose(objective_ratio, current_ratio):\n",
    "            # 対象の変数の比率が制約より大きくなってしまっている場合は分子のみ修正\n",
    "            if objective_ratio < current_ratio:\n",
    "                modify_variable_num = len(condition_dict[\"numerator_indexs\"])\n",
    "                coef = (objective_ratio / current_ratio) ** (1 / modify_variable_num)\n",
    "                for idx in condition_dict[\"numerator_indexs\"]:\n",
    "                    individual[idx] *= coef\n",
    "            # 対象の変数の比率が制約より小さくなってしまっている場合は分母のみ修正\n",
    "            elif objective_ratio > current_ratio:\n",
    "                modify_variable_num = len(condition_dict[\"denominator_indexs\"])\n",
    "                coef = (current_ratio / objective_ratio) ** (1 / modify_variable_num)\n",
    "                for idx in condition_dict[\"denominator_indexs\"]:\n",
    "                    individual[idx] *= coef\n",
    "    return individual"
   ]
  },
  {
   "cell_type": "code",
   "execution_count": 17,
   "id": "b580c72b",
   "metadata": {},
   "outputs": [],
   "source": [
    "# 引き戻し法の実装\n",
    "cols = generator_config[\"columns\"]\n",
    "# 比率一定制約の引き戻し関数の定義\n",
    "ratios = [\n",
    "    {\n",
    "        \"numerator_indexs\": [cols.index(col) for col in constrain[\"numerator_indexs\"]],\n",
    "        \"denominator_indexs\": [\n",
    "            cols.index(col) for col in constrain[\"denominator_indexs\"]\n",
    "        ],\n",
    "        \"value\": constrain[\"value\"],\n",
    "    }\n",
    "    for constrain in generator_config[\"constrains\"]\n",
    "]\n",
    "toolbox.register(\"pullback\", pullback_ratio, conditions=ratios)"
   ]
  },
  {
   "cell_type": "markdown",
   "id": "fdd4e6c1",
   "metadata": {},
   "source": [
    "## 解の選択（世代交代）手法\n",
    "\n",
    "#### 今回は、NSGAⅢの選択手法を用います\n",
    "\n",
    "- [selNSGA3について_deap公式](https://deap.readthedocs.io/en/master/api/tools.html#deap.tools.selNSGA3)\n",
    "- [selNSGA3の動作ついて_github](https://github.com/DEAP/deap/blob/master/deap/tools/emo.py '個体選択')"
   ]
  },
  {
   "cell_type": "code",
   "execution_count": 18,
   "id": "97e7dfd5",
   "metadata": {
    "tags": []
   },
   "outputs": [],
   "source": [
    "# 個体選択法\"select\"を登録\n",
    "toolbox.register(\"select\", tools.selNSGA3)"
   ]
  },
  {
   "cell_type": "markdown",
   "id": "5a17ed93",
   "metadata": {},
   "source": [
    "# Part.4 最適化計算の実行\n",
    "\n",
    "#### 初期状態の設定\n",
    "\n",
    "- 初期サンプル（第一世代）の生成\n",
    "- 適合度割当"
   ]
  },
  {
   "cell_type": "code",
   "execution_count": 19,
   "id": "61dd355f",
   "metadata": {
    "tags": []
   },
   "outputs": [],
   "source": [
    "random.seed(46)\n",
    "\n",
    "NGEN = 100  # 繰り返し世代数\n",
    "MU = 100  # 集団内の個体数\n",
    "CXPB = 0.9  # 交叉率\n",
    "MUTPB = 0.9  # 変異率\n",
    "\n",
    "# 第一世代の生成\n",
    "pop = toolbox.population(n=MU)\n",
    "pop = list(toolbox.map(toolbox.pullback, pop))  # 比率一定制約について引き戻し\n",
    "pop_init = pop[:]\n",
    "\n",
    "invalid_ind = []\n",
    "for ind in pop:\n",
    "    if not ind.fitness.valid:\n",
    "        invalid_ind.append(ind)\n",
    "\n",
    "fitnesses = toolbox.map(toolbox.evaluate, invalid_ind)\n",
    "for ind, fit in zip(invalid_ind, fitnesses):\n",
    "    ind.fitness.values = fit\n",
    "pop = toolbox.select(pop, len(pop), tools.uniform_reference_points(nobj=2, p=12))"
   ]
  },
  {
   "cell_type": "markdown",
   "id": "624d3721",
   "metadata": {},
   "source": [
    "#### 最適計算の実行\n"
   ]
  },
  {
   "cell_type": "code",
   "execution_count": 20,
   "id": "4b5d4569",
   "metadata": {
    "tags": []
   },
   "outputs": [],
   "source": [
    "for gen in range(2, NGEN + 1):\n",
    "    # 子母集団生成\n",
    "    offspring = varAnd(pop, toolbox, CXPB, MUTPB)\n",
    "    # 引き戻し法\n",
    "    offspring = list(toolbox.map(toolbox.pullback, offspring))  # 比率一定制約\n",
    "    # 適合度計算\n",
    "    fitnesses = toolbox.map(toolbox.evaluate, offspring)\n",
    "    for ind, fit in zip(offspring, fitnesses):\n",
    "        ind.fitness.values = fit\n",
    "\n",
    "    # 次世代選択\n",
    "    pop = toolbox.select(\n",
    "        pop + offspring, len(pop), tools.uniform_reference_points(nobj=2, p=12)\n",
    "    )"
   ]
  },
  {
   "cell_type": "markdown",
   "id": "350b9de8",
   "metadata": {},
   "source": [
    "# Part5. 結果の確認\n",
    "\n",
    "## 初期世代と最終世代の目的関数の値を確認\n",
    "$\n",
    "\\begin{align*}\n",
    "&Minimize& f_1 & = 4A^2 + 4B^2 + 4C^2 + D\\\\\n",
    "&Minimize& f_2 & = (A - 5)^2 + (B - 5)^2 - 4C -5D^2\n",
    "\\end{align*}\n",
    "$\n"
   ]
  },
  {
   "cell_type": "code",
   "execution_count": 21,
   "id": "e54d8376",
   "metadata": {},
   "outputs": [
    {
     "data": {
      "image/png": "[encoded data removed]",
      "text/plain": [
       "<Figure size 720x504 with 1 Axes>"
      ]
     },
     "metadata": {
      "needs_background": "light"
     },
     "output_type": "display_data"
    }
   ],
   "source": [
    "# 目的関数の値を確認\n",
    "fitnesses_init = np.array(\n",
    "    [list(pop_init[i].fitness.values) for i in range(len(pop_init))]\n",
    ")\n",
    "fitnesses = np.array([list(pop[i].fitness.values) for i in range(len(pop))])\n",
    "# グラフで確認\n",
    "plt.figure(figsize=(10, 7))\n",
    "plt.plot(fitnesses_init[:, 0], fitnesses_init[:, 1], \"b.\", label=\"Initial\")  # 初期世代\n",
    "plt.plot(fitnesses[:, 0], fitnesses[:, 1], \"r.\", label=\"Optimized\")  # 最終世代\n",
    "plt.legend(loc=\"upper right\")\n",
    "plt.title(\"fitnesses\")\n",
    "# 初期の例外値が残っているのでグラフ範囲を指定\n",
    "plt.xlim(-20, 170)\n",
    "plt.ylim(-60, 70)\n",
    "plt.xlabel(\"f1\")\n",
    "plt.ylabel(\"f2\")\n",
    "plt.grid(True)"
   ]
  },
  {
   "cell_type": "markdown",
   "id": "b75b1491",
   "metadata": {
    "tags": []
   },
   "source": [
    "#### ハイパーボリュームの計算"
   ]
  },
  {
   "cell_type": "code",
   "execution_count": 22,
   "id": "bc2b0b80",
   "metadata": {},
   "outputs": [
    {
     "name": "stdout",
     "output_type": "stream",
     "text": [
      "Final population hypervolume is 27303.790898\n"
     ]
    }
   ],
   "source": [
    "# 最終世代のハイパーボリュームを出力\n",
    "print(\"Final population hypervolume is %f\" % hypervolume(pop, [200.0, 100.0]))"
   ]
  },
  {
   "cell_type": "markdown",
   "id": "d0f1e95e",
   "metadata": {},
   "source": [
    "### 最終世代の設計変数と各適応度をデータフレームで確認"
   ]
  },
  {
   "cell_type": "code",
   "execution_count": 23,
   "id": "864bad6a",
   "metadata": {},
   "outputs": [
    {
     "data": {
      "text/html": [
       "<div>\n",
       "<style scoped>\n",
       "    .dataframe tbody tr th:only-of-type {\n",
       "        vertical-align: middle;\n",
       "    }\n",
       "\n",
       "    .dataframe tbody tr th {\n",
       "        vertical-align: top;\n",
       "    }\n",
       "\n",
       "    .dataframe thead th {\n",
       "        text-align: right;\n",
       "    }\n",
       "</style>\n",
       "<table border=\"1\" class=\"dataframe\">\n",
       "  <thead>\n",
       "    <tr style=\"text-align: right;\">\n",
       "      <th></th>\n",
       "      <th>A</th>\n",
       "      <th>B</th>\n",
       "      <th>C</th>\n",
       "      <th>D</th>\n",
       "      <th>f1</th>\n",
       "      <th>f2</th>\n",
       "    </tr>\n",
       "  </thead>\n",
       "  <tbody>\n",
       "    <tr>\n",
       "      <th>0</th>\n",
       "      <td>0.811545</td>\n",
       "      <td>1.069586</td>\n",
       "      <td>0.289491</td>\n",
       "      <td>2.998422</td>\n",
       "      <td>10.544124</td>\n",
       "      <td>-13.119340</td>\n",
       "    </tr>\n",
       "    <tr>\n",
       "      <th>1</th>\n",
       "      <td>0.874840</td>\n",
       "      <td>0.627178</td>\n",
       "      <td>0.182895</td>\n",
       "      <td>2.999973</td>\n",
       "      <td>7.768560</td>\n",
       "      <td>-9.592248</td>\n",
       "    </tr>\n",
       "    <tr>\n",
       "      <th>2</th>\n",
       "      <td>1.717759</td>\n",
       "      <td>1.769462</td>\n",
       "      <td>1.013173</td>\n",
       "      <td>2.999989</td>\n",
       "      <td>31.432834</td>\n",
       "      <td>-27.842890</td>\n",
       "    </tr>\n",
       "    <tr>\n",
       "      <th>3</th>\n",
       "      <td>1.997213</td>\n",
       "      <td>1.995419</td>\n",
       "      <td>1.328623</td>\n",
       "      <td>2.999556</td>\n",
       "      <td>41.942738</td>\n",
       "      <td>-32.256927</td>\n",
       "    </tr>\n",
       "    <tr>\n",
       "      <th>4</th>\n",
       "      <td>0.605698</td>\n",
       "      <td>0.444754</td>\n",
       "      <td>0.089796</td>\n",
       "      <td>2.999974</td>\n",
       "      <td>5.290934</td>\n",
       "      <td>-5.298265</td>\n",
       "    </tr>\n",
       "    <tr>\n",
       "      <th>...</th>\n",
       "      <td>...</td>\n",
       "      <td>...</td>\n",
       "      <td>...</td>\n",
       "      <td>...</td>\n",
       "      <td>...</td>\n",
       "      <td>...</td>\n",
       "    </tr>\n",
       "    <tr>\n",
       "      <th>95</th>\n",
       "      <td>0.731535</td>\n",
       "      <td>0.991062</td>\n",
       "      <td>0.241671</td>\n",
       "      <td>2.999937</td>\n",
       "      <td>9.302944</td>\n",
       "      <td>-11.673411</td>\n",
       "    </tr>\n",
       "    <tr>\n",
       "      <th>96</th>\n",
       "      <td>0.300351</td>\n",
       "      <td>0.864445</td>\n",
       "      <td>0.086546</td>\n",
       "      <td>2.999988</td>\n",
       "      <td>6.379851</td>\n",
       "      <td>-6.156299</td>\n",
       "    </tr>\n",
       "    <tr>\n",
       "      <th>97</th>\n",
       "      <td>1.236765</td>\n",
       "      <td>0.993281</td>\n",
       "      <td>0.409491</td>\n",
       "      <td>2.999955</td>\n",
       "      <td>13.735461</td>\n",
       "      <td>-16.420886</td>\n",
       "    </tr>\n",
       "    <tr>\n",
       "      <th>98</th>\n",
       "      <td>1.750030</td>\n",
       "      <td>1.419546</td>\n",
       "      <td>0.828100</td>\n",
       "      <td>2.999937</td>\n",
       "      <td>26.053807</td>\n",
       "      <td>-24.928556</td>\n",
       "    </tr>\n",
       "    <tr>\n",
       "      <th>99</th>\n",
       "      <td>0.056821</td>\n",
       "      <td>0.043976</td>\n",
       "      <td>0.000833</td>\n",
       "      <td>2.999962</td>\n",
       "      <td>3.020615</td>\n",
       "      <td>3.995003</td>\n",
       "    </tr>\n",
       "  </tbody>\n",
       "</table>\n",
       "<p>100 rows × 6 columns</p>\n",
       "</div>"
      ],
      "text/plain": [
       "           A         B         C         D         f1         f2\n",
       "0   0.811545  1.069586  0.289491  2.998422  10.544124 -13.119340\n",
       "1   0.874840  0.627178  0.182895  2.999973   7.768560  -9.592248\n",
       "2   1.717759  1.769462  1.013173  2.999989  31.432834 -27.842890\n",
       "3   1.997213  1.995419  1.328623  2.999556  41.942738 -32.256927\n",
       "4   0.605698  0.444754  0.089796  2.999974   5.290934  -5.298265\n",
       "..       ...       ...       ...       ...        ...        ...\n",
       "95  0.731535  0.991062  0.241671  2.999937   9.302944 -11.673411\n",
       "96  0.300351  0.864445  0.086546  2.999988   6.379851  -6.156299\n",
       "97  1.236765  0.993281  0.409491  2.999955  13.735461 -16.420886\n",
       "98  1.750030  1.419546  0.828100  2.999937  26.053807 -24.928556\n",
       "99  0.056821  0.043976  0.000833  2.999962   3.020615   3.995003\n",
       "\n",
       "[100 rows x 6 columns]"
      ]
     },
     "execution_count": 23,
     "metadata": {},
     "output_type": "execute_result"
    }
   ],
   "source": [
    "design = pd.DataFrame(pop).rename(columns={0: \"A\", 1: \"B\", 2: \"C\", 3: \"D\"})  # 設計変数\n",
    "goal = pd.DataFrame(fitnesses).rename(columns={0: \"f1\", 1: \"f2\"})  # 適応度\n",
    "pd.concat([design, goal], axis=1)"
   ]
  },
  {
   "cell_type": "markdown",
   "id": "935eb65e",
   "metadata": {},
   "source": [
    "#### 補足：比率制約を満たしているか確認"
   ]
  },
  {
   "cell_type": "code",
   "execution_count": 24,
   "id": "1f5c8cde",
   "metadata": {},
   "outputs": [
    {
     "data": {
      "text/plain": [
       "0     True\n",
       "1     True\n",
       "2     True\n",
       "3     True\n",
       "4     True\n",
       "      ... \n",
       "95    True\n",
       "96    True\n",
       "97    True\n",
       "98    True\n",
       "99    True\n",
       "Length: 100, dtype: bool"
      ]
     },
     "execution_count": 24,
     "metadata": {},
     "output_type": "execute_result"
    }
   ],
   "source": [
    "pd.concat([design, goal], axis=1).apply(\n",
    "    lambda x: isclose((x[0] * x[1]) / (x[2] * x[3]), 1.0), axis=1\n",
    ")"
   ]
  },
  {
   "cell_type": "code",
   "execution_count": 25,
   "id": "89c68500",
   "metadata": {},
   "outputs": [
    {
     "data": {
      "text/plain": [
       "100"
      ]
     },
     "execution_count": 25,
     "metadata": {},
     "output_type": "execute_result"
    }
   ],
   "source": [
    "pd.concat([design, goal], axis=1).apply(\n",
    "    lambda x: isclose((x[0] * x[1]) / (x[2] * x[3]), 1.0), axis=1\n",
    ").sum()"
   ]
  },
  {
   "cell_type": "code",
   "execution_count": null,
   "id": "eff269e6",
   "metadata": {},
   "outputs": [],
   "source": []
  }
 ],
 "metadata": {
  "kernelspec": {
   "display_name": "Python 3 (ipykernel)",
   "language": "python",
   "name": "python3"
  },
  "language_info": {
   "codemirror_mode": {
    "name": "ipython",
    "version": 3
   },
   "file_extension": ".py",
   "mimetype": "text/x-python",
   "name": "python",
   "nbconvert_exporter": "python",
   "pygments_lexer": "ipython3",
   "version": "3.9.5"
  }
 },
 "nbformat": 4,
 "nbformat_minor": 5
}
