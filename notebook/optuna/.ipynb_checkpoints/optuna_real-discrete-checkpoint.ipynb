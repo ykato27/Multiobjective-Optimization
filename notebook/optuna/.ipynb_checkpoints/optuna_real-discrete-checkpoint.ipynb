{
 "cells": [
  {
   "cell_type": "code",
   "execution_count": 1,
   "id": "145cde05",
   "metadata": {},
   "outputs": [],
   "source": [
    "import optuna\n",
    "import matplotlib.pyplot as plt\n",
    "%matplotlib inline\n",
    "\n",
    "import warnings\n",
    "warnings.simplefilter('ignore')"
   ]
  },
  {
   "cell_type": "code",
   "execution_count": 17,
   "id": "42520a24",
   "metadata": {},
   "outputs": [],
   "source": [
    "# 目的関数の定義。複数の目的変数を戻り値とする\n",
    "def objective(trial):\n",
    "    x = trial.suggest_uniform(\"x\", 0, 5) # 変数xを上下限0~5の範囲で連続値\n",
    "    y = trial.suggest_discrete_uniform(\"y\", 0, 3, 1) # 変数yを離散値（0, 1, 2, 3）\n",
    "    v0 = 4 * x ** 2 + 4 * y ** 2\n",
    "    v1 = (x - 5) ** 2 + (y - 5) ** 2\n",
    "    return v0, v1"
   ]
  },
  {
   "cell_type": "code",
   "execution_count": 18,
   "id": "84ad7e58",
   "metadata": {},
   "outputs": [
    {
     "name": "stderr",
     "output_type": "stream",
     "text": [
      "\u001b[32m[I 2021-04-20 12:20:01,798]\u001b[0m A new study created in memory with name: no-name-38dc99f8-a3c2-42a5-bd34-6a14bf4bc5e9\u001b[0m\n",
      "\u001b[32m[I 2021-04-20 12:20:01,814]\u001b[0m Trial 0 finished with values: [33.39073524061537, 17.49658357502514] with parameters: {'x': 2.08511002351287, 'y': 2.0}.\u001b[0m\n"
     ]
    },
    {
     "name": "stdout",
     "output_type": "stream",
     "text": [
      "<class 'float'>\n",
      "<class 'float'>\n",
      "2.08511002351287\n",
      "2.0\n"
     ]
    },
    {
     "name": "stderr",
     "output_type": "stream",
     "text": [
      "\u001b[32m[I 2021-04-20 12:20:02,159]\u001b[0m Trial 1 finished with values: [4.000001308159884, 40.994281586172725] with parameters: {'x': 0.0005718740867244332, 'y': 1.0}.\u001b[0m\n"
     ]
    },
    {
     "name": "stdout",
     "output_type": "stream",
     "text": [
      "<class 'float'>\n",
      "<class 'float'>\n",
      "0.0005718740867244332\n",
      "1.0\n"
     ]
    }
   ],
   "source": [
    "# 最適化の条件設定\n",
    "study = optuna.multi_objective.create_study(\n",
    "    directions=[\"minimize\", \"minimize\"], # \"minimize\" \"maximize\"\n",
    "    sampler=optuna.multi_objective.samplers.NSGAIIMultiObjectiveSampler(seed = 1)\n",
    ")\n",
    "# 最適化の実行\n",
    "study.optimize(objective, n_trials=200)"
   ]
  },
  {
   "cell_type": "code",
   "execution_count": 4,
   "id": "71dc61ac",
   "metadata": {},
   "outputs": [],
   "source": [
    "# 最適化過程で得た履歴データの取得。get_trials()メソッドを使用\n",
    "trials = {str(trial.values): trial for trial in study.get_trials()}\n",
    "trials = list(trials.values())\n",
    "# グラフにプロットするため、目的変数をリストに格納する\n",
    "y1_all_list = []\n",
    "y2_all_list = []\n",
    "for i, trial in enumerate(trials, start=1):\n",
    "    y1_all_list.append(trial.values[0])\n",
    "    y2_all_list.append(trial.values[1])"
   ]
  },
  {
   "cell_type": "code",
   "execution_count": 5,
   "id": "e0da2899",
   "metadata": {},
   "outputs": [],
   "source": [
    "# パレート解の取得。get_pareto_front_trials()メソッドを使用\n",
    "trials = {str(trial.values): trial for trial in study.get_pareto_front_trials()}\n",
    "trials = list(trials.values())\n",
    "trials.sort(key=lambda t: t.values)\n",
    "# グラフプロット用にリストで取得。またパレート解の目的変数と説明変数をcsvに保存する\n",
    "y1_list = []\n",
    "y2_list = []\n",
    "with open('pareto_data_real-discrete.csv', 'w') as f:\n",
    "    for i, trial in enumerate(trials, start=1):\n",
    "        if i == 1:\n",
    "            columns_name_str = 'trial_no,y1,y2'\n",
    "        data_list = []\n",
    "        data_list.append(trial.number)\n",
    "        y1_value = trial.values[0]\n",
    "        y2_value = trial.values[1]\n",
    "        y1_list.append(y1_value)\n",
    "        y2_list.append(y2_value)\n",
    "        data_list.append(y1_value)\n",
    "        data_list.append(y2_value)    \n",
    "        for key, value in trial.params.items():\n",
    "            data_list.append(value)\n",
    "            if i == 1:\n",
    "                columns_name_str += ',' + key \n",
    "        if i == 1:\n",
    "            f.write(columns_name_str + '\\n')\n",
    "        data_list = list(map(str, data_list))\n",
    "        data_list_str = ','.join(data_list)\n",
    "        f.write(data_list_str + '\\n')\n",
    "\n",
    "# パレート解を図示\n",
    "plt.rcParams[\"font.size\"] = 16\n",
    "plt.figure(dpi=120)\n",
    "plt.title(\"multiobjective optimization\")\n",
    "plt.xlabel(\"Y1\")\n",
    "plt.ylabel(\"Y2\")\n",
    "plt.grid()\n",
    "plt.scatter(y1_all_list, y2_all_list, c='blue', label='all trials')\n",
    "plt.scatter(y1_list, y2_list, c='red', label='pareto front')\n",
    "plt.legend()\n",
    "plt.tight_layout()\n",
    "plt.savefig(\"pareto_graph_real-discrete.png\")\n",
    "plt.close()"
   ]
  },
  {
   "cell_type": "code",
   "execution_count": null,
   "id": "e6414e93",
   "metadata": {},
   "outputs": [],
   "source": []
  }
 ],
 "metadata": {
  "kernelspec": {
   "display_name": "Python 3",
   "language": "python",
   "name": "python3"
  },
  "language_info": {
   "codemirror_mode": {
    "name": "ipython",
    "version": 3
   },
   "file_extension": ".py",
   "mimetype": "text/x-python",
   "name": "python",
   "nbconvert_exporter": "python",
   "pygments_lexer": "ipython3",
   "version": "3.8.6"
  }
 },
 "nbformat": 4,
 "nbformat_minor": 5
}
