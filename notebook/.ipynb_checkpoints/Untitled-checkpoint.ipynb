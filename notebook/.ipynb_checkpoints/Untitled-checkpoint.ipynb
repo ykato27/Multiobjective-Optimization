{
 "cells": [
  {
   "cell_type": "code",
   "execution_count": 1,
   "metadata": {},
   "outputs": [],
   "source": [
    "import random\n",
    "import datetime\n",
    "\n",
    "import multiprocessing\n",
    "import numpy as np\n",
    "\n",
    "from deap import base\n",
    "from deap import creator\n",
    "from deap import tools"
   ]
  },
  {
   "cell_type": "code",
   "execution_count": 2,
   "metadata": {},
   "outputs": [],
   "source": [
    "NGEN = 50 # Number of Generation\n",
    "MU = 100 # Number of individual in population\n",
    "CXPB = 0.8 #Crossover probability\n",
    "\n",
    "NDIM = 4 # Number of dimension of the individual (=number of gene)\n",
    "\n",
    "# Bounds on the first 3 genes\n",
    "LOW1, UP1 = 0, 28\n",
    "# Bounds on the last gene\n",
    "LOW2, UP2 = 0, 5\n",
    "\n",
    "BOUNDS = [(LOW1, UP1) for i in range(NDIM-1)] + [(LOW2, UP2)]"
   ]
  },
  {
   "cell_type": "code",
   "execution_count": 3,
   "metadata": {},
   "outputs": [],
   "source": [
    "toolbox = base.Toolbox()\n",
    "\n",
    "def init_opti():\n",
    "    creator.create(\"FitnessMin\", base.Fitness, weights=(-1.0, -1.0, -1.0))\n",
    "    creator.create(\"Individual\", list, typecode='d', fitness=creator.FitnessMin)\n",
    "    \n",
    "    toolbox.register(\"individual\", init_ind, icls=creator.Individual, ranges=BOUNDS)\n",
    "    toolbox.register(\"population\", tools.initRepeat, list, toolbox.individual)\n",
    "\n",
    "    toolbox.register(\"evaluate\", evaluation)\n",
    "    toolbox.register(\"mate\", tools.cxOnePoint)\n",
    "    toolbox.register(\"mutate\", tools.mutUniformInt, low=[x[0] for x in BOUNDS],\n",
    "                     up=[x[1] for x in BOUNDS], indpb=0.1 / NDIM)\n",
    "    toolbox.register(\"select\", tools.selNSGA2)"
   ]
  },
  {
   "cell_type": "code",
   "execution_count": 4,
   "metadata": {},
   "outputs": [],
   "source": [
    "def init_ind(icls, ranges):\n",
    "    genome = list()\n",
    "    \n",
    "    for p in ranges:\n",
    "        genome.append(np.random.randint(*p))\n",
    "    return icls(genome)"
   ]
  },
  {
   "cell_type": "code",
   "execution_count": 5,
   "metadata": {},
   "outputs": [],
   "source": [
    "def main():\n",
    "    pareto = tools.ParetoFront()\n",
    "\n",
    "    pop = toolbox.population(n=MU)\n",
    "    graph = []\n",
    "    data = []\n",
    "\n",
    "    # Evaluate the individuals with an invalid fitness\n",
    "    invalid_ind = [ind for ind in pop if not ind.fitness.valid]\n",
    "    fitnesses = toolbox.map(toolbox.evaluate, invalid_ind)\n",
    "    data.append(fitnesses)\n",
    "    for ind, fit in zip(invalid_ind, fitnesses):\n",
    "        ind.fitness.values = fit\n",
    "        graph.append(ind.fitness.values)\n",
    "\n",
    "    # This is just to assign the crowding distance to the individuals\n",
    "    # no actual selection is done\n",
    "    pop = toolbox.select(pop, len(pop))\n",
    "\n",
    "    # Begin the generational process\n",
    "    for gen in range(1, NGEN):\n",
    "        # Vary the population\n",
    "        offspring = tools.selTournamentDCD(pop, len(pop))\n",
    "        offspring = [toolbox.clone(ind) for ind in offspring]\n",
    "\n",
    "        for ind1, ind2 in zip(offspring[::2], offspring[1::2]):\n",
    "            if random.random() <= CXPB:\n",
    "                toolbox.mate(ind1, ind2)\n",
    "                \n",
    "            toolbox.mutate(ind1)\n",
    "            toolbox.mutate(ind2)\n",
    "            del ind1.fitness.values, ind2.fitness.values\n",
    "\n",
    "        # Evaluate the individuals with an invalid fitness\n",
    "        invalid_ind = [ind for ind in offspring if not ind.fitness.valid]\n",
    "        fitnesses = toolbox.map(toolbox.evaluate, invalid_ind)\n",
    "        data.append(fitnesses)\n",
    "        \n",
    "        for ind, fit in zip(invalid_ind, fitnesses):\n",
    "            ind.fitness.values = fit\n",
    "            graph.append(ind.fitness.values)\n",
    "\n",
    "        # Select the next generation population\n",
    "        pop = toolbox.select(pop + offspring, MU)\n",
    "\n",
    "    pareto.update(pop)\n",
    "\n",
    "    return pop, pareto, graph, data"
   ]
  },
  {
   "cell_type": "code",
   "execution_count": 6,
   "metadata": {},
   "outputs": [],
   "source": [
    "def evaluation(ind):\n",
    "    objective1 = random.randint(10,1000)\n",
    "    objective2 = random.randint(10,50)\n",
    "    objective3 = random.randint(200,500)\n",
    "    \n",
    "    return objective1, objective2, objective3"
   ]
  },
  {
   "cell_type": "code",
   "execution_count": 7,
   "metadata": {},
   "outputs": [],
   "source": [
    "if __name__ == \"__main__\":\n",
    "    init_opti()\n",
    "#    Multiprocessing pool: I want to compute faster\n",
    "    pool = multiprocessing.Pool()\n",
    "    toolbox.register(\"map\", pool.map)\n",
    "    \n",
    "    pop, optimal_front, graph_data, data = main()\n",
    "\n",
    "    # Saving the Pareto Front, for further exploitation\n",
    "    with open('./pareto_front.txt', 'w') as front:\n",
    "        for ind in optimal_front:\n",
    "            front.write(str(ind.fitness) + '\\n')"
   ]
  },
  {
   "cell_type": "code",
   "execution_count": 8,
   "metadata": {},
   "outputs": [
    {
     "data": {
      "image/png": "[encoded data removed]",
      "text/plain": [
       "<Figure size 1080x720 with 3 Axes>"
      ]
     },
     "metadata": {
      "needs_background": "light"
     },
     "output_type": "display_data"
    }
   ],
   "source": [
    "import matplotlib.pyplot as plt\n",
    "x, y, z = zip(*[ind.fitness.values for ind in optimal_front])\n",
    "\n",
    "fig = plt.figure()\n",
    "fig.set_size_inches(15,10)\n",
    "\n",
    "axe = plt.subplot2grid((2,2),(0,0))\n",
    "axe.set_ylabel('Objective 2', fontsize=15)\n",
    "axe.scatter(x, y, c='b', marker='+')\n",
    "\n",
    "axe = plt.subplot2grid((2,2),(1,0))\n",
    "axe.set_ylabel('Objective 3', fontsize=15)\n",
    "axe.set_xlabel('Objective 1', fontsize=15)\n",
    "axe.scatter(x, z, c='b', marker='+')\n",
    "\n",
    "axe = plt.subplot2grid((2,2),(1,1))\n",
    "axe.set_xlabel('Objective 2', fontsize=15)\n",
    "scat = axe.scatter(y, z, c='b', marker='+')\n",
    "\n",
    "plt.show()"
   ]
  },
  {
   "cell_type": "code",
   "execution_count": null,
   "metadata": {},
   "outputs": [],
   "source": []
  }
 ],
 "metadata": {
  "kernelspec": {
   "display_name": "Python 3",
   "language": "python",
   "name": "python3"
  },
  "language_info": {
   "codemirror_mode": {
    "name": "ipython",
    "version": 3
   },
   "file_extension": ".py",
   "mimetype": "text/x-python",
   "name": "python",
   "nbconvert_exporter": "python",
   "pygments_lexer": "ipython3",
   "version": "3.7.6"
  }
 },
 "nbformat": 4,
 "nbformat_minor": 4
}
