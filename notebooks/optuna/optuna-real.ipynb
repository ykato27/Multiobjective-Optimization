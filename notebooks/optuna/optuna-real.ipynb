{
 "cells": [
  {
   "cell_type": "markdown",
   "id": "65a1c311",
   "metadata": {},
   "source": [
    "## optuna 連続値 example notebook"
   ]
  },
  {
   "cell_type": "code",
   "execution_count": 1,
   "id": "252c3ea7",
   "metadata": {},
   "outputs": [],
   "source": [
    "%load_ext lab_black"
   ]
  },
  {
   "cell_type": "code",
   "execution_count": 2,
   "id": "9a4125b7",
   "metadata": {},
   "outputs": [
    {
     "ename": "ModuleNotFoundError",
     "evalue": "No module named 'optuna'",
     "output_type": "error",
     "traceback": [
      "\u001b[0;31m---------------------------------------------------------------------------\u001b[0m",
      "\u001b[0;31mModuleNotFoundError\u001b[0m                       Traceback (most recent call last)",
      "\u001b[0;32m/tmp/ipykernel_47/158829393.py\u001b[0m in \u001b[0;36m<module>\u001b[0;34m\u001b[0m\n\u001b[0;32m----> 1\u001b[0;31m \u001b[0;32mimport\u001b[0m \u001b[0moptuna\u001b[0m\u001b[0;34m\u001b[0m\u001b[0;34m\u001b[0m\u001b[0m\n\u001b[0m\u001b[1;32m      2\u001b[0m \u001b[0;32mimport\u001b[0m \u001b[0mmatplotlib\u001b[0m\u001b[0;34m.\u001b[0m\u001b[0mpyplot\u001b[0m \u001b[0;32mas\u001b[0m \u001b[0mplt\u001b[0m\u001b[0;34m\u001b[0m\u001b[0;34m\u001b[0m\u001b[0m\n\u001b[1;32m      3\u001b[0m \u001b[0mget_ipython\u001b[0m\u001b[0;34m(\u001b[0m\u001b[0;34m)\u001b[0m\u001b[0;34m.\u001b[0m\u001b[0mrun_line_magic\u001b[0m\u001b[0;34m(\u001b[0m\u001b[0;34m'matplotlib'\u001b[0m\u001b[0;34m,\u001b[0m \u001b[0;34m'inline'\u001b[0m\u001b[0;34m)\u001b[0m\u001b[0;34m\u001b[0m\u001b[0;34m\u001b[0m\u001b[0m\n\u001b[1;32m      4\u001b[0m \u001b[0;34m\u001b[0m\u001b[0m\n\u001b[1;32m      5\u001b[0m \u001b[0;32mimport\u001b[0m \u001b[0mwarnings\u001b[0m\u001b[0;34m\u001b[0m\u001b[0;34m\u001b[0m\u001b[0m\n",
      "\u001b[0;31mModuleNotFoundError\u001b[0m: No module named 'optuna'"
     ]
    }
   ],
   "source": [
    "import optuna\n",
    "import matplotlib.pyplot as plt\n",
    "%matplotlib inline\n",
    "\n",
    "import warnings\n",
    "warnings.simplefilter('ignore')"
   ]
  },
  {
   "cell_type": "code",
   "execution_count": null,
   "id": "80253189",
   "metadata": {},
   "outputs": [],
   "source": [
    "# 目的関数の定義。複数の目的変数を戻り値とする\n",
    "def objective(trial):\n",
    "    x = trial.suggest_uniform(\"x\", 0, 5) # 変数xを上下限0~5の範囲で連続値\n",
    "    y = trial.suggest_uniform(\"y\", 0, 3) # 変数yを上下限0~3の範囲で連続値\n",
    "    v0 = 4 * x ** 2 + 4 * y ** 2\n",
    "    v1 = (x - 5) ** 2 + (y - 5) ** 2\n",
    "    return v0, v1"
   ]
  },
  {
   "cell_type": "code",
   "execution_count": null,
   "id": "7f391fb3",
   "metadata": {},
   "outputs": [],
   "source": [
    "%%time\n",
    "# 最適化の条件設定\n",
    "study = optuna.multi_objective.create_study(\n",
    "    directions=[\"minimize\", \"minimize\"], # \"minimize\" \"maximize\"\n",
    "    sampler=optuna.multi_objective.samplers.NSGAIIMultiObjectiveSampler(seed = 1)\n",
    ")\n",
    "# 最適化の実行\n",
    "study.optimize(objective, n_trials=200)"
   ]
  },
  {
   "cell_type": "code",
   "execution_count": null,
   "id": "e8bea08e",
   "metadata": {},
   "outputs": [],
   "source": [
    "# 最適化過程で得た履歴データの取得。get_trials()メソッドを使用\n",
    "trials = {str(trial.values): trial for trial in study.get_trials()}\n",
    "trials = list(trials.values())\n",
    "# グラフにプロットするため、目的変数をリストに格納する\n",
    "y1_all_list = []\n",
    "y2_all_list = []\n",
    "for i, trial in enumerate(trials, start=1):\n",
    "    y1_all_list.append(trial.values[0])\n",
    "    y2_all_list.append(trial.values[1])"
   ]
  },
  {
   "cell_type": "code",
   "execution_count": null,
   "id": "48652c5a",
   "metadata": {},
   "outputs": [],
   "source": [
    "# パレート解の取得。get_pareto_front_trials()メソッドを使用\n",
    "trials = {str(trial.values): trial for trial in study.get_pareto_front_trials()}\n",
    "trials = list(trials.values())\n",
    "trials.sort(key=lambda t: t.values)\n",
    "# グラフプロット用にリストで取得。またパレート解の目的変数と説明変数をcsvに保存する\n",
    "y1_list = []\n",
    "y2_list = []\n",
    "with open('pareto_data_real.csv', 'w') as f:\n",
    "    for i, trial in enumerate(trials, start=1):\n",
    "        if i == 1:\n",
    "            columns_name_str = 'trial_no,y1,y2'\n",
    "        data_list = []\n",
    "        data_list.append(trial.number)\n",
    "        y1_value = trial.values[0]\n",
    "        y2_value = trial.values[1]\n",
    "        y1_list.append(y1_value)\n",
    "        y2_list.append(y2_value)\n",
    "        data_list.append(y1_value)\n",
    "        data_list.append(y2_value)    \n",
    "        for key, value in trial.params.items():\n",
    "            data_list.append(value)\n",
    "            if i == 1:\n",
    "                columns_name_str += ',' + key \n",
    "        if i == 1:\n",
    "            f.write(columns_name_str + '\\n')\n",
    "        data_list = list(map(str, data_list))\n",
    "        data_list_str = ','.join(data_list)\n",
    "        f.write(data_list_str + '\\n')\n",
    "\n",
    "# パレート解を図示\n",
    "plt.rcParams[\"font.size\"] = 16\n",
    "plt.figure(dpi=120)\n",
    "plt.title(\"multiobjective optimization\")\n",
    "plt.xlabel(\"Y1\")\n",
    "plt.ylabel(\"Y2\")\n",
    "plt.grid()\n",
    "plt.scatter(y1_all_list, y2_all_list, c='blue', label='all trials')\n",
    "plt.scatter(y1_list, y2_list, c='red', label='pareto front')\n",
    "plt.legend()\n",
    "plt.tight_layout()\n",
    "plt.savefig(\"pareto_graph_real.png\")\n",
    "plt.close()"
   ]
  },
  {
   "cell_type": "code",
   "execution_count": null,
   "id": "59883cb8",
   "metadata": {},
   "outputs": [],
   "source": []
  }
 ],
 "metadata": {
  "kernelspec": {
   "display_name": "Python 3 (ipykernel)",
   "language": "python",
   "name": "python3"
  },
  "language_info": {
   "codemirror_mode": {
    "name": "ipython",
    "version": 3
   },
   "file_extension": ".py",
   "mimetype": "text/x-python",
   "name": "python",
   "nbconvert_exporter": "python",
   "pygments_lexer": "ipython3",
   "version": "3.9.5"
  }
 },
 "nbformat": 4,
 "nbformat_minor": 5
}
