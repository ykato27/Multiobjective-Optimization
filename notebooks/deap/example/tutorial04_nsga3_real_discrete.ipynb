{
 "cells": [
  {
   "cell_type": "markdown",
   "id": "db524095",
   "metadata": {},
   "source": [
    "# Tutorial：4\n",
    "- 使用フレームワーク : deap\n",
    "- 選択手法 : NSGA-Ⅲ\n",
    "- 設計変数 : 5個\n",
    "  - 連続値 : 3個\n",
    "  - 離散値 : 2個\n",
    "- 目的変数 : 2個\n",
    "- 制約条件 : 2パターン\n",
    "  1. min,max\n",
    "  2. 連続値の変数の和に制約あり(範囲指定)\n",
    "\n",
    "## 習得してもらうこと\n",
    "- 連続値の変数の和に制約あり\n",
    "\n",
    "## 実施内容\n",
    " - Part0. 取り扱う問題設定\n",
    "\n",
    " - Patr1: モジュールのimport \n",
    "\n",
    " - Part2: 評価関数の作成\n",
    "   - 目的関数の設計\n",
    "   - ペナルティ関数の導入\n",
    "\n",
    "\n",
    " - Part3: 遺伝的アルゴリズムの設計\n",
    "   - 遺伝的アルゴリズムにおける個体の表現\n",
    "   - 遺伝子操作関数の設定\n",
    "     - 交叉\n",
    "     - 突然変異\n",
    "   - 解の選択手法の設定\n",
    "\n",
    "\n",
    " - Part4: 最適化計算の実行\n",
    "   - 初期状態の設定\n",
    "   - 遺伝的最適化計算の実行  \n",
    "\n",
    "\n",
    " - Part5. 結果の確認\n",
    "   - 初期世代と最終世代の目的関数の値を確認\n",
    "   - 制約条件を満たした値であるか確認\n",
    "   - ハイパーボリューム"
   ]
  },
  {
   "cell_type": "markdown",
   "id": "dbecb287",
   "metadata": {},
   "source": [
    "# Part0. 取り扱う問題設定\n",
    "\n",
    "$\n",
    "\\begin{align*}\n",
    "&Minimize& f_1 & = 4A^2 + 4B^2 + 4C^2 + X^2 + Y \\\\\n",
    "&Minimize& f_2 & = (A - 5)^2 + (B - 5)^2 + 4(C + 2)^2 + X + 4Y^2 \\\\\n",
    "&s.t.& 0 & \\leqq  A  \\leqq 5 \\\\\n",
    "& & 0 & \\leqq  B  \\leqq 3 \\\\\n",
    "& & -2 & \\leqq C \\leqq 3 \\\\\n",
    "& & X &\\in \\{0,1\\}\\\\\n",
    "& & Y &\\in \\{-2,-1,0,1\\}\\\\\n",
    "& & 2 & \\leqq A + B + Y \\leqq 5\n",
    "\\end{align*}\n",
    "$"
   ]
  },
  {
   "cell_type": "markdown",
   "id": "1b96b602",
   "metadata": {},
   "source": [
    "# Part1. モジュールのimport"
   ]
  },
  {
   "cell_type": "code",
   "execution_count": 1,
   "id": "10f463c6",
   "metadata": {},
   "outputs": [],
   "source": [
    "%load_ext lab_black"
   ]
  },
  {
   "cell_type": "code",
   "execution_count": 2,
   "id": "0ff9fd5f",
   "metadata": {
    "tags": []
   },
   "outputs": [],
   "source": [
    "import random\n",
    "from functools import partial\n",
    "\n",
    "import matplotlib.pyplot as plt\n",
    "import numpy as np\n",
    "import pandas as pd\n",
    "from deap import base, creator, tools\n",
    "from deap.algorithms import varAnd\n",
    "from deap.benchmarks.tools import hypervolume\n",
    "\n",
    "from itertools import repeat"
   ]
  },
  {
   "cell_type": "markdown",
   "id": "b7ba314b",
   "metadata": {},
   "source": [
    "# Part2. 評価関数の作成\n",
    "\n",
    "#### 進化計算における評価関数は二つの要素からなります\n",
    "\n",
    "- 最適解を見つけたい目的関数\n",
    "- 設計変数が制約を満たさない時に淘汰されるように設定するペナルティ関数"
   ]
  },
  {
   "cell_type": "markdown",
   "id": "069f1954",
   "metadata": {},
   "source": [
    "### 目的関数\n",
    "- 今回は5つの設計変数A,B,C(連続値),X,Y(離散値)を使って目的変数のf1, f2 を多目的最適化する\n",
    "\n",
    "$\n",
    "\\begin{align*}\n",
    "&Minimize& f_1 & = 4A^2 + 4B^2 + 4C^2 + X^2 + Y\\\\\n",
    "&Minimize& f_2 & = (A - 5)^2 + (B - 5)^2 + 4(C + 2)^2 + X + 4Y^2\n",
    "\\end{align*}\n",
    "$\n"
   ]
  },
  {
   "cell_type": "code",
   "execution_count": 3,
   "id": "7f58b9de",
   "metadata": {},
   "outputs": [],
   "source": [
    "# 評価関数\n",
    "def objectfunction(individual):\n",
    "    \"\"\"\n",
    "    individual(list): 個体の設計変数を格納するlist\n",
    "    \"\"\"\n",
    "    # 教材用として、A, B, C, X, Yの変数を作成\n",
    "    A = individual[0]\n",
    "    B = individual[1]\n",
    "    C = individual[2]\n",
    "    X = individual[3]\n",
    "    Y = individual[4]\n",
    "\n",
    "    f1 = 4 * A ** 2 + 4 * B ** 2 + 4 * C ** 2 + X ** 2 + Y\n",
    "    f2 = (A - 5) ** 2 + (B - 5) ** 2 + 4 * (C + 2) ** 2 + X + 4 * Y ** 2\n",
    "    return f1, f2"
   ]
  },
  {
   "cell_type": "markdown",
   "id": "c0842e06",
   "metadata": {},
   "source": [
    "### ペナルティ関数\n",
    "\n",
    "#### 本計算では連続値が制約条件の範囲外にある場合、次世代に個体が残らないようにペナルティ関数を導入します\n",
    "\n",
    "$\n",
    "\\begin{align*}\n",
    "&s.t.& 0 & \\leqq  A  \\leqq 5 \\\\\n",
    "& & 0 & \\leqq  B  \\leqq 3 \\\\\n",
    "& & -2 & \\leqq C \\leqq 3 \\\\\n",
    "& & X &\\in \\{0,1\\}\\\\\n",
    "& & Y &\\in \\{-2,-1,0,1\\}\\\\\n",
    "& & 2 & \\leqq A + B + Y \\leqq 5\n",
    "\\end{align*}\n",
    "$"
   ]
  },
  {
   "cell_type": "code",
   "execution_count": 4,
   "id": "d93cccf7",
   "metadata": {},
   "outputs": [],
   "source": [
    "# ペナルティ関数で判定したい制約条件のリスト\n",
    "# 教材用にこちらで定義していますが。後ほど登場する「generator_config」から作れるようにした方が良いです\n",
    "cases = [\n",
    "    {\n",
    "        \"type\": \"minmax\",\n",
    "        \"case\": {\n",
    "            0: {\"min\": 0, \"max\": 5},  # 設計変数:A\n",
    "            1: {\"min\": 0, \"max\": 3},  # 設計変数:B\n",
    "            2: {\"min\": -2, \"max\": 3},  # 設計変数:C\n",
    "        },\n",
    "    },\n",
    "    {\n",
    "        \"type\": \"is_disc\",\n",
    "        \"case\": {\n",
    "            3: {\"values\": [0, 1]},  # 設計変数X\n",
    "            4: {\"values\": [-2, -1, 0, 1]},  # 設計変数Y\n",
    "        },\n",
    "    },\n",
    "    {\"type\": \"total_minmax\", \"case\": {(0, 1, 4): {\"min\": 2, \"max\": 5}}},\n",
    "]"
   ]
  },
  {
   "cell_type": "markdown",
   "id": "0e324abf",
   "metadata": {},
   "source": [
    "#### 複数変数のパターン組み合わせに関する制約を満たしているかをjudge_total_minmaxという関数でチェックします"
   ]
  },
  {
   "cell_type": "code",
   "execution_count": 5,
   "id": "50eeae70",
   "metadata": {},
   "outputs": [],
   "source": [
    "# ペナルティ関数で使用する関数\n",
    "# 可能範囲以内(連続値)\n",
    "def judge_minmax(individual, case):\n",
    "    for k, v in case.items():\n",
    "        if not float(v[\"min\"]) <= individual[int(k)] <= v[\"max\"]:\n",
    "            return False\n",
    "    return True\n",
    "\n",
    "\n",
    "# 可能範囲以内(離散値)\n",
    "def judge_disc(individual, case):\n",
    "    for k, v in case.items():\n",
    "        if not (individual[int(k)] in v[\"values\"]):\n",
    "            return False\n",
    "    return True\n",
    "\n",
    "\n",
    "# 複数変数のパターン制約\n",
    "def judge_total_minmax(individual, case):\n",
    "    for idxs, v in case.items():\n",
    "        total = 0\n",
    "        for idx in idxs:\n",
    "            total += individual[int(idx)]\n",
    "        if not float(v[\"min\"]) <= total <= float(v[\"max\"]):\n",
    "            return False\n",
    "    return True\n",
    "\n",
    "\n",
    "# ペナルティ関数用の条件判定関数 - 他の条件が出来た時にfor文内に追記することで対応可\n",
    "def judge(individual, cases):\n",
    "    \"\"\"\n",
    "    individual(list): 個体の設計変数を格納するlist\n",
    "    cases(list): 判定したい条件のlist(各要素はdict型)\n",
    "    \"\"\"\n",
    "    for case in cases:\n",
    "        if case[\"type\"] == \"minmax\":\n",
    "            if not judge_minmax(individual, case[\"case\"]):\n",
    "                return False\n",
    "        if case[\"type\"] == \"is_disc\":\n",
    "            if not judge_disc(individual, case[\"case\"]):\n",
    "                return False\n",
    "        if case[\"type\"] == \"total_minmax\":\n",
    "            if not judge_total_minmax(individual, case[\"case\"]):\n",
    "                return False\n",
    "    return True"
   ]
  },
  {
   "cell_type": "markdown",
   "id": "ca17f905",
   "metadata": {},
   "source": [
    "#### 評価関数&ペナルティ関数の導入"
   ]
  },
  {
   "cell_type": "code",
   "execution_count": 6,
   "id": "0b075eb1",
   "metadata": {},
   "outputs": [],
   "source": [
    "# ペナルティ関数の罰則値(適応度)\n",
    "distance = (1000, 1000)\n",
    "\n",
    "# 評価関数を作成\n",
    "toolbox = base.Toolbox()\n",
    "toolbox.register(\"evaluate\", objectfunction)\n",
    "toolbox.register(\"feasible\", judge, cases=cases)\n",
    "toolbox.decorate(\"evaluate\", tools.DeltaPenality(toolbox.feasible, delta=distance))"
   ]
  },
  {
   "cell_type": "markdown",
   "id": "0b27fd3b",
   "metadata": {},
   "source": [
    "# Part.3 遺伝的アルゴリズムの設計"
   ]
  },
  {
   "cell_type": "markdown",
   "id": "5d67b31a",
   "metadata": {},
   "source": [
    "## 遺伝的アルゴリズムにおける個体の表現"
   ]
  },
  {
   "cell_type": "code",
   "execution_count": 7,
   "id": "e07f9943",
   "metadata": {},
   "outputs": [],
   "source": [
    "# 適合度を最小化することで最適化されるような適合度クラスの作成\n",
    "creator.create(\"FitnessMin\", base.Fitness, weights=(-1.0, -1.0))\n",
    "# 個体クラスIndividualを作成\n",
    "creator.create(\"Individual\", list, fitness=creator.FitnessMin)"
   ]
  },
  {
   "cell_type": "markdown",
   "id": "4edfd919",
   "metadata": {},
   "source": [
    "### 制約条件を満たした初期値設定\n",
    "\n",
    "$\n",
    "\\begin{align*}\n",
    "&s.t.& 0 & \\leqq  A  \\leqq 5 \\\\\n",
    "& & 0 & \\leqq  B  \\leqq 3 \\\\\n",
    "& & -2 & \\leqq C \\leqq 3 \\\\\n",
    "& & X &\\in \\{0,1\\}\\\\\n",
    "& & Y &\\in \\{-2,-1,0,1\\}\\\\\n",
    "& & 2 & \\leqq A + B + Y \\leqq 5\n",
    "\\end{align*}\n",
    "$"
   ]
  },
  {
   "cell_type": "code",
   "execution_count": 8,
   "id": "bcc92cca",
   "metadata": {},
   "outputs": [],
   "source": [
    "# 個体を作成する制約条件を記載したのdictを作成\n",
    "generator_config = {\n",
    "    # 使用するカラム\n",
    "    \"columns\": [\"A\", \"B\", \"C\", \"X\", \"Y\"],\n",
    "    # 各連続値の作成条件\n",
    "    \"variables\": {\n",
    "        \"A\": {\"type\": \"real\", \"values\": {\"min\": 0, \"max\": 5}},\n",
    "        \"B\": {\"type\": \"real\", \"values\": {\"min\": 0, \"max\": 3}},\n",
    "        \"C\": {\"type\": \"real\", \"values\": {\"min\": -2, \"max\": 3}},\n",
    "        \"X\": {\"type\": \"discrete\", \"values\": [0, 1]},\n",
    "        \"Y\": {\"type\": \"discrete\", \"values\": [-2, -1, 0, 1]},\n",
    "    },\n",
    "    # 複数の変数の和の条件\n",
    "    \"constrains\": [\n",
    "        {\"type\": \"real\", \"columns\": [\"A\", \"B\", \"Y\"], \"values\": {\"min\": 2, \"max\": 5}}\n",
    "    ],\n",
    "    # 突然変異で使うカラムの指定\n",
    "    \"mutate_real_col\": [\"A\", \"B\", \"C\"],\n",
    "    \"mutate_discrete_col\": [\"X\", \"Y\"],\n",
    "    # 和の制約を追加するカラム\n",
    "    \"limited_sum_cols\": [\"A\", \"B\", \"Y\"],\n",
    "    # 交叉で使用する連続値のカラム\n",
    "    \"independent_real_col\": [\"A\", \"B\", \"C\"],\n",
    "    # 交叉で使用する離散値のカラム\n",
    "    \"independent_discrete_col\": [\"X\", \"Y\"],\n",
    "}"
   ]
  },
  {
   "cell_type": "markdown",
   "id": "4d7e0a09",
   "metadata": {},
   "source": [
    "## 初期サンプルの生成関数\n",
    "####  generator_configから初期値生成"
   ]
  },
  {
   "cell_type": "code",
   "execution_count": 9,
   "id": "a38d3d49",
   "metadata": {},
   "outputs": [],
   "source": [
    "# 個体を生成する関数\n",
    "def generator(generator_config):\n",
    "    \"\"\"\n",
    "    generator_config (dict): 個体を作成する制約条件が記載されたdict\n",
    "    \"\"\"\n",
    "\n",
    "    var = generator_config[\"variables\"]\n",
    "    constrains = generator_config[\"constrains\"]\n",
    "    variables = {}\n",
    "    for k, v in var.items():\n",
    "        # 離散値のサンプル生成\n",
    "        if v[\"type\"] == \"discrete\":\n",
    "            variables[k] = random.choice(v[\"values\"])\n",
    "        # 連続値のサンプル生成\n",
    "        elif v[\"type\"] == \"real\":\n",
    "            variables[k] = random.uniform(v[\"values\"][\"min\"], v[\"values\"][\"max\"])\n",
    "\n",
    "    return [variables[col] for col in generator_config[\"columns\"]]\n",
    "\n",
    "\n",
    "# [お試し]このように作成されます\n",
    "# generator(generator_config)"
   ]
  },
  {
   "cell_type": "markdown",
   "id": "4dbcaa5c",
   "metadata": {},
   "source": [
    "#### 初期サンプルを生成"
   ]
  },
  {
   "cell_type": "code",
   "execution_count": 10,
   "id": "62299592",
   "metadata": {},
   "outputs": [],
   "source": [
    "toolbox.register(\"generator\", generator, generator_config)\n",
    "toolbox.register(\"individual\", tools.initIterate, creator.Individual, toolbox.generator)\n",
    "toolbox.register(\"population\", tools.initRepeat, list, toolbox.individual)"
   ]
  },
  {
   "cell_type": "markdown",
   "id": "222ad798",
   "metadata": {},
   "source": [
    "\n",
    "## 遺伝子操作関数\n",
    "\n",
    "#### 進化計算で重要な役割を持つ遺伝子操作を行う関数を生成\n",
    "\n",
    "- deap公式の交叉・突然変異の関数を使う\n",
    "\n",
    "### 交叉\n",
    "\n",
    "1. 交叉関数 : `cxTwoPoint` [deap公式のリンク](https://deap.readthedocs.io/en/master/api/tools.html#deap.tools.cxTwoPoint)　[github](https://github.com/DEAP/deap/blob/master/deap/tools/crossover.py)"
   ]
  },
  {
   "cell_type": "code",
   "execution_count": 11,
   "id": "d67d5dc1",
   "metadata": {},
   "outputs": [],
   "source": [
    "# 交叉を行う関数\"mate\"を登録\n",
    "toolbox.register(\"mate\", tools.cxTwoPoint)"
   ]
  },
  {
   "cell_type": "markdown",
   "id": "75494eba",
   "metadata": {},
   "source": [
    "### 突然変異\n",
    "\n",
    "2. 変異関数 : `mutPolynomialBounded` [deap公式のリンク](https://deap.readthedocs.io/en/master/api/tools.html#deap.tools.mutPolynomialBounded)　[github](https://github.com/DEAP/deap/blob/master/deap/tools/mutation.py)\n"
   ]
  },
  {
   "cell_type": "code",
   "execution_count": 12,
   "id": "41a19395",
   "metadata": {},
   "outputs": [],
   "source": [
    "# 突然変異用のdict作成する関数\n",
    "def muconfig(constrain_dict):\n",
    "    \"\"\"\n",
    "    constrain_dict(dict):制約条件格納dict\n",
    "    \"\"\"\n",
    "    cols = constrain_dict[\"columns\"]  # 現状のカラム\n",
    "\n",
    "    mur = constrain_dict[\"mutate_real_col\"]  # 突然変異するカラム(連続値)\n",
    "    mud = constrain_dict[\"mutate_discrete_col\"]  # 突然変異するカラム(離散値)\n",
    "\n",
    "    mu_real_index = [cols.index(c) for c in cols if c in mur]  # 連続値のindex\n",
    "    mu_discrete_index = [cols.index(c) for c in cols if c in mud]  # 離散値のindex\n",
    "    mu_discrete_values = [\n",
    "        constrain_dict[\"variables\"][col][\"values\"] for col in mud if col in cols\n",
    "    ]  # 離散値変数が取りうる値\n",
    "\n",
    "    mu_low = [\n",
    "        constrain_dict[\"variables\"][col][\"values\"][\"min\"] for col in mur if col in cols\n",
    "    ]  # 連続値の下限\n",
    "\n",
    "    mu_up = [\n",
    "        constrain_dict[\"variables\"][col][\"values\"][\"max\"] for col in mur if col in cols\n",
    "    ]  # 連続値の上限\n",
    "\n",
    "    for mi, ma in zip(mu_low, mu_up):  # 上限と下限が逆転していないか？イコールになっていないか？\n",
    "        if not mi <= ma:\n",
    "            raise MutateionError(\"some low values higher than ups values\")\n",
    "\n",
    "    mucfg = {}\n",
    "    mucfg[\"real_indexs\"] = mu_real_index  # 連続値に対する設計変数のindex\n",
    "    mucfg[\"discrete_indexs\"] = mu_discrete_index  # 離散値に対する設計変数のindex\n",
    "    mucfg[\"discrete_values\"] = mu_discrete_values  # 離散値に対する設計変数が取りうる値\n",
    "    mucfg[\"lows\"] = mu_low  # 連続値に対する設計変数の最小値\n",
    "    mucfg[\"ups\"] = mu_up  # 連続値に対する設計変数の最大値\n",
    "\n",
    "    return mucfg"
   ]
  },
  {
   "cell_type": "code",
   "execution_count": 13,
   "id": "8b46671f",
   "metadata": {},
   "outputs": [
    {
     "data": {
      "text/plain": [
       "{'real_indexs': [0, 1, 2],\n",
       " 'discrete_indexs': [3, 4],\n",
       " 'discrete_values': [[0, 1], [-2, -1, 0, 1]],\n",
       " 'lows': [0, 0, -2],\n",
       " 'ups': [5, 3, 3]}"
      ]
     },
     "execution_count": 13,
     "metadata": {},
     "output_type": "execute_result"
    }
   ],
   "source": [
    "# 突然変異用のdice作成\n",
    "mucfg = muconfig(generator_config)\n",
    "mucfg"
   ]
  },
  {
   "cell_type": "markdown",
   "id": "065543bb",
   "metadata": {},
   "source": [
    "#### 変異の処理も制約を満たすように修正"
   ]
  },
  {
   "cell_type": "code",
   "execution_count": 14,
   "id": "718c4887",
   "metadata": {},
   "outputs": [],
   "source": [
    "# 各変数ごとに分けて突然変異をするための関数\n",
    "def mutation(\n",
    "    individual,\n",
    "    realmut,\n",
    "    real_indexs,\n",
    "    discrete_indexs,\n",
    "    discrete_values,\n",
    "    lows,\n",
    "    ups,\n",
    "    indpb=None,\n",
    "):\n",
    "    \"\"\"\n",
    "    individual (list): 個体のlist\n",
    "    realmut(function): 親個体, lows, ups, indpbを引数にとる変異関数\n",
    "    real_indexs(list): 設計変数の内、連続値であるもののindexからなるlist\n",
    "    discrete_indexs(list): 設計変数の内、離散値であるもののindexからなるlist\n",
    "    discrete_values(list): 離散値の設計変数が取りうる値\n",
    "    lows (list): 連続値の最小値\n",
    "    ups(list) : 連続値の最大値\n",
    "    indpb(float): 各変数に対して変異を行うか否かの確率、デフォルト値はNone. 0 <= indpb <= 1.\n",
    "    \"\"\"\n",
    "\n",
    "    if not isinstance(real_indexs, list):\n",
    "        raise CrossoverError(\n",
    "            f'argment \"real_indexs\" must be list but inputed {type(real_indexs)}'\n",
    "        )\n",
    "    if not isinstance(discrete_indexs, list):\n",
    "        raise MutateionError(\n",
    "            'argment \"real_indexs\" must be list but inputed' f\" {type(discrete_indexs)}\"\n",
    "        )\n",
    "\n",
    "    if not isinstance(lows, list):\n",
    "        raise MutateionError(f\"argment lows must be  list but {type(lows)}\")\n",
    "    if not isinstance(ups, list):\n",
    "        raise MutateionError(f\"argment ups must be  list but {type(ups)}\")\n",
    "\n",
    "    if not (len(real_indexs) == len(lows) and len(real_indexs) == len(ups)):\n",
    "        raise MutateionError(\"not match lows, ups ,or real_indexs length\")\n",
    "\n",
    "    if indpb is None:\n",
    "        indpb = 1 / (len(real_indexs) + len(discrete_indexs))\n",
    "\n",
    "    # 連続値の染色体を抽出\n",
    "    real_chromosome = [individual[i] for i in real_indexs]\n",
    "    # 変異を実施\n",
    "    real_chromosome = realmut(real_chromosome, low=lows, up=ups, indpb=indpb)[0]\n",
    "    for i, r in zip(real_indexs, real_chromosome):\n",
    "        individual[i] = r\n",
    "\n",
    "    # 離散値の染色体を抽出\n",
    "    discrete_chromosome = [individual[i] for i in discrete_indexs]\n",
    "    # 変異を実施\n",
    "    discrete_chromosome = muchoice(discrete_chromosome, discrete_values, indpb=indpb)[0]\n",
    "    # 染色体の書き換え\n",
    "    for i, d in zip(discrete_indexs, discrete_chromosome):\n",
    "        individual[i] = d\n",
    "\n",
    "    return (individual,)"
   ]
  },
  {
   "cell_type": "markdown",
   "id": "36719ad7",
   "metadata": {},
   "source": [
    "#### 離散値用の変異処理"
   ]
  },
  {
   "cell_type": "code",
   "execution_count": 15,
   "id": "cf7762e2",
   "metadata": {},
   "outputs": [],
   "source": [
    "def muchoice(individual, patterns, indpb):\n",
    "    \"\"\"離散値、ダミー変数、組み合わせ規定で設定されている各々の固有パターンから変異を行います。\n",
    "\n",
    "    変数ごと与えられたパターンのいずれかに確率的に変異します。\n",
    "    Args:\n",
    "        individual(list):有限パターンの変数を持つlist\n",
    "        patterns(list):変数ごと取りうるユニークな値を格納\n",
    "        indpb(float):変異確率\n",
    "    Returns:\n",
    "        tuple:indvidualを書き換えたものをtupleで返します\n",
    "    Examples:\n",
    "        >>> indivudual = [0, 1, 1]\n",
    "        >>> patterns = [[0, 1], [0, 1, 1.3], [1]]\n",
    "        >>> muchoice(individual, patterns, 0.3)\n",
    "        [0, 1.3, 1] # 確率によって値の変異\n",
    "    \"\"\"\n",
    "\n",
    "    for i, comb in enumerate(patterns):\n",
    "        if random.random() < indpb:\n",
    "            individual[i] = random.choice(comb)\n",
    "\n",
    "    return (individual,)"
   ]
  },
  {
   "cell_type": "code",
   "execution_count": 16,
   "id": "c1895ba9",
   "metadata": {},
   "outputs": [],
   "source": [
    "# toolsにある突然変異関数を使用する(今回は一部バグ修正したものを自作関数として使用)\n",
    "def mutPolynomialBounded(individual, eta, low, up, indpb):\n",
    "    \"\"\"\n",
    "    多項式変異(deap.tools.mutPolynomialBounded)\n",
    "    (https://deap.readthedocs.io/en/master/api/tools.html#deap.tools.mutPolynomialBounded))\n",
    "    を改変し、複素数が出現するエラーが起きないようにしたもの。\n",
    "\n",
    "    args:\n",
    "        individual(list): 1個体の各成分からなるlist\n",
    "        eta(float): 混雑度\n",
    "        low(float): 連続値の最小値\n",
    "        up(float): 連続値の最大値\n",
    "        indpb(float): 突然変異の起こる確率\n",
    "    Returns:\n",
    "        tuple: individualを書き換えたもの\n",
    "    \"\"\"\n",
    "\n",
    "    try:\n",
    "        from collections.abc import Sequence\n",
    "    except ImportError:\n",
    "        from collections import Sequence\n",
    "\n",
    "    size = len(individual)\n",
    "    if not isinstance(low, Sequence):\n",
    "        low = repeat(low, size)\n",
    "    elif len(low) < size:\n",
    "        raise IndexError(\n",
    "            \"low must be at least the size of individual: %d < %d\" % (len(low), size)\n",
    "        )\n",
    "    if not isinstance(up, Sequence):\n",
    "        up = repeat(up, size)\n",
    "    elif len(up) < size:\n",
    "        raise IndexError(\n",
    "            \"up must be at least the size of individual: %d < %d\" % (len(up), size)\n",
    "        )\n",
    "\n",
    "    for i, xl, xu in zip(range(size), low, up):\n",
    "        # 突然変異を起こすか？\n",
    "        if random.random() <= indpb:\n",
    "            x = individual[i]\n",
    "            delta_1 = (x - xl) / (xu - xl)  # (値 - 下限) / (上限 - 下限)\n",
    "            delta_2 = (xu - x) / (xu - xl)  # (上限 - 値) / (上限 - 下限)\n",
    "            rand = random.random()\n",
    "            mut_pow = abs(1.0 / (eta + 1.0))  # 1 / (混雑度 + 1)\n",
    "            sign_mut_pow = 1 if 1.0 / (eta + 1.0) >= 0 else -1\n",
    "            # xyを非負の数とすることで、以下の xy ** (eta + 1), val ** mut_pow部分で虚数が発生しないようにする\n",
    "            if rand < 0.5:\n",
    "                xy = max(1.0 - delta_1, 0)\n",
    "                val = 2.0 * rand + (1.0 - 2.0 * rand) * xy ** (eta + 1)\n",
    "                delta_q = (val ** mut_pow) - 1.0\n",
    "            else:\n",
    "                xy = max(1.0 - delta_2, 0)\n",
    "                val = 2.0 * (1.0 - rand) + 2.0 * (rand - 0.5) * xy ** (eta + 1)\n",
    "                delta_q = 1.0 - (val ** mut_pow)\n",
    "\n",
    "            x = x + delta_q * (xu - xl)\n",
    "            x = min(max(x, xl), xu)  # 上限と下限を超えてないか確認。超えた場合は、引っかかった方の値に\n",
    "            individual[i] = x\n",
    "    return (individual,)"
   ]
  },
  {
   "cell_type": "code",
   "execution_count": 17,
   "id": "2e6cb874",
   "metadata": {},
   "outputs": [],
   "source": [
    "realmut = partial(mutPolynomialBounded, eta=20)\n",
    "\n",
    "# 突然変異を行う関数\"mutate\"を登録}\n",
    "toolbox.register(\"mutate\", mutation, realmut=realmut, **mucfg)"
   ]
  },
  {
   "cell_type": "markdown",
   "id": "cf0d4ead",
   "metadata": {},
   "source": [
    "## 引き戻し法の実装\n",
    "複数変数の和に制約がある場合、交叉or突然変異によって制約条件を満たさなくなってしまう個体が出現する可能性がある。\n",
    "\n",
    "この時、対象となる変数を調整し、制約条件を成立する操作を行う。"
   ]
  },
  {
   "cell_type": "code",
   "execution_count": 18,
   "id": "c543dd76",
   "metadata": {},
   "outputs": [],
   "source": [
    "# 離散値は係数をかけることによる引き戻しの後に、定義域に含まれるように修正を行う。\n",
    "def get_nearest_value(list_, num):\n",
    "    \"\"\"\n",
    "    リストからある値に最も近い値を返却する関数。\n",
    "    \"\"\"\n",
    "    # リスト要素と対象値の差分を計算し最小値のインデックスを取得\n",
    "    idx = np.abs(np.asarray(list_) - num).argmin()\n",
    "    return list_[idx]"
   ]
  },
  {
   "cell_type": "code",
   "execution_count": 19,
   "id": "43f71e0c",
   "metadata": {
    "tags": []
   },
   "outputs": [],
   "source": [
    "def pullback_method(individuals, conditions, epsilon=0.1):\n",
    "    \"\"\"和が一定で規定される変数の引き戻し法を行う\n",
    "    Args:\n",
    "        individuals (list): 1個体\n",
    "        conditions (list): 制約条件のlist\n",
    "    Returns:\n",
    "        list: 制約条件に合わせて要素を修正した個体\n",
    "    Examples:\n",
    "        制約条件のlistは以下のような要素で構成されている::\n",
    "            {'columns': [1, 2, 5], 'value': {'min': 2, 'max': 5}, ...}\n",
    "    Note:\n",
    "        この関数は引数にとる元の変数の値を書き換える。\n",
    "    \"\"\"\n",
    "    for condition_dict in conditions:\n",
    "        # 要素を変更する割合を求める.\n",
    "        target_condition_values = sum(\n",
    "            [individuals[idx] for idx in condition_dict[\"index\"]]\n",
    "        )\n",
    "        if target_condition_values < condition_dict[\"values\"][\"min\"]:\n",
    "            ratio = condition_dict[\"values\"][\"min\"] / (\n",
    "                target_condition_values + epsilon\n",
    "            )\n",
    "        elif target_condition_values > condition_dict[\"values\"][\"max\"]:\n",
    "            ratio = condition_dict[\"values\"][\"max\"] / (\n",
    "                target_condition_values + epsilon\n",
    "            )\n",
    "        else:\n",
    "            continue\n",
    "        # 該当する要素を変更する.\n",
    "        for idx in condition_dict[\"index\"]:\n",
    "            # 離散値が制約に含まれる場合を考慮して、係数をより小さめにする\n",
    "            individuals[idx] = individuals[idx] * (ratio - epsilon)\n",
    "            # 離散値が定義域に含まれるように修正\n",
    "            if idx in condition_dict[\"discrete_index\"]:\n",
    "                individuals[idx] = get_nearest_value(\n",
    "                    condition_dict[\"discrete_values\"][\n",
    "                        int(\n",
    "                            np.where(idx == np.array(condition_dict[\"discrete_index\"]))[\n",
    "                                0\n",
    "                            ]\n",
    "                        )\n",
    "                    ],\n",
    "                    individuals[idx],\n",
    "                )\n",
    "\n",
    "    return individuals"
   ]
  },
  {
   "cell_type": "code",
   "execution_count": 20,
   "id": "2f2123e8",
   "metadata": {},
   "outputs": [],
   "source": [
    "# 引き戻し法の実装\n",
    "cols = generator_config[\"columns\"]\n",
    "# 和一定制約の引き戻し関数の定義\n",
    "sums = [\n",
    "    {\n",
    "        \"index\": [cols.index(col) for col in constrain[\"columns\"]],\n",
    "        \"values\": constrain[\"values\"],\n",
    "        \"discrete_index\": [\n",
    "            cols.index(col)\n",
    "            for col in constrain[\"columns\"]\n",
    "            if col in generator_config[\"independent_discrete_col\"]\n",
    "        ],\n",
    "        \"discrete_values\": [\n",
    "            generator_config[\"variables\"][col][\"values\"]\n",
    "            for col in constrain[\"columns\"]\n",
    "            if col in generator_config[\"independent_discrete_col\"]\n",
    "        ],\n",
    "    }\n",
    "    for constrain in generator_config[\"constrains\"]\n",
    "]\n",
    "toolbox.register(\"pullback\", pullback_method, conditions=sums)"
   ]
  },
  {
   "cell_type": "markdown",
   "id": "24a9dbf8",
   "metadata": {},
   "source": [
    "## 解の選択（世代交代）手法\n",
    "\n",
    "#### 今回は、NSGAⅢの選択手法を用います\n",
    "\n",
    "- [selNSGA3について_deap公式](https://deap.readthedocs.io/en/master/api/tools.html#deap.tools.selNSGA3)\n",
    "- [selNSGA3の動作ついて_github](https://github.com/DEAP/deap/blob/master/deap/tools/emo.py '個体選択')"
   ]
  },
  {
   "cell_type": "code",
   "execution_count": 21,
   "id": "ce1c4f1d",
   "metadata": {
    "tags": []
   },
   "outputs": [],
   "source": [
    "# 個体選択法\"select\"を登録\n",
    "toolbox.register(\"select\", tools.selNSGA3)"
   ]
  },
  {
   "cell_type": "markdown",
   "id": "f489441b",
   "metadata": {},
   "source": [
    "# Part.4 最適化計算の実行\n",
    "\n",
    "#### 初期状態の設定\n",
    "\n",
    "- 初期サンプル（第一世代）の生成\n",
    "- 適合度割当"
   ]
  },
  {
   "cell_type": "code",
   "execution_count": 22,
   "id": "9636fdbb",
   "metadata": {
    "tags": []
   },
   "outputs": [],
   "source": [
    "random.seed(1)\n",
    "\n",
    "NGEN = 50  # 繰り返し世代数\n",
    "MU = 100  # 集団内の個体数\n",
    "CXPB = 0.9  # 交叉率\n",
    "MUTPB = 0.9  # 変異率\n",
    "\n",
    "# 第一世代の生成\n",
    "pop = toolbox.population(n=MU)\n",
    "pop = list(toolbox.map(toolbox.pullback, pop))  # 和一定制約について引き戻し\n",
    "pop_init = pop[:]\n",
    "\n",
    "invalid_ind = []\n",
    "for ind in pop:\n",
    "    if not ind.fitness.valid:\n",
    "        invalid_ind.append(ind)\n",
    "\n",
    "fitnesses = toolbox.map(toolbox.evaluate, invalid_ind)\n",
    "for ind, fit in zip(invalid_ind, fitnesses):\n",
    "    ind.fitness.values = fit\n",
    "pop = toolbox.select(pop, len(pop), tools.uniform_reference_points(nobj=2, p=12))"
   ]
  },
  {
   "cell_type": "markdown",
   "id": "b8c34c1e",
   "metadata": {},
   "source": [
    "#### 最適計算の実行\n"
   ]
  },
  {
   "cell_type": "code",
   "execution_count": 23,
   "id": "dea6d117",
   "metadata": {
    "tags": []
   },
   "outputs": [],
   "source": [
    "for gen in range(2, NGEN + 1):\n",
    "    # 子母集団生成\n",
    "    offspring = varAnd(pop, toolbox, CXPB, MUTPB)\n",
    "    # 引き戻し法\n",
    "    offspring = list(toolbox.map(toolbox.pullback, offspring))  # 和一定制約\n",
    "    # 適合度計算\n",
    "    fitnesses = toolbox.map(toolbox.evaluate, offspring)\n",
    "    for ind, fit in zip(offspring, fitnesses):\n",
    "        ind.fitness.values = fit\n",
    "\n",
    "    # 次世代選択\n",
    "    pop = toolbox.select(\n",
    "        pop + offspring, len(pop), tools.uniform_reference_points(nobj=2, p=12)\n",
    "    )"
   ]
  },
  {
   "cell_type": "markdown",
   "id": "9de78b74",
   "metadata": {},
   "source": [
    "# Part5. 結果の確認\n",
    "\n",
    "## 初期世代と最終世代の目的関数の値を確認\n",
    "$\n",
    "\\begin{align*}\n",
    "&Minimize& f_1 & = 4A^2 + 4B^2 + 4C^2 + X^2 + Y\\\\\n",
    "&Minimize& f_2 & = (A - 5)^2 + (B - 5)^2 + 4(C + 2)^2 + X + 4Y^2\n",
    "\\end{align*}\n",
    "$\n"
   ]
  },
  {
   "cell_type": "code",
   "execution_count": 24,
   "id": "1e9e8783",
   "metadata": {},
   "outputs": [
    {
     "data": {
      "image/png": "[encoded data removed]",
      "text/plain": [
       "<Figure size 432x288 with 1 Axes>"
      ]
     },
     "metadata": {
      "needs_background": "light"
     },
     "output_type": "display_data"
    }
   ],
   "source": [
    "# 目的関数の値を確認\n",
    "fitnesses_init = np.array(\n",
    "    [list(pop_init[i].fitness.values) for i in range(len(pop_init))]\n",
    ")\n",
    "fitnesses = np.array([list(pop[i].fitness.values) for i in range(len(pop))])\n",
    "# グラフで確認\n",
    "plt.plot(fitnesses_init[:, 0], fitnesses_init[:, 1], \"b.\", label=\"Initial\")  # 初期世代\n",
    "plt.plot(fitnesses[:, 0], fitnesses[:, 1], \"r.\", label=\"Optimized\")  # 最終世代\n",
    "plt.legend(loc=\"upper right\")\n",
    "plt.title(\"fitnesses\")\n",
    "# 初期の例外値が残っているのでグラフ範囲を指定\n",
    "plt.xlim(-20, 150)\n",
    "plt.ylim(0, 150)\n",
    "plt.xlabel(\"f1\")\n",
    "plt.ylabel(\"f2\")\n",
    "plt.grid(True)"
   ]
  },
  {
   "cell_type": "markdown",
   "id": "7f5803ca",
   "metadata": {
    "tags": []
   },
   "source": [
    "#### ハイパーボリュームの計算"
   ]
  },
  {
   "cell_type": "code",
   "execution_count": 25,
   "id": "0a938fe4",
   "metadata": {},
   "outputs": [
    {
     "name": "stdout",
     "output_type": "stream",
     "text": [
      "Final population hypervolume is 16413.672171\n"
     ]
    }
   ],
   "source": [
    "# 最終世代のハイパーボリュームを出力\n",
    "print(\"Final population hypervolume is %f\" % hypervolume(pop, [200.0, 100.0]))"
   ]
  },
  {
   "cell_type": "markdown",
   "id": "0a5d5e43",
   "metadata": {},
   "source": [
    "### 最終世代の設計変数と各適応度をデータフレームで確認"
   ]
  },
  {
   "cell_type": "code",
   "execution_count": 26,
   "id": "a02f091b",
   "metadata": {},
   "outputs": [
    {
     "data": {
      "text/html": [
       "<div>\n",
       "<style scoped>\n",
       "    .dataframe tbody tr th:only-of-type {\n",
       "        vertical-align: middle;\n",
       "    }\n",
       "\n",
       "    .dataframe tbody tr th {\n",
       "        vertical-align: top;\n",
       "    }\n",
       "\n",
       "    .dataframe thead th {\n",
       "        text-align: right;\n",
       "    }\n",
       "</style>\n",
       "<table border=\"1\" class=\"dataframe\">\n",
       "  <thead>\n",
       "    <tr style=\"text-align: right;\">\n",
       "      <th></th>\n",
       "      <th>A</th>\n",
       "      <th>B</th>\n",
       "      <th>C</th>\n",
       "      <th>X</th>\n",
       "      <th>Y</th>\n",
       "      <th>f1</th>\n",
       "      <th>f2</th>\n",
       "    </tr>\n",
       "  </thead>\n",
       "  <tbody>\n",
       "    <tr>\n",
       "      <th>0</th>\n",
       "      <td>1.494632</td>\n",
       "      <td>1.273086</td>\n",
       "      <td>-1.305686</td>\n",
       "      <td>0</td>\n",
       "      <td>0</td>\n",
       "      <td>22.237952</td>\n",
       "      <td>28.105783</td>\n",
       "    </tr>\n",
       "    <tr>\n",
       "      <th>1</th>\n",
       "      <td>1.494632</td>\n",
       "      <td>1.612477</td>\n",
       "      <td>-1.271590</td>\n",
       "      <td>0</td>\n",
       "      <td>0</td>\n",
       "      <td>25.803791</td>\n",
       "      <td>25.885242</td>\n",
       "    </tr>\n",
       "    <tr>\n",
       "      <th>2</th>\n",
       "      <td>2.196865</td>\n",
       "      <td>2.115269</td>\n",
       "      <td>-1.416306</td>\n",
       "      <td>0</td>\n",
       "      <td>0</td>\n",
       "      <td>45.226002</td>\n",
       "      <td>17.542035</td>\n",
       "    </tr>\n",
       "    <tr>\n",
       "      <th>3</th>\n",
       "      <td>1.298110</td>\n",
       "      <td>1.152005</td>\n",
       "      <td>-1.271590</td>\n",
       "      <td>0</td>\n",
       "      <td>0</td>\n",
       "      <td>18.516580</td>\n",
       "      <td>30.633384</td>\n",
       "    </tr>\n",
       "    <tr>\n",
       "      <th>4</th>\n",
       "      <td>2.546788</td>\n",
       "      <td>2.441133</td>\n",
       "      <td>-1.981158</td>\n",
       "      <td>0</td>\n",
       "      <td>0</td>\n",
       "      <td>65.480981</td>\n",
       "      <td>12.567472</td>\n",
       "    </tr>\n",
       "    <tr>\n",
       "      <th>...</th>\n",
       "      <td>...</td>\n",
       "      <td>...</td>\n",
       "      <td>...</td>\n",
       "      <td>...</td>\n",
       "      <td>...</td>\n",
       "      <td>...</td>\n",
       "      <td>...</td>\n",
       "    </tr>\n",
       "    <tr>\n",
       "      <th>95</th>\n",
       "      <td>1.339648</td>\n",
       "      <td>1.679753</td>\n",
       "      <td>-1.541178</td>\n",
       "      <td>0</td>\n",
       "      <td>0</td>\n",
       "      <td>27.965819</td>\n",
       "      <td>25.264291</td>\n",
       "    </tr>\n",
       "    <tr>\n",
       "      <th>96</th>\n",
       "      <td>0.951090</td>\n",
       "      <td>1.074365</td>\n",
       "      <td>-0.625515</td>\n",
       "      <td>0</td>\n",
       "      <td>0</td>\n",
       "      <td>9.800401</td>\n",
       "      <td>39.361122</td>\n",
       "    </tr>\n",
       "    <tr>\n",
       "      <th>97</th>\n",
       "      <td>2.303776</td>\n",
       "      <td>2.338698</td>\n",
       "      <td>-1.463623</td>\n",
       "      <td>0</td>\n",
       "      <td>0</td>\n",
       "      <td>51.676346</td>\n",
       "      <td>15.502951</td>\n",
       "    </tr>\n",
       "    <tr>\n",
       "      <th>98</th>\n",
       "      <td>2.546350</td>\n",
       "      <td>2.365853</td>\n",
       "      <td>-1.493144</td>\n",
       "      <td>0</td>\n",
       "      <td>0</td>\n",
       "      <td>57.242543</td>\n",
       "      <td>13.986743</td>\n",
       "    </tr>\n",
       "    <tr>\n",
       "      <th>99</th>\n",
       "      <td>2.196865</td>\n",
       "      <td>2.115269</td>\n",
       "      <td>-1.490226</td>\n",
       "      <td>0</td>\n",
       "      <td>0</td>\n",
       "      <td>46.085407</td>\n",
       "      <td>17.218717</td>\n",
       "    </tr>\n",
       "  </tbody>\n",
       "</table>\n",
       "<p>100 rows × 7 columns</p>\n",
       "</div>"
      ],
      "text/plain": [
       "           A         B         C  X  Y         f1         f2\n",
       "0   1.494632  1.273086 -1.305686  0  0  22.237952  28.105783\n",
       "1   1.494632  1.612477 -1.271590  0  0  25.803791  25.885242\n",
       "2   2.196865  2.115269 -1.416306  0  0  45.226002  17.542035\n",
       "3   1.298110  1.152005 -1.271590  0  0  18.516580  30.633384\n",
       "4   2.546788  2.441133 -1.981158  0  0  65.480981  12.567472\n",
       "..       ...       ...       ... .. ..        ...        ...\n",
       "95  1.339648  1.679753 -1.541178  0  0  27.965819  25.264291\n",
       "96  0.951090  1.074365 -0.625515  0  0   9.800401  39.361122\n",
       "97  2.303776  2.338698 -1.463623  0  0  51.676346  15.502951\n",
       "98  2.546350  2.365853 -1.493144  0  0  57.242543  13.986743\n",
       "99  2.196865  2.115269 -1.490226  0  0  46.085407  17.218717\n",
       "\n",
       "[100 rows x 7 columns]"
      ]
     },
     "execution_count": 26,
     "metadata": {},
     "output_type": "execute_result"
    }
   ],
   "source": [
    "design = pd.DataFrame(pop).rename(\n",
    "    columns={0: \"A\", 1: \"B\", 2: \"C\", 3: \"X\", 4: \"Y\"}\n",
    ")  # 設計変数\n",
    "goal = pd.DataFrame(fitnesses).rename(columns={0: \"f1\", 1: \"f2\"})  # 適応度\n",
    "pd.concat([design, goal], axis=1)"
   ]
  },
  {
   "cell_type": "markdown",
   "id": "8f167fc0",
   "metadata": {},
   "source": [
    "#### 補足: 制約条件を満たしているか確認"
   ]
  },
  {
   "cell_type": "code",
   "execution_count": 27,
   "id": "a0f0a07e",
   "metadata": {},
   "outputs": [
    {
     "data": {
      "text/plain": [
       "0     True\n",
       "1     True\n",
       "2     True\n",
       "3     True\n",
       "4     True\n",
       "      ... \n",
       "95    True\n",
       "96    True\n",
       "97    True\n",
       "98    True\n",
       "99    True\n",
       "Length: 100, dtype: bool"
      ]
     },
     "execution_count": 27,
     "metadata": {},
     "output_type": "execute_result"
    }
   ],
   "source": [
    "pd.concat([design, goal], axis=1).apply(lambda x: 2 <= x[0] + x[1] + x[4] <= 5, axis=1)"
   ]
  },
  {
   "cell_type": "code",
   "execution_count": 28,
   "id": "b0137b38",
   "metadata": {},
   "outputs": [
    {
     "data": {
      "text/plain": [
       "100"
      ]
     },
     "execution_count": 28,
     "metadata": {},
     "output_type": "execute_result"
    }
   ],
   "source": [
    "pd.concat([design, goal], axis=1).apply(\n",
    "    lambda x: 2 <= x[0] + x[1] + x[4] <= 5, axis=1\n",
    ").sum()"
   ]
  },
  {
   "cell_type": "markdown",
   "id": "1ae41381",
   "metadata": {},
   "source": [
    "#### テスト: 自作変異関数の挙動確認\n",
    "確認すること: 虚数によるエラーが発生しない"
   ]
  },
  {
   "cell_type": "code",
   "execution_count": 29,
   "id": "11151d28",
   "metadata": {},
   "outputs": [],
   "source": [
    "random.seed(2021)\n",
    "for i in range(100000):\n",
    "    ind = generator(generator_config)\n",
    "    ind = toolbox.mutate(ind)"
   ]
  }
 ],
 "metadata": {
  "kernelspec": {
   "display_name": "Python 3 (ipykernel)",
   "language": "python",
   "name": "python3"
  },
  "language_info": {
   "codemirror_mode": {
    "name": "ipython",
    "version": 3
   },
   "file_extension": ".py",
   "mimetype": "text/x-python",
   "name": "python",
   "nbconvert_exporter": "python",
   "pygments_lexer": "ipython3",
   "version": "3.9.5"
  }
 },
 "nbformat": 4,
 "nbformat_minor": 5
}
