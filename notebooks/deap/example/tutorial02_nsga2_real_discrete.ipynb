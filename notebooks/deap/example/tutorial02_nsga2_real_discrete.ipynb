{
 "cells": [
  {
   "cell_type": "markdown",
   "id": "028bb227",
   "metadata": {},
   "source": [
    "# Tutorial：2\n",
    "- 使用フレームワーク : deap\n",
    "- 選択手法 : NSGA-Ⅱ\n",
    "- 設計変数 : 2個\n",
    "  - 連続値 : 1個\n",
    "  - 離散値 : 1個\n",
    "- 目的変数 : 2個\n",
    "- 制約条件 : 2パターン\n",
    "     1. 連続値のmin,max \n",
    "     2. 離散値の取り得るパターン\n",
    "\n",
    "## 習得してもらうこと\n",
    "- 設計変数が離散値である時の扱い方\n",
    "- 制約条件が離散値を取り得るパターンの場合の扱い方\n",
    "\n",
    "## 実施内容\n",
    " - Part0. 取り扱う問題設定\n",
    "\n",
    " - Patr1: モジュールのimport \n",
    "\n",
    " - Part2: 評価関数の作成\n",
    "   - 目的関数の設計\n",
    "   - ペナルティ関数の導入\n",
    "\n",
    "\n",
    " - Part3: 遺伝的アルゴリズムの設計\n",
    "   - 遺伝的アルゴリズムにおける個体の表現\n",
    "   - 遺伝子操作関数の設定\n",
    "     - 交叉\n",
    "     - 突然変異\n",
    "   - 解の選択手法の設定\n",
    "\n",
    "\n",
    " - Part4: 最適化計算の実行\n",
    "   - 初期状態の設定\n",
    "   - 遺伝的最適化計算の実行  \n",
    "\n",
    "\n",
    " - Part5. 結果の確認\n",
    "   - 初期世代と最終世代の目的関数の値を確認\n",
    "   \n",
    " - Appendix\n",
    "   - 離散値が2~3変数以上存在する時におススメする、deap公式の突然変異の関数"
   ]
  },
  {
   "cell_type": "markdown",
   "id": "099b89aa",
   "metadata": {},
   "source": [
    "# Part0. 取り扱う問題設定\n",
    "- STEP01と同じ問題設定だが、設定変数Bを連続値から離散値に変更した\n",
    "\n",
    "$\n",
    "\\begin{align*}\n",
    "&Minimize& f_1 & = 4A^2 + 4B^2 \\\\\n",
    "&Minimize& f_2 & = (A - 5)^2 + (B - 5)^2 \\\\\n",
    "&s.t.& 0& \\leqq A \\leqq 5 \\\\\n",
    "&  &B &\\in \\{0, 1, 2, 3\\}\n",
    "\\end{align*}\n",
    "$\n"
   ]
  },
  {
   "cell_type": "markdown",
   "id": "4c0772fd",
   "metadata": {},
   "source": [
    "# Part1. モジュールのimport"
   ]
  },
  {
   "cell_type": "code",
   "execution_count": 1,
   "id": "2c88f1cf",
   "metadata": {},
   "outputs": [],
   "source": [
    "%load_ext lab_black"
   ]
  },
  {
   "cell_type": "code",
   "execution_count": 2,
   "id": "53f161a6",
   "metadata": {},
   "outputs": [],
   "source": [
    "import random\n",
    "import numpy as np\n",
    "import matplotlib.pyplot as plt\n",
    "from functools import partial\n",
    "\n",
    "from deap import base, creator, tools\n",
    "from deap.benchmarks.tools import hypervolume"
   ]
  },
  {
   "cell_type": "markdown",
   "id": "24ed6078",
   "metadata": {},
   "source": [
    "# Part2. 評価関数の作成"
   ]
  },
  {
   "cell_type": "markdown",
   "id": "fbf80c37",
   "metadata": {},
   "source": [
    "### 目的関数\n",
    "\n",
    "$\n",
    "\\begin{align*}\n",
    "&Minimize& f_1 & = 4A^2 + 4B^2 \\\\\n",
    "&Minimize& f_2 & = (A - 5)^2 + (B - 5)^2\n",
    "\\end{align*}\n",
    "$"
   ]
  },
  {
   "cell_type": "code",
   "execution_count": 3,
   "id": "92d6329e",
   "metadata": {},
   "outputs": [],
   "source": [
    "# 評価関数\n",
    "def objectfunction(individual):\n",
    "    \"\"\"\n",
    "    individual(list): 個体の設計変数を格納するlist\n",
    "    \"\"\"\n",
    "\n",
    "    # 教材用として、A, Bの変数を作成\n",
    "    A = individual[0]\n",
    "    B = individual[1]\n",
    "\n",
    "    f1 = 4 * A ** 2 + 4 * B ** 2\n",
    "    f2 = (A - 5) ** 2 + (B - 5) ** 2\n",
    "    return f1, f2"
   ]
  },
  {
   "cell_type": "markdown",
   "id": "8e753448",
   "metadata": {},
   "source": [
    "### ペナルティ関数\n",
    "##### 取り得るパターンに対応した制約条件に変更しています\n",
    "\n",
    "$ \n",
    "\\begin{align*}\n",
    "&s.t.& 0& \\leqq A \\leqq 5 \\\\\n",
    "&  &B &\\in \\{0, 1, 2, 3\\}\n",
    "\\end{align*}\n",
    "$"
   ]
  },
  {
   "cell_type": "code",
   "execution_count": 4,
   "id": "e90c2bdf",
   "metadata": {},
   "outputs": [],
   "source": [
    "# ペナルティ関数で判定したい制約条件のリスト\n",
    "# 教材用にこちらで定義していますが。後ほど登場する「generator_config」から作れるようにした方が良いです\n",
    "cases = [\n",
    "    {\n",
    "        \"type\": \"minmax\",\n",
    "        \"case\": {0: {\"min\": 0, \"max\": 5}},\n",
    "    },\n",
    "    {\n",
    "        \"type\": \"pattern\",\n",
    "        \"case\": {1: [0, 1, 2, 3]},\n",
    "    },\n",
    "]"
   ]
  },
  {
   "cell_type": "markdown",
   "id": "83ddf6b1",
   "metadata": {},
   "source": [
    "#### 取り得るパターンの条件に対応するために、judgepatternという関数を追加しています"
   ]
  },
  {
   "cell_type": "code",
   "execution_count": 5,
   "id": "ca2d301e",
   "metadata": {},
   "outputs": [],
   "source": [
    "# ペナルティ関数で使用する関数\n",
    "# 連続値の範囲制約\n",
    "def judgeminmax(individual, case):\n",
    "    for k, v in case.items():\n",
    "        if not float(v[\"min\"]) <= individual[int(k)] <= v[\"max\"]:\n",
    "            return False\n",
    "    return True\n",
    "\n",
    "\n",
    "# 離散値の取り得るパターン制約\n",
    "def judgepattern(individual, case):\n",
    "    for k, v in case.items():\n",
    "        if individual[int(k)] not in v:\n",
    "            return False\n",
    "    return True\n",
    "\n",
    "\n",
    "# ペナルティ関数用の条件判定関数 - 他の条件が出来た時にfor文内に追記することで対応可\n",
    "def judge(individual, cases):\n",
    "    \"\"\"\n",
    "    individual(list): 個体の設計変数を格納するlist\n",
    "    cases(list): 判定したい条件のlist. 各条件はdict型\n",
    "    \"\"\"\n",
    "\n",
    "    for case in cases:\n",
    "        if case[\"type\"] == \"pattern\":\n",
    "            if not judgepattern(individual, case[\"case\"]):\n",
    "                return False\n",
    "        if case[\"type\"] == \"minmax\":\n",
    "            if not judgeminmax(individual, case[\"case\"]):\n",
    "                return False\n",
    "    return True"
   ]
  },
  {
   "cell_type": "markdown",
   "id": "585ab2e7",
   "metadata": {},
   "source": [
    "### 評価関数&ペナルティ関数の導入"
   ]
  },
  {
   "cell_type": "code",
   "execution_count": 6,
   "id": "8a6bfb94",
   "metadata": {},
   "outputs": [],
   "source": [
    "# ペナルティ関数の罰則値(適応度)\n",
    "distance = (1000, 1000)\n",
    "\n",
    "# 評価関数を作成\n",
    "toolbox = base.Toolbox()\n",
    "toolbox.register(\"evaluate\", objectfunction)\n",
    "toolbox.register(\"feasible\", judge, cases=cases)\n",
    "toolbox.decorate(\"evaluate\", tools.DeltaPenality(toolbox.feasible, delta=distance))"
   ]
  },
  {
   "cell_type": "markdown",
   "id": "fd807c84",
   "metadata": {},
   "source": [
    "# Part.3 遺伝的アルゴリズムの設計\n"
   ]
  },
  {
   "cell_type": "markdown",
   "id": "7f5118ed",
   "metadata": {},
   "source": [
    "## 遺伝的アルゴリズムにおける個体の表現"
   ]
  },
  {
   "cell_type": "code",
   "execution_count": 7,
   "id": "a1a6b0f4",
   "metadata": {},
   "outputs": [],
   "source": [
    "# 適合度を最小化することで最適化されるような適合度クラスの作成\n",
    "creator.create(\"FitnessMin\", base.Fitness, weights=(-1.0, -1.0))\n",
    "# 個体クラスIndividualを作成\n",
    "creator.create(\"Individual\", list, fitness=creator.FitnessMin)"
   ]
  },
  {
   "cell_type": "markdown",
   "id": "19b713ae",
   "metadata": {},
   "source": [
    "### 制約条件を満たした初期値設定\n",
    "\n",
    "$ \n",
    "\\begin{align*}\n",
    "&s.t.& 0& \\leqq A \\leqq 5 \\\\\n",
    "&  &B &\\in \\{0, 1, 2, 3\\}\n",
    "\\end{align*}\n",
    "$\n",
    "\n",
    "#### ※ 離散値の情報を追加しています"
   ]
  },
  {
   "cell_type": "code",
   "execution_count": 8,
   "id": "a9fb3c6f",
   "metadata": {},
   "outputs": [],
   "source": [
    "# 個体を作成する制約条件を記載したのdictを作成\n",
    "generator_config = {\n",
    "    # 使用するカラム\n",
    "    \"columns\": [\"A\", \"B\"],\n",
    "    # 各連続値の作成条件\n",
    "    \"variables\": {\n",
    "        \"A\": {\"type\": \"real\", \"values\": {\"min\": 0, \"max\": 5}},\n",
    "        \"B\": {\"type\": \"discrete\", \"values\": [0, 1, 2, 3]},\n",
    "    },\n",
    "    # 突然変異で使うカラムの指定\n",
    "    \"mutate_real_col\": [\"A\", \"B\"],\n",
    "    # 連続値のカラム\n",
    "    \"independent_real_col\": [\"A\"],\n",
    "    # 離散値のカラム\n",
    "    \"independent_discrete_col\": [\"B\"],\n",
    "}"
   ]
  },
  {
   "cell_type": "markdown",
   "id": "f5736d9b",
   "metadata": {},
   "source": [
    "### 初期サンプルの生成関数\n",
    "\n",
    "##### generator_configから、初期値を生成"
   ]
  },
  {
   "cell_type": "code",
   "execution_count": 9,
   "id": "fb488c03",
   "metadata": {},
   "outputs": [],
   "source": [
    "# 個体を生成する関数\n",
    "def generator(generator_config):\n",
    "    \"\"\"\n",
    "    generator_config (dict): 個体を作成する制約条件が記載されたdict\n",
    "    \"\"\"\n",
    "\n",
    "    var = generator_config[\"variables\"]\n",
    "    # 連続値と離散値のサンプルを生成する.\n",
    "    variables = {\n",
    "        k: random.uniform(v[\"values\"][\"min\"], v[\"values\"][\"max\"])\n",
    "        if v[\"type\"] == \"real\"\n",
    "        else random.choice(v[\"values\"])\n",
    "        for k, v in var.items()\n",
    "    }\n",
    "\n",
    "    return [variables[col] for col in generator_config[\"columns\"]]\n",
    "\n",
    "\n",
    "# [お試し]このように作成されます\n",
    "# generator(generator_config)"
   ]
  },
  {
   "cell_type": "markdown",
   "id": "29d15fba",
   "metadata": {},
   "source": [
    "#### 進化計算で使用する個体の初期サンプルを、制約条件を満たすようにランダムに生成"
   ]
  },
  {
   "cell_type": "code",
   "execution_count": 10,
   "id": "e86a030c",
   "metadata": {},
   "outputs": [],
   "source": [
    "toolbox.register(\"generator\", generator, generator_config)\n",
    "toolbox.register(\"individual\", tools.initIterate, creator.Individual, toolbox.generator)\n",
    "toolbox.register(\"population\", tools.initRepeat, list, toolbox.individual)"
   ]
  },
  {
   "cell_type": "markdown",
   "id": "b8e4856e",
   "metadata": {},
   "source": [
    "## 遺伝子操作関数\n",
    "\n",
    "#### 進化計算で重要な役割を持つ遺伝子操作を行う関数を生成\n",
    "\n",
    "- deap公式の交叉・突然変異の関数を使う\n",
    "\n",
    "### 交叉\n",
    "\n",
    "1. 交叉関数 : `cxTwoPoint` [deap公式のリンク](https://deap.readthedocs.io/en/master/api/tools.html#deap.tools.cxTwoPoint)　[github](https://github.com/DEAP/deap/blob/d328fe6b68e7528b2d2d990bb2ab1ad1786e6f58/deap/tools/crossover.py#L37)"
   ]
  },
  {
   "cell_type": "code",
   "execution_count": 11,
   "id": "a0d580a0",
   "metadata": {},
   "outputs": [],
   "source": [
    "# 交叉を行う関数\"mate\"を登録\n",
    "toolbox.register(\"mate\", tools.cxTwoPoint)"
   ]
  },
  {
   "cell_type": "markdown",
   "id": "8cbdd7bf",
   "metadata": {},
   "source": [
    "### 突然変異\n",
    "\n",
    "2. 変異関数 : `mutPolynomialBounded` [deap公式のリンク](https://deap.readthedocs.io/en/master/api/tools.html#deap.tools.mutPolynomialBounded)　[github](https://github.com/DEAP/deap/blob/d328fe6b68e7528b2d2d990bb2ab1ad1786e6f58/deap/tools/mutation.py#L51)"
   ]
  },
  {
   "cell_type": "markdown",
   "id": "a23aaed4",
   "metadata": {},
   "source": [
    "#### 各設計変数ごとに突然変異が適応できる用にする関数\n",
    "- 離散値の部分を追加しています\n",
    "- 離散値のカラム、そのindexと値を`muconfig関数`で取得"
   ]
  },
  {
   "cell_type": "code",
   "execution_count": 12,
   "id": "a66fb8c4",
   "metadata": {},
   "outputs": [],
   "source": [
    "# 突然変異用のdict作成する関数\n",
    "def muconfig(constrain_dict):\n",
    "    \"\"\"\n",
    "    constrain_dict(dict):制約条件格納dict\n",
    "    \"\"\"\n",
    "\n",
    "    cols = constrain_dict[\"columns\"]  # 現状のカラム\n",
    "    variables = constrain_dict[\"variables\"]  # min-max等、その変数の取れる値\n",
    "\n",
    "    mur = constrain_dict[\"mutate_real_col\"]  # 突然変異するカラム\n",
    "    cxr = constrain_dict[\"independent_real_col\"]  # 連続値のカラム\n",
    "    mud = constrain_dict[\"independent_discrete_col\"]  # 離散値のカラム\n",
    "\n",
    "    mu_real_index = [cols.index(c) for c in cxr if c in cols if c in mur]  # 連続値のindex\n",
    "    mu_discrete_index = [\n",
    "        cols.index(c) for c in mud if c in cols if c in mur\n",
    "    ]  # 離散値のindex\n",
    "\n",
    "    # 離散値のユニーク値を取得\n",
    "    mu_discrete_values = [variables[c][\"values\"] for c in mud if c in cols]\n",
    "\n",
    "    mu_low = [\n",
    "        constrain_dict[\"variables\"][col][\"values\"][\"min\"] for col in cxr if col in mur\n",
    "    ]  # 連続値の下限\n",
    "\n",
    "    mu_up = [\n",
    "        constrain_dict[\"variables\"][col][\"values\"][\"max\"] for col in cxr if col in mur\n",
    "    ]  # 連続値の上限\n",
    "\n",
    "    for mi, ma in zip(mu_low, mu_up):  # 上限と下限が逆転していないか？イコールになっていないか？\n",
    "        if not mi <= ma:\n",
    "            raise MutateionError(\"some low values higher than ups values\")\n",
    "\n",
    "    mucfg = {}\n",
    "    mucfg[\"real_indexs\"] = mu_real_index  # 連続値に対する設計変数のindex\n",
    "    mucfg[\"lows\"] = mu_low  # 連続値に対する設計変数の最小値\n",
    "    mucfg[\"ups\"] = mu_up  # 連続値に対する設計変数の最大値\n",
    "    mucfg[\"discrete_indexs\"] = mu_discrete_index  # 離散値・ダミー変数に対する変異を行う設計変数のindex\n",
    "    mucfg[\"discrete_values\"] = mu_discrete_values  # 離散値・ダミー変数に対する変異を行う設計変数の取りうる値\n",
    "\n",
    "    return mucfg"
   ]
  },
  {
   "cell_type": "code",
   "execution_count": 13,
   "id": "b9141c2d",
   "metadata": {},
   "outputs": [
    {
     "data": {
      "text/plain": [
       "{'real_indexs': [0],\n",
       " 'lows': [0],\n",
       " 'ups': [5],\n",
       " 'discrete_indexs': [1],\n",
       " 'discrete_values': [[0, 1, 2, 3]]}"
      ]
     },
     "execution_count": 13,
     "metadata": {},
     "output_type": "execute_result"
    }
   ],
   "source": [
    "# 突然変異用のdice作成\n",
    "mucfg = muconfig(generator_config)\n",
    "mucfg"
   ]
  },
  {
   "cell_type": "markdown",
   "id": "71ca4d19",
   "metadata": {},
   "source": [
    "#### 以下の関数も離散値に対応できるように修正"
   ]
  },
  {
   "cell_type": "code",
   "execution_count": 14,
   "id": "afcd9c46",
   "metadata": {},
   "outputs": [],
   "source": [
    "# 各変数ごとに分けて突然変異をするための関数\n",
    "def mutation(\n",
    "    individual,\n",
    "    realmut,\n",
    "    real_indexs,\n",
    "    discrete_indexs,\n",
    "    discrete_values,\n",
    "    lows,\n",
    "    ups,\n",
    "    indpb=None,\n",
    "):\n",
    "    \"\"\"\n",
    "    individual (list): 個体のlist\n",
    "    realmut(function): 親個体, lows, ups, indpbを引数にとる変異関数\n",
    "    real_index(list): 設計変数の連続値のindexのlist\n",
    "    discrete_indexs(list): 設計変数の独立な離散値のindexのlist\n",
    "    discrete_values(list): dicrete_indexsで指定した各離散値の取る値のlistのlist\n",
    "    lows (list): 連続値の最小値\n",
    "    ups(list) : 連続値の最大値\n",
    "    indpb(float): 各変数に対して変異を行うか否かの確率、デフォルト値はNone. 0 <= indpb <= 1.\n",
    "    \"\"\"\n",
    "\n",
    "    if not isinstance(real_indexs, list):\n",
    "        raise CrossoverError(\n",
    "            f'argment \"real_indexs\" must be list but inputed {type(real_indexs)}'\n",
    "        )\n",
    "\n",
    "    if not isinstance(discrete_indexs, list):\n",
    "        raise MutateionError(\n",
    "            'argment \"real_indexs\" must be list but inputed' f\" {type(discrete_indexs)}\"\n",
    "        )\n",
    "\n",
    "    if len(set(real_indexs) & set(discrete_indexs)) > 0:\n",
    "        raise MutateionError(\n",
    "            \"The continuous value index and the dummy value index\" \" are duplicated.\"\n",
    "        )\n",
    "\n",
    "    if not isinstance(lows, list):\n",
    "        raise MutateionError(f\"argment lows must be  list but {type(lows)}\")\n",
    "    if not isinstance(ups, list):\n",
    "        raise MutateionError(f\"argment ups must be  list but {type(ups)}\")\n",
    "\n",
    "    if not (len(real_indexs) == len(lows) and len(real_indexs) == len(ups)):\n",
    "        raise MutateionError(\"not match lows, ups ,or real_indexs length\")\n",
    "\n",
    "    if indpb is None:\n",
    "        indpb = 1 / (len(real_indexs) + len(discrete_indexs))\n",
    "\n",
    "    # 連続値の染色体を抽出\n",
    "    real_chromosome = [individual[i] for i in real_indexs]\n",
    "    # 変異を実施\n",
    "    real_chromosome = realmut(real_chromosome, low=lows, up=ups, indpb=indpb)[0]\n",
    "    for i, r in zip(real_indexs, real_chromosome):\n",
    "        individual[i] = r\n",
    "\n",
    "    # 離散値の染色体を抽出\n",
    "    discrete_chromosome = [individual[i] for i in discrete_indexs]\n",
    "    # 変異を実施\n",
    "    discrete_chromosome = muchoice(discrete_chromosome, discrete_values, indpb=indpb)[0]\n",
    "    # 染色体の書き換え\n",
    "    for i, d in zip(discrete_indexs, discrete_chromosome):\n",
    "        individual[i] = d\n",
    "\n",
    "    return (individual,)"
   ]
  },
  {
   "cell_type": "markdown",
   "id": "a00d6af6",
   "metadata": {},
   "source": [
    "### 突然変異で離散値を扱う場合\n",
    "- 離散値が１変数のみの場合、deap公式の関数に対応している関数が存在しなかった為、自作関数で対応する\n",
    "- その変数の取り得るパターンの中から、ランダムで選ぶ\n",
    "- 2~3変数以上の場合、Appendixにある関数を使って見てください"
   ]
  },
  {
   "cell_type": "code",
   "execution_count": 15,
   "id": "b4e43bb1",
   "metadata": {},
   "outputs": [],
   "source": [
    "# 離散値が突然変異に対応するための関数\n",
    "def muchoice(individual, patterns, indpb):\n",
    "    \"\"\"\n",
    "    individual(list):有限パターンの変数を持つlist\n",
    "    patterns(list):変数ごと取りうるユニークな値を格納\n",
    "    indpb(float):変異確率\n",
    "    \"\"\"\n",
    "\n",
    "    for (\n",
    "        i,\n",
    "        comb,\n",
    "    ) in enumerate(patterns):\n",
    "        if random.random() < indpb:\n",
    "            individual[i] = random.choice(comb)\n",
    "\n",
    "    return (individual,)"
   ]
  },
  {
   "cell_type": "code",
   "execution_count": 16,
   "id": "02690210",
   "metadata": {},
   "outputs": [],
   "source": [
    "# deapにある突然変異関数を用意\n",
    "realmut = partial(tools.mutPolynomialBounded, eta=20)\n",
    "\n",
    "# 突然変異を行う関数\"mutate\"を登録\n",
    "toolbox.register(\"mutate\", mutation, realmut=realmut, **mucfg)"
   ]
  },
  {
   "cell_type": "markdown",
   "id": "bc1caca7",
   "metadata": {},
   "source": [
    "## 解の選択（世代交代）手法\n",
    "\n",
    "#### 親個体と生成した子個体の中から良い個体を残し、悪い個体を淘汰します\n",
    "#### 今回も、NSGAⅡの選択手法を用います\n",
    "\n",
    "- [selNSGA2について_deap公式](https://deap.readthedocs.io/en/master/api/tools.html#deap.tools.selNSGA2)\n",
    "- [selNSGA2の動作ついて_github](https://github.com/DEAP/deap/blob/d328fe6b68e7528b2d2d990bb2ab1ad1786e6f58/deap/tools/emo.py#L15)"
   ]
  },
  {
   "cell_type": "code",
   "execution_count": 17,
   "id": "a9caaaae",
   "metadata": {
    "tags": []
   },
   "outputs": [],
   "source": [
    "# 個体選択法\"select\"を登録\n",
    "toolbox.register(\"select\", tools.selNSGA2)"
   ]
  },
  {
   "cell_type": "markdown",
   "id": "b4813c17",
   "metadata": {},
   "source": [
    "# Part.4 最適化計算の実行\n",
    "\n",
    "#### 初期状態の設定\n",
    "\n",
    "- 初期サンプル（第一世代）の生成\n",
    "- 適合度割当"
   ]
  },
  {
   "cell_type": "code",
   "execution_count": 18,
   "id": "1b00ed0d",
   "metadata": {
    "tags": []
   },
   "outputs": [],
   "source": [
    "random.seed(1)\n",
    "\n",
    "NGEN = 300  # 繰り返し世代数\n",
    "MU = 100  # 集団内の個体数\n",
    "CXPB = 0.9  # 交叉率\n",
    "MUTPB = 1  # 変異率\n",
    "\n",
    "# 第一世代の生成\n",
    "pop = toolbox.population(n=MU)\n",
    "pop_init = pop[:]\n",
    "\n",
    "invalid_ind = []\n",
    "for ind in pop:\n",
    "    if not ind.fitness.valid:\n",
    "        invalid_ind.append(ind)\n",
    "\n",
    "fitnesses = toolbox.map(toolbox.evaluate, invalid_ind)\n",
    "for ind, fit in zip(invalid_ind, fitnesses):\n",
    "    ind.fitness.values = fit\n",
    "pop = toolbox.select(pop, len(pop))"
   ]
  },
  {
   "cell_type": "markdown",
   "id": "74d8052c",
   "metadata": {},
   "source": [
    "#### 最適計算の実行"
   ]
  },
  {
   "cell_type": "code",
   "execution_count": 19,
   "id": "7c2411a1",
   "metadata": {
    "tags": []
   },
   "outputs": [],
   "source": [
    "# 最適計算の実行\n",
    "for gen in range(1, NGEN):\n",
    "    # 子母集団生成\n",
    "    offspring = tools.selTournamentDCD(pop, len(pop))\n",
    "    offspring = [toolbox.clone(ind) for ind in offspring]\n",
    "\n",
    "    # 交叉と突然変異\n",
    "    ## 偶数番目と奇数番目の個体を取り出し交叉\n",
    "    for ind1, ind2 in zip(offspring[::2], offspring[1::2]):\n",
    "        # 交叉させる個体を厳選\n",
    "        if random.random() <= CXPB:\n",
    "            # 交叉\n",
    "            toolbox.mate(ind1, ind2)\n",
    "\n",
    "        # 突然変異\n",
    "        if random.random() <= MUTPB:\n",
    "            toolbox.mutate(ind1)\n",
    "            toolbox.mutate(ind2)\n",
    "\n",
    "        # 交叉と突然変異させた個体は適応度を削除する\n",
    "        del ind1.fitness.values, ind2.fitness.values\n",
    "\n",
    "    # 適応度を削除した個体について適応度の再評価を行う\n",
    "    invalid_ind = []\n",
    "    for ind in offspring:\n",
    "        if not ind.fitness.valid:\n",
    "            invalid_ind.append(ind)\n",
    "\n",
    "    fitnesses = toolbox.map(toolbox.evaluate, invalid_ind)\n",
    "    for ind, fit in zip(invalid_ind, fitnesses):\n",
    "        ind.fitness.values = fit\n",
    "\n",
    "    # 次世代を選択\n",
    "    pop = toolbox.select(pop + offspring, MU)"
   ]
  },
  {
   "cell_type": "markdown",
   "id": "60f821be",
   "metadata": {},
   "source": [
    "# Part5. 結果の確認\n",
    "\n",
    "## 初期世代と最終世代の目的関数の値を確認\n",
    "\n",
    "$\n",
    "\\begin{align*}\n",
    "&Minimize& f_1 & = 4A^2 + 4B^2 \\\\\n",
    "&Minimize& f_2 & = (A - 5)^2 + (B - 5)^2\n",
    "\\end{align*}\n",
    "$"
   ]
  },
  {
   "cell_type": "code",
   "execution_count": 20,
   "id": "b8ffecbe",
   "metadata": {},
   "outputs": [
    {
     "data": {
      "image/png": "[encoded data removed]",
      "text/plain": [
       "<Figure size 432x288 with 1 Axes>"
      ]
     },
     "metadata": {
      "needs_background": "light"
     },
     "output_type": "display_data"
    }
   ],
   "source": [
    "# 目的関数の値を確認\n",
    "fitnesses_init = np.array(\n",
    "    [list(pop_init[i].fitness.values) for i in range(len(pop_init))]\n",
    ")\n",
    "fitnesses = np.array([list(pop[i].fitness.values) for i in range(len(pop))])\n",
    "# グラフで確認\n",
    "plt.plot(fitnesses_init[:, 0], fitnesses_init[:, 1], \"b.\", label=\"Initial\")  # 初期世代\n",
    "plt.plot(fitnesses[:, 0], fitnesses[:, 1], \"r.\", label=\"Optimized\")  # 最終世代\n",
    "plt.legend(loc=\"upper right\")\n",
    "plt.title(\"fitnesses\")\n",
    "# 初期の例外値が残っているのでグラフ範囲を指定\n",
    "plt.xlim(-10, 150)\n",
    "plt.ylim(0, 60)\n",
    "plt.xlabel(\"f1\")\n",
    "plt.ylabel(\"f2\")\n",
    "plt.grid(True)"
   ]
  },
  {
   "cell_type": "markdown",
   "id": "d5ecd222",
   "metadata": {
    "tags": []
   },
   "source": [
    "### ハイパーボリューム"
   ]
  },
  {
   "cell_type": "code",
   "execution_count": 21,
   "id": "e722e2d7",
   "metadata": {},
   "outputs": [
    {
     "name": "stdout",
     "output_type": "stream",
     "text": [
      "Final population hypervolume is 17970.922876\n"
     ]
    }
   ],
   "source": [
    "# 最終世代のハイパーボリュームを出力\n",
    "print(\"Final population hypervolume is %f\" % hypervolume(pop, [200.0, 100.0]))"
   ]
  },
  {
   "cell_type": "markdown",
   "id": "807e6ba0",
   "metadata": {},
   "source": [
    "# Appendix\n",
    "### 離散値が2~3変数以上存在する場合、以下のdeap公式の突然変異関数が使える"
   ]
  },
  {
   "cell_type": "markdown",
   "id": "8a6c4650",
   "metadata": {},
   "source": [
    "#### 遺伝子の中から、シャッフルをして突然変異を行う\n",
    "##### 注意\n",
    "- 離散値と連続を分けてシャッフルを行うこと\n",
    "- シャッフルをした際に、離散値の取り得るパターン外同士でシャッフルを行う場合がある"
   ]
  },
  {
   "cell_type": "code",
   "execution_count": 22,
   "id": "5ea0baa6",
   "metadata": {},
   "outputs": [
    {
     "data": {
      "text/plain": [
       "([3, 2, 4, 0],)"
      ]
     },
     "execution_count": 22,
     "metadata": {},
     "output_type": "execute_result"
    }
   ],
   "source": [
    "def mutShuffleIndexes(individual, indpb):\n",
    "    size = len(individual)\n",
    "    for i in range(size):\n",
    "        if random.random() < indpb:\n",
    "            swap_indx = random.randint(0, size - 2)\n",
    "            if swap_indx >= i:\n",
    "                swap_indx += 1\n",
    "            individual[i], individual[swap_indx] = individual[swap_indx], individual[i]\n",
    "\n",
    "    return (individual,)\n",
    "\n",
    "\n",
    "mutShuffleIndexes([0, 2, 3, 4], 0.5)"
   ]
  },
  {
   "cell_type": "markdown",
   "id": "90e6bcc9",
   "metadata": {},
   "source": [
    "#### 遺伝子のbit反転して突然変異を行う\n",
    "- ダミー変数など、0,1しかない変数に有効"
   ]
  },
  {
   "cell_type": "code",
   "execution_count": 23,
   "id": "23d26e67",
   "metadata": {},
   "outputs": [
    {
     "data": {
      "text/plain": [
       "([0, 0, 1, 0, 1],)"
      ]
     },
     "execution_count": 23,
     "metadata": {},
     "output_type": "execute_result"
    }
   ],
   "source": [
    "def mutFlipBit(individual, indpb):\n",
    "    \"\"\"Flip the value of the attributes of the input individual and return the\n",
    "    mutant. The *individual* is expected to be a :term:`sequence` and the values of the\n",
    "    attributes shall stay valid after the ``not`` operator is called on them.\n",
    "    The *indpb* argument is the probability of each attribute to be\n",
    "    flipped. This mutation is usually applied on boolean individuals.\n",
    "    :param individual: Individual to be mutated.\n",
    "    :param indpb: Independent probability for each attribute to be flipped.\n",
    "    :returns: A tuple of one individual.\n",
    "    This function uses the :func:`~random.random` function from the python base\n",
    "    :mod:`random` module.\n",
    "    \"\"\"\n",
    "    for i in range(len(individual)):\n",
    "        if random.random() < indpb:\n",
    "            individual[i] = type(individual[i])(not individual[i])\n",
    "\n",
    "    return (individual,)\n",
    "\n",
    "\n",
    "mutFlipBit([0, 0, 0, 1, 1], 0.6)"
   ]
  },
  {
   "cell_type": "code",
   "execution_count": null,
   "id": "37739a47",
   "metadata": {},
   "outputs": [],
   "source": []
  }
 ],
 "metadata": {
  "kernelspec": {
   "display_name": "Python 3 (ipykernel)",
   "language": "python",
   "name": "python3"
  },
  "language_info": {
   "codemirror_mode": {
    "name": "ipython",
    "version": 3
   },
   "file_extension": ".py",
   "mimetype": "text/x-python",
   "name": "python",
   "nbconvert_exporter": "python",
   "pygments_lexer": "ipython3",
   "version": "3.9.5"
  }
 },
 "nbformat": 4,
 "nbformat_minor": 5
}
